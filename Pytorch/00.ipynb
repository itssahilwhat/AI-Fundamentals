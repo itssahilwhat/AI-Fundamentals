{
 "cells": [
  {
   "cell_type": "code",
   "id": "initial_id",
   "metadata": {
    "collapsed": true,
    "ExecuteTime": {
     "end_time": "2025-01-16T05:03:58.860793Z",
     "start_time": "2025-01-16T05:03:58.854421Z"
    }
   },
   "source": [
    "import torch\n",
    "import pandas as pd\n",
    "import numpy as np\n",
    "import matplotlib.pyplot as plt"
   ],
   "outputs": [],
   "execution_count": 37
  },
  {
   "metadata": {},
   "cell_type": "markdown",
   "source": [
    "## Introduction to tensor\n",
    "### Creating a tensor"
   ],
   "id": "21b9c22b0b977c41"
  },
  {
   "metadata": {
    "ExecuteTime": {
     "end_time": "2025-01-16T05:04:07.434830Z",
     "start_time": "2025-01-16T05:04:07.420136Z"
    }
   },
   "cell_type": "code",
   "source": [
    "# scalar\n",
    "# A scalar is a single number and in tensor-speak it's a zero dimension tensor.\n",
    "scalar = torch.tensor(7)\n",
    "scalar"
   ],
   "id": "8a63c50e623a4e40",
   "outputs": [
    {
     "data": {
      "text/plain": [
       "tensor(7)"
      ]
     },
     "execution_count": 40,
     "metadata": {},
     "output_type": "execute_result"
    }
   ],
   "execution_count": 40
  },
  {
   "metadata": {
    "ExecuteTime": {
     "end_time": "2025-01-16T05:04:08.121526Z",
     "start_time": "2025-01-16T05:04:08.108815Z"
    }
   },
   "cell_type": "code",
   "source": "scalar.ndim",
   "id": "af1911bb8974ae02",
   "outputs": [
    {
     "data": {
      "text/plain": [
       "0"
      ]
     },
     "execution_count": 41,
     "metadata": {},
     "output_type": "execute_result"
    }
   ],
   "execution_count": 41
  },
  {
   "metadata": {
    "ExecuteTime": {
     "end_time": "2025-01-16T05:04:08.671758Z",
     "start_time": "2025-01-16T05:04:08.660898Z"
    }
   },
   "cell_type": "code",
   "source": "scalar.item()",
   "id": "cb1235178e90fabd",
   "outputs": [
    {
     "data": {
      "text/plain": [
       "7"
      ]
     },
     "execution_count": 42,
     "metadata": {},
     "output_type": "execute_result"
    }
   ],
   "execution_count": 42
  },
  {
   "metadata": {
    "ExecuteTime": {
     "end_time": "2025-01-16T05:04:09.211666Z",
     "start_time": "2025-01-16T05:04:09.202058Z"
    }
   },
   "cell_type": "code",
   "source": [
    "# vector\n",
    "# A vector is a single dimension tensor but can contain many numbers.\n",
    "vector = torch.tensor([1, 2, 3])\n",
    "vector"
   ],
   "id": "e70d994f85cd0d45",
   "outputs": [
    {
     "data": {
      "text/plain": [
       "tensor([1, 2, 3])"
      ]
     },
     "execution_count": 43,
     "metadata": {},
     "output_type": "execute_result"
    }
   ],
   "execution_count": 43
  },
  {
   "metadata": {
    "ExecuteTime": {
     "end_time": "2025-01-16T05:04:09.963283Z",
     "start_time": "2025-01-16T05:04:09.951739Z"
    }
   },
   "cell_type": "code",
   "source": "vector.ndim",
   "id": "7f3701041c66f81a",
   "outputs": [
    {
     "data": {
      "text/plain": [
       "1"
      ]
     },
     "execution_count": 44,
     "metadata": {},
     "output_type": "execute_result"
    }
   ],
   "execution_count": 44
  },
  {
   "metadata": {
    "ExecuteTime": {
     "end_time": "2025-01-16T05:04:10.779155Z",
     "start_time": "2025-01-16T05:04:10.770416Z"
    }
   },
   "cell_type": "code",
   "source": "vector.shape",
   "id": "f1044f4014037bfe",
   "outputs": [
    {
     "data": {
      "text/plain": [
       "torch.Size([3])"
      ]
     },
     "execution_count": 45,
     "metadata": {},
     "output_type": "execute_result"
    }
   ],
   "execution_count": 45
  },
  {
   "metadata": {
    "ExecuteTime": {
     "end_time": "2025-01-16T05:04:11.299897Z",
     "start_time": "2025-01-16T05:04:11.292926Z"
    }
   },
   "cell_type": "code",
   "source": [
    "# MATRIX\n",
    "# a 2-dimensional array of numbers\n",
    "MATRIX = torch.tensor([[1, 2], [3, 4]])\n",
    "MATRIX"
   ],
   "id": "477213ac02fdaaee",
   "outputs": [
    {
     "data": {
      "text/plain": [
       "tensor([[1, 2],\n",
       "        [3, 4]])"
      ]
     },
     "execution_count": 46,
     "metadata": {},
     "output_type": "execute_result"
    }
   ],
   "execution_count": 46
  },
  {
   "metadata": {
    "ExecuteTime": {
     "end_time": "2025-01-16T05:04:12.250738Z",
     "start_time": "2025-01-16T05:04:12.241903Z"
    }
   },
   "cell_type": "code",
   "source": "MATRIX.ndim",
   "id": "6ec96c07b1a7ef1",
   "outputs": [
    {
     "data": {
      "text/plain": [
       "2"
      ]
     },
     "execution_count": 47,
     "metadata": {},
     "output_type": "execute_result"
    }
   ],
   "execution_count": 47
  },
  {
   "metadata": {
    "ExecuteTime": {
     "end_time": "2025-01-16T05:04:12.859743Z",
     "start_time": "2025-01-16T05:04:12.845096Z"
    }
   },
   "cell_type": "code",
   "source": "MATRIX.shape",
   "id": "98e24b3bd9ce4015",
   "outputs": [
    {
     "data": {
      "text/plain": [
       "torch.Size([2, 2])"
      ]
     },
     "execution_count": 48,
     "metadata": {},
     "output_type": "execute_result"
    }
   ],
   "execution_count": 48
  },
  {
   "metadata": {
    "ExecuteTime": {
     "end_time": "2025-01-16T05:04:13.331500Z",
     "start_time": "2025-01-16T05:04:13.323681Z"
    }
   },
   "cell_type": "code",
   "source": "MATRIX[0]",
   "id": "d0ef9b4d5942f057",
   "outputs": [
    {
     "data": {
      "text/plain": [
       "tensor([1, 2])"
      ]
     },
     "execution_count": 49,
     "metadata": {},
     "output_type": "execute_result"
    }
   ],
   "execution_count": 49
  },
  {
   "metadata": {
    "ExecuteTime": {
     "end_time": "2025-01-16T05:04:14.152798Z",
     "start_time": "2025-01-16T05:04:14.136234Z"
    }
   },
   "cell_type": "code",
   "source": "MATRIX[0][1]",
   "id": "c2c51ec96ff9dbdc",
   "outputs": [
    {
     "data": {
      "text/plain": [
       "tensor(2)"
      ]
     },
     "execution_count": 50,
     "metadata": {},
     "output_type": "execute_result"
    }
   ],
   "execution_count": 50
  },
  {
   "metadata": {
    "ExecuteTime": {
     "end_time": "2025-01-16T05:32:41.577461Z",
     "start_time": "2025-01-16T05:32:41.569339Z"
    }
   },
   "cell_type": "code",
   "source": "torch.tensor(np.array([[1, 2, 3], [4, 5, 6]]))",
   "id": "2904896e2607e2a9",
   "outputs": [
    {
     "data": {
      "text/plain": [
       "tensor([[1, 2, 3],\n",
       "        [4, 5, 6]])"
      ]
     },
     "execution_count": 94,
     "metadata": {},
     "output_type": "execute_result"
    }
   ],
   "execution_count": 94
  },
  {
   "metadata": {
    "ExecuteTime": {
     "end_time": "2025-01-16T05:04:14.858653Z",
     "start_time": "2025-01-16T05:04:14.846455Z"
    }
   },
   "cell_type": "code",
   "source": [
    "# TENSOR\n",
    "# an n-dimensional array of numbers\n",
    "TENSOR = torch.tensor([[[1, 2, 3], [4, 5, 6]], [[7, 8, 9], [10, 11, 12]], [[13, 14, 15], [16, 17, 18]]])\n",
    "TENSOR"
   ],
   "id": "19b095f61f0ab6b0",
   "outputs": [
    {
     "data": {
      "text/plain": [
       "tensor([[[ 1,  2,  3],\n",
       "         [ 4,  5,  6]],\n",
       "\n",
       "        [[ 7,  8,  9],\n",
       "         [10, 11, 12]],\n",
       "\n",
       "        [[13, 14, 15],\n",
       "         [16, 17, 18]]])"
      ]
     },
     "execution_count": 51,
     "metadata": {},
     "output_type": "execute_result"
    }
   ],
   "execution_count": 51
  },
  {
   "metadata": {
    "ExecuteTime": {
     "end_time": "2025-01-16T05:04:15.771022Z",
     "start_time": "2025-01-16T05:04:15.762071Z"
    }
   },
   "cell_type": "code",
   "source": "TENSOR.ndim",
   "id": "e112f8c67052c2fc",
   "outputs": [
    {
     "data": {
      "text/plain": [
       "3"
      ]
     },
     "execution_count": 52,
     "metadata": {},
     "output_type": "execute_result"
    }
   ],
   "execution_count": 52
  },
  {
   "metadata": {
    "ExecuteTime": {
     "end_time": "2025-01-16T05:04:16.214425Z",
     "start_time": "2025-01-16T05:04:16.205824Z"
    }
   },
   "cell_type": "code",
   "source": "TENSOR.shape",
   "id": "372400ea6adc342f",
   "outputs": [
    {
     "data": {
      "text/plain": [
       "torch.Size([3, 2, 3])"
      ]
     },
     "execution_count": 53,
     "metadata": {},
     "output_type": "execute_result"
    }
   ],
   "execution_count": 53
  },
  {
   "metadata": {
    "ExecuteTime": {
     "end_time": "2025-01-16T05:04:16.763245Z",
     "start_time": "2025-01-16T05:04:16.748770Z"
    }
   },
   "cell_type": "code",
   "source": "TENSOR[1][1]",
   "id": "bef349f6ef61566c",
   "outputs": [
    {
     "data": {
      "text/plain": [
       "tensor([10, 11, 12])"
      ]
     },
     "execution_count": 54,
     "metadata": {},
     "output_type": "execute_result"
    }
   ],
   "execution_count": 54
  },
  {
   "metadata": {},
   "cell_type": "markdown",
   "source": [
    "### Random tensors\n",
    "why random tensors?\n",
    "Random tensors are important because the way many nn learn is that they start with tensors full of random numbers and then adjust those random numbers to better represent the data\n",
    "\n",
    "`Start with random numbers -> look at data -> update random numbers -> look at data -> update random numbers...`"
   ],
   "id": "2b622240df391d49"
  },
  {
   "metadata": {
    "ExecuteTime": {
     "end_time": "2025-01-16T05:04:18.278857Z",
     "start_time": "2025-01-16T05:04:18.271005Z"
    }
   },
   "cell_type": "code",
   "source": [
    "# Create a random tensor of size (3, 4)\n",
    "random_tensor = torch.rand(size=(3, 4))\n",
    "random_tensor, random_tensor.dtype"
   ],
   "id": "2dcbee7cf4358956",
   "outputs": [
    {
     "data": {
      "text/plain": [
       "(tensor([[0.5251, 0.6341, 0.4804, 0.8565],\n",
       "         [0.7466, 0.4002, 0.8190, 0.1843],\n",
       "         [0.6878, 0.3176, 0.0658, 0.4156]]),\n",
       " torch.float32)"
      ]
     },
     "execution_count": 55,
     "metadata": {},
     "output_type": "execute_result"
    }
   ],
   "execution_count": 55
  },
  {
   "metadata": {
    "ExecuteTime": {
     "end_time": "2025-01-16T05:04:19.189611Z",
     "start_time": "2025-01-16T05:04:19.174193Z"
    }
   },
   "cell_type": "code",
   "source": [
    "# Create a tensor of all zeros\n",
    "zeros = torch.zeros(size=(3, 4))\n",
    "zeros, zeros.dtype"
   ],
   "id": "b5463e7f57f2ce1d",
   "outputs": [
    {
     "data": {
      "text/plain": [
       "(tensor([[0., 0., 0., 0.],\n",
       "         [0., 0., 0., 0.],\n",
       "         [0., 0., 0., 0.]]),\n",
       " torch.float32)"
      ]
     },
     "execution_count": 56,
     "metadata": {},
     "output_type": "execute_result"
    }
   ],
   "execution_count": 56
  },
  {
   "metadata": {
    "ExecuteTime": {
     "end_time": "2025-01-16T05:04:19.842552Z",
     "start_time": "2025-01-16T05:04:19.833720Z"
    }
   },
   "cell_type": "code",
   "source": [
    "# Create a tensor of all ones\n",
    "ones = torch.ones(size=(3, 4))\n",
    "ones, ones.dtype"
   ],
   "id": "1b53e7df4b3359d2",
   "outputs": [
    {
     "data": {
      "text/plain": [
       "(tensor([[1., 1., 1., 1.],\n",
       "         [1., 1., 1., 1.],\n",
       "         [1., 1., 1., 1.]]),\n",
       " torch.float32)"
      ]
     },
     "execution_count": 57,
     "metadata": {},
     "output_type": "execute_result"
    }
   ],
   "execution_count": 57
  },
  {
   "metadata": {
    "ExecuteTime": {
     "end_time": "2025-01-16T05:04:20.713416Z",
     "start_time": "2025-01-16T05:04:20.705257Z"
    }
   },
   "cell_type": "code",
   "source": [
    "# Create a range of values 0 to 10\n",
    "zero_to_ten = torch.arange(start=0, end=10, step=1)\n",
    "zero_to_ten"
   ],
   "id": "4a229f59371a7882",
   "outputs": [
    {
     "data": {
      "text/plain": [
       "tensor([0, 1, 2, 3, 4, 5, 6, 7, 8, 9])"
      ]
     },
     "execution_count": 58,
     "metadata": {},
     "output_type": "execute_result"
    }
   ],
   "execution_count": 58
  },
  {
   "metadata": {
    "ExecuteTime": {
     "end_time": "2025-01-16T05:04:21.494438Z",
     "start_time": "2025-01-16T05:04:21.483298Z"
    }
   },
   "cell_type": "code",
   "source": [
    "# Can also create a tensor of zeros similar to another tensor\n",
    "ten_zeros = torch.zeros_like(input=zero_to_ten) # will have same shape\n",
    "ten_zeros"
   ],
   "id": "6eb710d9ddaecbd4",
   "outputs": [
    {
     "data": {
      "text/plain": [
       "tensor([0, 0, 0, 0, 0, 0, 0, 0, 0, 0])"
      ]
     },
     "execution_count": 59,
     "metadata": {},
     "output_type": "execute_result"
    }
   ],
   "execution_count": 59
  },
  {
   "metadata": {
    "ExecuteTime": {
     "end_time": "2025-01-16T05:04:22.373984Z",
     "start_time": "2025-01-16T05:04:22.364587Z"
    }
   },
   "cell_type": "code",
   "source": [
    "# Can also create a tensor of ones similar to another tensor\n",
    "ten_ones = torch.ones_like(input=zero_to_ten) # will have same shape\n",
    "ten_ones"
   ],
   "id": "61ed0c523dadd114",
   "outputs": [
    {
     "data": {
      "text/plain": [
       "tensor([1, 1, 1, 1, 1, 1, 1, 1, 1, 1])"
      ]
     },
     "execution_count": 60,
     "metadata": {},
     "output_type": "execute_result"
    }
   ],
   "execution_count": 60
  },
  {
   "metadata": {
    "ExecuteTime": {
     "end_time": "2025-01-16T08:29:48.114145Z",
     "start_time": "2025-01-16T08:29:48.107626Z"
    }
   },
   "cell_type": "code",
   "source": [
    "x_rand = torch.rand_like(zero_to_ten, dtype=torch.float) # overrides the datatype of x_data\n",
    "print(f\"Random Tensor: \\n {x_rand} \\n\")"
   ],
   "id": "a44777f89cf475c9",
   "outputs": [
    {
     "name": "stdout",
     "output_type": "stream",
     "text": [
      "Random Tensor: \n",
      " tensor([0.7405, 0.2529, 0.2332, 0.9314, 0.9575, 0.5575, 0.4134, 0.4355, 0.7369,\n",
      "        0.0331]) \n",
      "\n"
     ]
    }
   ],
   "execution_count": 155
  },
  {
   "metadata": {},
   "cell_type": "markdown",
   "source": "### Tensor datatypes",
   "id": "5d0fb49c47a73e44"
  },
  {
   "metadata": {
    "ExecuteTime": {
     "end_time": "2025-01-16T05:04:24.077546Z",
     "start_time": "2025-01-16T05:04:24.061146Z"
    }
   },
   "cell_type": "code",
   "source": [
    "# Default datatype for tensors is float32\n",
    "float_32_tensor = torch.tensor([3.0, 6.0, 9.0],\n",
    "                               dtype=None, # defaults to None, which is torch.float32 or whatever datatype is passed\n",
    "                               device=None, # defaults to None, which uses the default tensor type\n",
    "                               requires_grad=False) # if True, operations performed on the tensor are recorded\n",
    "\n",
    "float_32_tensor.shape, float_32_tensor.dtype, float_32_tensor.device"
   ],
   "id": "4816e97a0fb23fd2",
   "outputs": [
    {
     "data": {
      "text/plain": [
       "(torch.Size([3]), torch.float32, device(type='cpu'))"
      ]
     },
     "execution_count": 61,
     "metadata": {},
     "output_type": "execute_result"
    }
   ],
   "execution_count": 61
  },
  {
   "metadata": {
    "ExecuteTime": {
     "end_time": "2025-01-16T05:04:25.335525Z",
     "start_time": "2025-01-16T05:04:25.323671Z"
    }
   },
   "cell_type": "code",
   "source": [
    "float_16_tensor = torch.tensor([3.0, 6.0, 9.0],\n",
    "                               dtype=torch.float16) # torch.half would also work\n",
    "\n",
    "float_16_tensor.dtype"
   ],
   "id": "36dfe18eb16bc527",
   "outputs": [
    {
     "data": {
      "text/plain": [
       "torch.float16"
      ]
     },
     "execution_count": 62,
     "metadata": {},
     "output_type": "execute_result"
    }
   ],
   "execution_count": 62
  },
  {
   "metadata": {},
   "cell_type": "markdown",
   "source": [
    "#### main error\n",
    "\"what shape are my tensors? what datatype are they and where are they stored? what shape, what datatype, where where where\""
   ],
   "id": "6ed56bce566edd7d"
  },
  {
   "metadata": {
    "ExecuteTime": {
     "end_time": "2025-01-16T05:04:26.475320Z",
     "start_time": "2025-01-16T05:04:26.460411Z"
    }
   },
   "cell_type": "code",
   "source": [
    "# Create a tensor\n",
    "some_tensor = torch.rand(3, 4)\n",
    "\n",
    "# Find out details about it\n",
    "print(some_tensor)\n",
    "print(f\"Shape of tensor: {some_tensor.shape}\")\n",
    "print(f\"Datatype of tensor: {some_tensor.dtype}\")\n",
    "print(f\"Device tensor is stored on: {some_tensor.device}\") # will default to CPU"
   ],
   "id": "5ee6d9154659bd4c",
   "outputs": [
    {
     "name": "stdout",
     "output_type": "stream",
     "text": [
      "tensor([[0.6901, 0.6735, 0.4038, 0.8313],\n",
      "        [0.8765, 0.1320, 0.2665, 0.7646],\n",
      "        [0.7115, 0.9543, 0.8416, 0.8705]])\n",
      "Shape of tensor: torch.Size([3, 4])\n",
      "Datatype of tensor: torch.float32\n",
      "Device tensor is stored on: cpu\n"
     ]
    }
   ],
   "execution_count": 63
  },
  {
   "metadata": {
    "ExecuteTime": {
     "end_time": "2025-01-16T05:05:08.231998Z",
     "start_time": "2025-01-16T05:05:08.220697Z"
    }
   },
   "cell_type": "code",
   "source": [
    "# Create a tensor\n",
    "some_tensor = torch.rand(3, 4).to(device)\n",
    "\n",
    "# Find out details about it\n",
    "print(some_tensor)\n",
    "print(f\"Shape of tensor: {some_tensor.shape}\")\n",
    "print(f\"Datatype of tensor: {some_tensor.dtype}\")\n",
    "print(f\"Device tensor is stored on: {some_tensor.device}\") # will default to CPU"
   ],
   "id": "fd6f6c35ff050b88",
   "outputs": [
    {
     "name": "stdout",
     "output_type": "stream",
     "text": [
      "tensor([[0.5291, 0.7280, 0.3786, 0.1066],\n",
      "        [0.1120, 0.4209, 0.2742, 0.6800],\n",
      "        [0.8857, 0.5121, 0.7210, 0.0429]], device='cuda:0')\n",
      "Shape of tensor: torch.Size([3, 4])\n",
      "Datatype of tensor: torch.float32\n",
      "Device tensor is stored on: cuda:0\n"
     ]
    }
   ],
   "execution_count": 64
  },
  {
   "metadata": {},
   "cell_type": "markdown",
   "source": [
    "### Manipulating tensors (tensor operations)\n",
    "In deep learning, data (images, text, video, audio, protein structures, etc) gets represented as tensors."
   ],
   "id": "1dd3afcfdccfccf8"
  },
  {
   "metadata": {
    "ExecuteTime": {
     "end_time": "2025-01-16T05:06:54.324420Z",
     "start_time": "2025-01-16T05:06:54.303571Z"
    }
   },
   "cell_type": "code",
   "source": [
    "# Create a tensor of values and add a number to it\n",
    "tensor = torch.tensor([1, 2, 3])\n",
    "tensor + 10"
   ],
   "id": "f853d28fbbe568cc",
   "outputs": [
    {
     "data": {
      "text/plain": [
       "tensor([11, 12, 13])"
      ]
     },
     "execution_count": 65,
     "metadata": {},
     "output_type": "execute_result"
    }
   ],
   "execution_count": 65
  },
  {
   "metadata": {
    "ExecuteTime": {
     "end_time": "2025-01-16T05:06:59.504584Z",
     "start_time": "2025-01-16T05:06:59.492077Z"
    }
   },
   "cell_type": "code",
   "source": [
    "# Multiply it by 10\n",
    "tensor * 10"
   ],
   "id": "473fe14e6c5fe84",
   "outputs": [
    {
     "data": {
      "text/plain": [
       "tensor([10, 20, 30])"
      ]
     },
     "execution_count": 66,
     "metadata": {},
     "output_type": "execute_result"
    }
   ],
   "execution_count": 66
  },
  {
   "metadata": {
    "ExecuteTime": {
     "end_time": "2025-01-16T05:07:10.142155Z",
     "start_time": "2025-01-16T05:07:10.130707Z"
    }
   },
   "cell_type": "code",
   "source": [
    "# Tensors don't change unless reassigned\n",
    "tensor"
   ],
   "id": "64832bc08c676ab3",
   "outputs": [
    {
     "data": {
      "text/plain": [
       "tensor([1, 2, 3])"
      ]
     },
     "execution_count": 67,
     "metadata": {},
     "output_type": "execute_result"
    }
   ],
   "execution_count": 67
  },
  {
   "metadata": {
    "ExecuteTime": {
     "end_time": "2025-01-16T05:07:14.344874Z",
     "start_time": "2025-01-16T05:07:14.332243Z"
    }
   },
   "cell_type": "code",
   "source": [
    "# Subtract and reassign\n",
    "tensor = tensor - 10\n",
    "tensor"
   ],
   "id": "a95a37ba4498cfc4",
   "outputs": [
    {
     "data": {
      "text/plain": [
       "tensor([-9, -8, -7])"
      ]
     },
     "execution_count": 68,
     "metadata": {},
     "output_type": "execute_result"
    }
   ],
   "execution_count": 68
  },
  {
   "metadata": {
    "ExecuteTime": {
     "end_time": "2025-01-16T05:07:17.607515Z",
     "start_time": "2025-01-16T05:07:17.600082Z"
    }
   },
   "cell_type": "code",
   "source": [
    "# Add and reassign\n",
    "tensor = tensor + 10\n",
    "tensor"
   ],
   "id": "2c5f7a4085b20f1b",
   "outputs": [
    {
     "data": {
      "text/plain": [
       "tensor([1, 2, 3])"
      ]
     },
     "execution_count": 69,
     "metadata": {},
     "output_type": "execute_result"
    }
   ],
   "execution_count": 69
  },
  {
   "metadata": {
    "ExecuteTime": {
     "end_time": "2025-01-16T05:07:23.808135Z",
     "start_time": "2025-01-16T05:07:23.798952Z"
    }
   },
   "cell_type": "code",
   "source": [
    "# Can also use torch functions\n",
    "torch.multiply(tensor, 10)"
   ],
   "id": "6a02bc50c79468bb",
   "outputs": [
    {
     "data": {
      "text/plain": [
       "tensor([10, 20, 30])"
      ]
     },
     "execution_count": 70,
     "metadata": {},
     "output_type": "execute_result"
    }
   ],
   "execution_count": 70
  },
  {
   "metadata": {
    "ExecuteTime": {
     "end_time": "2025-01-16T05:07:28.787830Z",
     "start_time": "2025-01-16T05:07:28.775388Z"
    }
   },
   "cell_type": "code",
   "source": [
    "# Original tensor is still unchanged\n",
    "tensor"
   ],
   "id": "76e4fc6d9bc1e1cb",
   "outputs": [
    {
     "data": {
      "text/plain": [
       "tensor([1, 2, 3])"
      ]
     },
     "execution_count": 71,
     "metadata": {},
     "output_type": "execute_result"
    }
   ],
   "execution_count": 71
  },
  {
   "metadata": {
    "ExecuteTime": {
     "end_time": "2025-01-16T05:07:43.011695Z",
     "start_time": "2025-01-16T05:07:42.997870Z"
    }
   },
   "cell_type": "code",
   "source": [
    "# Element-wise multiplication (each element multiplies its equivalent, index 0->0, 1->1, 2->2)\n",
    "print(tensor, \"*\", tensor)\n",
    "print(\"Equals:\", tensor * tensor)"
   ],
   "id": "2e591180ee58c7f5",
   "outputs": [
    {
     "name": "stdout",
     "output_type": "stream",
     "text": [
      "tensor([1, 2, 3]) * tensor([1, 2, 3])\n",
      "Equals: tensor([1, 4, 9])\n"
     ]
    }
   ],
   "execution_count": 72
  },
  {
   "metadata": {
    "ExecuteTime": {
     "end_time": "2025-01-16T05:10:27.798386Z",
     "start_time": "2025-01-16T05:10:27.771641Z"
    }
   },
   "cell_type": "code",
   "source": [
    "# Matrix multiplication\n",
    "torch.matmul(tensor, tensor)"
   ],
   "id": "5c48550fc4f770b",
   "outputs": [
    {
     "data": {
      "text/plain": [
       "tensor(14)"
      ]
     },
     "execution_count": 74,
     "metadata": {},
     "output_type": "execute_result"
    }
   ],
   "execution_count": 74
  },
  {
   "metadata": {
    "ExecuteTime": {
     "end_time": "2025-01-16T05:10:32.335378Z",
     "start_time": "2025-01-16T05:10:32.324454Z"
    }
   },
   "cell_type": "code",
   "source": [
    "# Can also use the \"@\" symbol for matrix multiplication, though not recommended\n",
    "tensor @ tensor"
   ],
   "id": "31b1ea92a0d920ae",
   "outputs": [
    {
     "data": {
      "text/plain": [
       "tensor(14)"
      ]
     },
     "execution_count": 75,
     "metadata": {},
     "output_type": "execute_result"
    }
   ],
   "execution_count": 75
  },
  {
   "metadata": {},
   "cell_type": "markdown",
   "source": [
    "#### Matrix multiplication by hand\n",
    "#### (avoid doing operations with for loops at all cost, they are computationally expensive)"
   ],
   "id": "a566c0bb23cb9493"
  },
  {
   "metadata": {
    "ExecuteTime": {
     "end_time": "2025-01-16T05:12:14.655812Z",
     "start_time": "2025-01-16T05:12:14.642830Z"
    }
   },
   "cell_type": "code",
   "source": [
    "tensor_A = torch.tensor([[1, 2],\n",
    "                         [3, 4],\n",
    "                         [5, 6]], dtype=torch.float32)\n",
    "\n",
    "tensor_B = torch.tensor([[7, 10],\n",
    "                         [8, 11],\n",
    "                         [9, 12]], dtype=torch.float32)\n",
    "\n",
    "# torch.matmul(tensor_A, tensor_B) (this will error)"
   ],
   "id": "245c5bc20d3f5180",
   "outputs": [],
   "execution_count": 78
  },
  {
   "metadata": {
    "ExecuteTime": {
     "end_time": "2025-01-16T05:12:19.569558Z",
     "start_time": "2025-01-16T05:12:19.563385Z"
    }
   },
   "cell_type": "code",
   "source": [
    "# View tensor_A and tensor_B\n",
    "print(tensor_A)\n",
    "print(tensor_B)"
   ],
   "id": "5325421c1fcda653",
   "outputs": [
    {
     "name": "stdout",
     "output_type": "stream",
     "text": [
      "tensor([[1., 2.],\n",
      "        [3., 4.],\n",
      "        [5., 6.]])\n",
      "tensor([[ 7., 10.],\n",
      "        [ 8., 11.],\n",
      "        [ 9., 12.]])\n"
     ]
    }
   ],
   "execution_count": 79
  },
  {
   "metadata": {
    "ExecuteTime": {
     "end_time": "2025-01-16T05:12:25.839094Z",
     "start_time": "2025-01-16T05:12:25.811701Z"
    }
   },
   "cell_type": "code",
   "source": [
    "# View tensor_A and tensor_B.T\n",
    "print(tensor_A)\n",
    "print(tensor_B.T)"
   ],
   "id": "e04c59065a760ff1",
   "outputs": [
    {
     "name": "stdout",
     "output_type": "stream",
     "text": [
      "tensor([[1., 2.],\n",
      "        [3., 4.],\n",
      "        [5., 6.]])\n",
      "tensor([[ 7.,  8.,  9.],\n",
      "        [10., 11., 12.]])\n"
     ]
    }
   ],
   "execution_count": 80
  },
  {
   "metadata": {
    "ExecuteTime": {
     "end_time": "2025-01-16T05:12:34.193309Z",
     "start_time": "2025-01-16T05:12:34.166462Z"
    }
   },
   "cell_type": "code",
   "source": [
    "# The operation works when tensor_B is transposed\n",
    "print(f\"Original shapes: tensor_A = {tensor_A.shape}, tensor_B = {tensor_B.shape}\\n\")\n",
    "print(f\"New shapes: tensor_A = {tensor_A.shape} (same as above), tensor_B.T = {tensor_B.T.shape}\\n\")\n",
    "print(f\"Multiplying: {tensor_A.shape} * {tensor_B.T.shape} <- inner dimensions match\\n\")\n",
    "print(\"Output:\\n\")\n",
    "output = torch.matmul(tensor_A, tensor_B.T)\n",
    "print(output)\n",
    "print(f\"\\nOutput shape: {output.shape}\")"
   ],
   "id": "78174547e3b6b27e",
   "outputs": [
    {
     "name": "stdout",
     "output_type": "stream",
     "text": [
      "Original shapes: tensor_A = torch.Size([3, 2]), tensor_B = torch.Size([3, 2])\n",
      "\n",
      "New shapes: tensor_A = torch.Size([3, 2]) (same as above), tensor_B.T = torch.Size([2, 3])\n",
      "\n",
      "Multiplying: torch.Size([3, 2]) * torch.Size([2, 3]) <- inner dimensions match\n",
      "\n",
      "Output:\n",
      "\n",
      "tensor([[ 27.,  30.,  33.],\n",
      "        [ 61.,  68.,  75.],\n",
      "        [ 95., 106., 117.]])\n",
      "\n",
      "Output shape: torch.Size([3, 3])\n"
     ]
    }
   ],
   "execution_count": 81
  },
  {
   "metadata": {
    "ExecuteTime": {
     "end_time": "2025-01-16T05:13:13.016144Z",
     "start_time": "2025-01-16T05:13:12.999510Z"
    }
   },
   "cell_type": "code",
   "source": [
    "# torch.mm is a shortcut for matmul\n",
    "torch.mm(tensor_A, tensor_B.T)"
   ],
   "id": "33845d4c13ff7666",
   "outputs": [
    {
     "data": {
      "text/plain": [
       "tensor([[ 27.,  30.,  33.],\n",
       "        [ 61.,  68.,  75.],\n",
       "        [ 95., 106., 117.]])"
      ]
     },
     "execution_count": 82,
     "metadata": {},
     "output_type": "execute_result"
    }
   ],
   "execution_count": 82
  },
  {
   "metadata": {
    "ExecuteTime": {
     "end_time": "2025-01-16T05:26:20.195736Z",
     "start_time": "2025-01-16T05:26:20.182438Z"
    }
   },
   "cell_type": "code",
   "source": [
    "# Since the linear layer starts with a random weights matrix, let's make it reproducible (more on this later)\n",
    "torch.manual_seed(42)\n",
    "# This uses matrix multiplication\n",
    "linear = torch.nn.Linear(in_features=2, # in_features = matches inner dimension of input\n",
    "                         out_features=6) # out_features = describes outer value\n",
    "x = tensor_A\n",
    "output = linear(x)\n",
    "print(f\"Input shape: {x.shape}\\n\")\n",
    "print(f\"Output:\\n{output}\\n\\nOutput shape: {output.shape}\")"
   ],
   "id": "576c6b860e45c5dc",
   "outputs": [
    {
     "name": "stdout",
     "output_type": "stream",
     "text": [
      "Input shape: torch.Size([3, 2])\n",
      "\n",
      "Output:\n",
      "tensor([[2.2368, 1.2292, 0.4714, 0.3864, 0.1309, 0.9838],\n",
      "        [4.4919, 2.1970, 0.4469, 0.5285, 0.3401, 2.4777],\n",
      "        [6.7469, 3.1648, 0.4224, 0.6705, 0.5493, 3.9716]],\n",
      "       grad_fn=<AddmmBackward0>)\n",
      "\n",
      "Output shape: torch.Size([3, 6])\n"
     ]
    }
   ],
   "execution_count": 85
  },
  {
   "metadata": {},
   "cell_type": "markdown",
   "source": "### Finding the min, max, mean, sum, etc (aggregation)",
   "id": "75a3081f1f631c68"
  },
  {
   "metadata": {
    "ExecuteTime": {
     "end_time": "2025-01-16T05:28:39.860505Z",
     "start_time": "2025-01-16T05:28:39.851389Z"
    }
   },
   "cell_type": "code",
   "source": [
    "# Create a tensor\n",
    "x = torch.arange(0, 100, 10)\n",
    "x"
   ],
   "id": "d931391460ce7f95",
   "outputs": [
    {
     "data": {
      "text/plain": [
       "tensor([ 0, 10, 20, 30, 40, 50, 60, 70, 80, 90])"
      ]
     },
     "execution_count": 86,
     "metadata": {},
     "output_type": "execute_result"
    }
   ],
   "execution_count": 86
  },
  {
   "metadata": {
    "ExecuteTime": {
     "end_time": "2025-01-16T05:28:51.015531Z",
     "start_time": "2025-01-16T05:28:50.999552Z"
    }
   },
   "cell_type": "code",
   "source": [
    "print(f\"Minimum: {x.min()}\")\n",
    "print(f\"Maximum: {x.max()}\")\n",
    "# print(f\"Mean: {x.mean()}\") # this will error\n",
    "print(f\"Mean: {x.type(torch.float32).mean()}\") # won't work without float datatype\n",
    "print(f\"Sum: {x.sum()}\")"
   ],
   "id": "9635f794ada282c2",
   "outputs": [
    {
     "name": "stdout",
     "output_type": "stream",
     "text": [
      "Minimum: 0\n",
      "Maximum: 90\n",
      "Mean: 45.0\n",
      "Sum: 450\n"
     ]
    }
   ],
   "execution_count": 87
  },
  {
   "metadata": {},
   "cell_type": "markdown",
   "source": "Note: You may find some methods such as torch.mean() require tensors to be in torch.float32 (the most common) or another specific datatype, otherwise the operation will fail.",
   "id": "243bf09ff39e81f3"
  },
  {
   "metadata": {
    "ExecuteTime": {
     "end_time": "2025-01-16T05:29:19.955512Z",
     "start_time": "2025-01-16T05:29:19.946101Z"
    }
   },
   "cell_type": "code",
   "source": "torch.max(x), torch.min(x), torch.mean(x.type(torch.float32)), torch.sum(x)",
   "id": "8515167eb61ff6d4",
   "outputs": [
    {
     "data": {
      "text/plain": [
       "(tensor(90), tensor(0), tensor(45.), tensor(450))"
      ]
     },
     "execution_count": 88,
     "metadata": {},
     "output_type": "execute_result"
    }
   ],
   "execution_count": 88
  },
  {
   "metadata": {
    "ExecuteTime": {
     "end_time": "2025-01-16T05:29:44.927058Z",
     "start_time": "2025-01-16T05:29:44.906466Z"
    }
   },
   "cell_type": "code",
   "source": [
    "# Create a tensor\n",
    "tensor = torch.arange(10, 100, 10)\n",
    "print(f\"Tensor: {tensor}\")\n",
    "\n",
    "# Returns index of max and min values\n",
    "print(f\"Index where max value occurs: {tensor.argmax()}\")\n",
    "print(f\"Index where min value occurs: {tensor.argmin()}\")"
   ],
   "id": "24c4902035e17e9f",
   "outputs": [
    {
     "name": "stdout",
     "output_type": "stream",
     "text": [
      "Tensor: tensor([10, 20, 30, 40, 50, 60, 70, 80, 90])\n",
      "Index where max value occurs: 8\n",
      "Index where min value occurs: 0\n"
     ]
    }
   ],
   "execution_count": 89
  },
  {
   "metadata": {},
   "cell_type": "markdown",
   "source": "### Change tensor datatype",
   "id": "4bd4797313626bc0"
  },
  {
   "metadata": {
    "ExecuteTime": {
     "end_time": "2025-01-16T05:30:14.867599Z",
     "start_time": "2025-01-16T05:30:14.859590Z"
    }
   },
   "cell_type": "code",
   "source": [
    "# Create a tensor and check its datatype\n",
    "tensor = torch.arange(10., 100., 10.)\n",
    "tensor.dtype"
   ],
   "id": "af975c54b7ce6ffc",
   "outputs": [
    {
     "data": {
      "text/plain": [
       "torch.float32"
      ]
     },
     "execution_count": 90,
     "metadata": {},
     "output_type": "execute_result"
    }
   ],
   "execution_count": 90
  },
  {
   "metadata": {
    "ExecuteTime": {
     "end_time": "2025-01-16T05:30:31.557310Z",
     "start_time": "2025-01-16T05:30:31.544518Z"
    }
   },
   "cell_type": "code",
   "source": [
    "# Create a float16 tensor\n",
    "tensor_float16 = tensor.type(torch.float16)\n",
    "tensor_float16"
   ],
   "id": "8cbb4684286765c9",
   "outputs": [
    {
     "data": {
      "text/plain": [
       "tensor([10., 20., 30., 40., 50., 60., 70., 80., 90.], dtype=torch.float16)"
      ]
     },
     "execution_count": 91,
     "metadata": {},
     "output_type": "execute_result"
    }
   ],
   "execution_count": 91
  },
  {
   "metadata": {
    "ExecuteTime": {
     "end_time": "2025-01-16T05:30:44.804354Z",
     "start_time": "2025-01-16T05:30:44.790683Z"
    }
   },
   "cell_type": "code",
   "source": [
    "# Create an int8 tensor\n",
    "tensor_int8 = tensor.type(torch.int8)\n",
    "tensor_int8"
   ],
   "id": "bab6fb40e604418",
   "outputs": [
    {
     "data": {
      "text/plain": [
       "tensor([10, 20, 30, 40, 50, 60, 70, 80, 90], dtype=torch.int8)"
      ]
     },
     "execution_count": 92,
     "metadata": {},
     "output_type": "execute_result"
    }
   ],
   "execution_count": 92
  },
  {
   "metadata": {},
   "cell_type": "markdown",
   "source": "### Reshaping, stacking, squeezing and unsqueezing",
   "id": "b6544cfb42159258"
  },
  {
   "metadata": {
    "ExecuteTime": {
     "end_time": "2025-01-16T05:34:46.234165Z",
     "start_time": "2025-01-16T05:34:46.224174Z"
    }
   },
   "cell_type": "code",
   "source": [
    "x = torch.arange(1., 8.)\n",
    "x, x.shape"
   ],
   "id": "2f63bcd108fe4684",
   "outputs": [
    {
     "data": {
      "text/plain": [
       "(tensor([1., 2., 3., 4., 5., 6., 7.]), torch.Size([7]))"
      ]
     },
     "execution_count": 95,
     "metadata": {},
     "output_type": "execute_result"
    }
   ],
   "execution_count": 95
  },
  {
   "metadata": {
    "ExecuteTime": {
     "end_time": "2025-01-16T05:34:52.954290Z",
     "start_time": "2025-01-16T05:34:52.945612Z"
    }
   },
   "cell_type": "code",
   "source": [
    "# Add an extra dimension\n",
    "x_reshaped = x.reshape(1, 7)\n",
    "x_reshaped, x_reshaped.shape"
   ],
   "id": "b81f88e0dfa8b439",
   "outputs": [
    {
     "data": {
      "text/plain": [
       "(tensor([[1., 2., 3., 4., 5., 6., 7.]]), torch.Size([1, 7]))"
      ]
     },
     "execution_count": 96,
     "metadata": {},
     "output_type": "execute_result"
    }
   ],
   "execution_count": 96
  },
  {
   "metadata": {},
   "cell_type": "markdown",
   "source": "`torch.view` merely creates a view of the original tensor. The new tensor will always share its data with the original tensor. This means that if you change the original tensor, the reshaped tensor will change and vice versa.",
   "id": "40cb1cb08507c70c"
  },
  {
   "metadata": {
    "ExecuteTime": {
     "end_time": "2025-01-16T05:35:23.653778Z",
     "start_time": "2025-01-16T05:35:23.636716Z"
    }
   },
   "cell_type": "code",
   "source": [
    "# Change view (keeps same data as original but changes view)\n",
    "# See more: https://stackoverflow.com/a/54507446/7900723\n",
    "z = x.view(1, 7)\n",
    "z, z.shape"
   ],
   "id": "ed6e0152ef8dce6b",
   "outputs": [
    {
     "data": {
      "text/plain": [
       "(tensor([[1., 2., 3., 4., 5., 6., 7.]]), torch.Size([1, 7]))"
      ]
     },
     "execution_count": 97,
     "metadata": {},
     "output_type": "execute_result"
    }
   ],
   "execution_count": 97
  },
  {
   "metadata": {},
   "cell_type": "markdown",
   "source": "If you just want to reshape tensors, use torch.reshape. If you're also concerned about memory usage and want to ensure that the two tensors share the same data, use torch.view.",
   "id": "22bc3bea5b04afb4"
  },
  {
   "metadata": {
    "ExecuteTime": {
     "end_time": "2025-01-16T05:43:28.079226Z",
     "start_time": "2025-01-16T05:43:28.060568Z"
    }
   },
   "cell_type": "code",
   "source": [
    "# Changing z changes x\n",
    "z[:, 0] = 5\n",
    "z, x"
   ],
   "id": "21e4fe97bddbd0b9",
   "outputs": [
    {
     "data": {
      "text/plain": [
       "(tensor([[5., 2., 3., 4., 5., 6., 7.]]), tensor([5., 2., 3., 4., 5., 6., 7.]))"
      ]
     },
     "execution_count": 98,
     "metadata": {},
     "output_type": "execute_result"
    }
   ],
   "execution_count": 98
  },
  {
   "metadata": {
    "ExecuteTime": {
     "end_time": "2025-01-16T05:44:43.240796Z",
     "start_time": "2025-01-16T05:44:43.223804Z"
    }
   },
   "cell_type": "code",
   "source": [
    "# Stack tensors on top of each other\n",
    "x_stacked = torch.stack([x, x, x, x], dim=0) # try changing dim to dim=1 and see what happens\n",
    "x_stacked"
   ],
   "id": "fc21945d345ba5df",
   "outputs": [
    {
     "data": {
      "text/plain": [
       "tensor([[5., 2., 3., 4., 5., 6., 7.],\n",
       "        [5., 2., 3., 4., 5., 6., 7.],\n",
       "        [5., 2., 3., 4., 5., 6., 7.],\n",
       "        [5., 2., 3., 4., 5., 6., 7.]])"
      ]
     },
     "execution_count": 101,
     "metadata": {},
     "output_type": "execute_result"
    }
   ],
   "execution_count": 101
  },
  {
   "metadata": {
    "ExecuteTime": {
     "end_time": "2025-01-16T05:54:48.493234Z",
     "start_time": "2025-01-16T05:54:48.475870Z"
    }
   },
   "cell_type": "code",
   "source": [
    "print(f\"Previous tensor: {x_reshaped}\")\n",
    "print(f\"Previous shape: {x_reshaped.shape}\")\n",
    "\n",
    "# Remove extra dimension from x_reshaped\n",
    "x_squeezed = x_reshaped.squeeze()\n",
    "print(f\"\\nNew tensor: {x_squeezed}\")\n",
    "print(f\"New shape: {x_squeezed.shape}\")"
   ],
   "id": "a20edb47b4811a70",
   "outputs": [
    {
     "name": "stdout",
     "output_type": "stream",
     "text": [
      "Previous tensor: tensor([[5., 2., 3., 4., 5., 6., 7.]])\n",
      "Previous shape: torch.Size([1, 7])\n",
      "\n",
      "New tensor: tensor([5., 2., 3., 4., 5., 6., 7.])\n",
      "New shape: torch.Size([7])\n"
     ]
    }
   ],
   "execution_count": 102
  },
  {
   "metadata": {
    "ExecuteTime": {
     "end_time": "2025-01-16T05:55:15.369044Z",
     "start_time": "2025-01-16T05:55:15.361125Z"
    }
   },
   "cell_type": "code",
   "source": [
    "print(f\"Previous tensor: {x_squeezed}\")\n",
    "print(f\"Previous shape: {x_squeezed.shape}\")\n",
    "\n",
    "## Add an extra dimension with unsqueeze\n",
    "x_unsqueezed = x_squeezed.unsqueeze(dim=0)\n",
    "print(f\"\\nNew tensor: {x_unsqueezed}\")\n",
    "print(f\"New shape: {x_unsqueezed.shape}\")"
   ],
   "id": "803ed5047f72d15c",
   "outputs": [
    {
     "name": "stdout",
     "output_type": "stream",
     "text": [
      "Previous tensor: tensor([5., 2., 3., 4., 5., 6., 7.])\n",
      "Previous shape: torch.Size([7])\n",
      "\n",
      "New tensor: tensor([[5., 2., 3., 4., 5., 6., 7.]])\n",
      "New shape: torch.Size([1, 7])\n"
     ]
    }
   ],
   "execution_count": 103
  },
  {
   "metadata": {
    "ExecuteTime": {
     "end_time": "2025-01-16T05:55:48.008066Z",
     "start_time": "2025-01-16T05:55:48.000304Z"
    }
   },
   "cell_type": "code",
   "source": [
    "# Create tensor with specific shape\n",
    "x_original = torch.rand(size=(224, 224, 3))\n",
    "\n",
    "# Permute the original tensor to rearrange the axis order\n",
    "x_permuted = x_original.permute(2, 0, 1) # shifts axis 0->1, 1->2, 2->0\n",
    "\n",
    "print(f\"Previous shape: {x_original.shape}\")\n",
    "print(f\"New shape: {x_permuted.shape}\")"
   ],
   "id": "920a81cfac933e5c",
   "outputs": [
    {
     "name": "stdout",
     "output_type": "stream",
     "text": [
      "Previous shape: torch.Size([224, 224, 3])\n",
      "New shape: torch.Size([3, 224, 224])\n"
     ]
    }
   ],
   "execution_count": 104
  },
  {
   "metadata": {},
   "cell_type": "markdown",
   "source": "### Indexing (selecting data from tensors)",
   "id": "980a589fdc943d18"
  },
  {
   "metadata": {
    "ExecuteTime": {
     "end_time": "2025-01-16T05:56:39.107677Z",
     "start_time": "2025-01-16T05:56:39.097443Z"
    }
   },
   "cell_type": "code",
   "source": [
    "x = torch.arange(1, 10).reshape(1, 3, 3)\n",
    "x, x.shape"
   ],
   "id": "2f3e6cf272b05183",
   "outputs": [
    {
     "data": {
      "text/plain": [
       "(tensor([[[1, 2, 3],\n",
       "          [4, 5, 6],\n",
       "          [7, 8, 9]]]),\n",
       " torch.Size([1, 3, 3]))"
      ]
     },
     "execution_count": 105,
     "metadata": {},
     "output_type": "execute_result"
    }
   ],
   "execution_count": 105
  },
  {
   "metadata": {
    "ExecuteTime": {
     "end_time": "2025-01-16T05:56:49.639874Z",
     "start_time": "2025-01-16T05:56:49.628651Z"
    }
   },
   "cell_type": "code",
   "source": [
    "# Let's index bracket by bracket\n",
    "print(f\"First square bracket:\\n{x[0]}\")\n",
    "print(f\"Second square bracket: {x[0][0]}\")\n",
    "print(f\"Third square bracket: {x[0][0][0]}\")"
   ],
   "id": "ee633e2a132a6f4d",
   "outputs": [
    {
     "name": "stdout",
     "output_type": "stream",
     "text": [
      "First square bracket:\n",
      "tensor([[1, 2, 3],\n",
      "        [4, 5, 6],\n",
      "        [7, 8, 9]])\n",
      "Second square bracket: tensor([1, 2, 3])\n",
      "Third square bracket: 1\n"
     ]
    }
   ],
   "execution_count": 106
  },
  {
   "metadata": {
    "ExecuteTime": {
     "end_time": "2025-01-16T05:57:26.916695Z",
     "start_time": "2025-01-16T05:57:26.910798Z"
    }
   },
   "cell_type": "code",
   "source": [
    "# Get all values of 0th dimension and the 0 index of 1st dimension\n",
    "x[:, 0]"
   ],
   "id": "260f8c6396d922c0",
   "outputs": [
    {
     "data": {
      "text/plain": [
       "tensor([[1, 2, 3]])"
      ]
     },
     "execution_count": 107,
     "metadata": {},
     "output_type": "execute_result"
    }
   ],
   "execution_count": 107
  },
  {
   "metadata": {
    "ExecuteTime": {
     "end_time": "2025-01-16T05:57:47.531134Z",
     "start_time": "2025-01-16T05:57:47.520506Z"
    }
   },
   "cell_type": "code",
   "source": [
    "# Get all values of 0th & 1st dimensions but only index 1 of 2nd dimension\n",
    "x[:, :, 1]"
   ],
   "id": "213dd27b113ea996",
   "outputs": [
    {
     "data": {
      "text/plain": [
       "tensor([[2, 5, 8]])"
      ]
     },
     "execution_count": 108,
     "metadata": {},
     "output_type": "execute_result"
    }
   ],
   "execution_count": 108
  },
  {
   "metadata": {
    "ExecuteTime": {
     "end_time": "2025-01-16T05:58:15.040900Z",
     "start_time": "2025-01-16T05:58:15.034008Z"
    }
   },
   "cell_type": "code",
   "source": [
    "# Get all values of the 0 dimension but only the 1 index value of the 1st and 2nd dimension\n",
    "x[:, 1, 1]"
   ],
   "id": "55ed4188015414d3",
   "outputs": [
    {
     "data": {
      "text/plain": [
       "tensor([5])"
      ]
     },
     "execution_count": 109,
     "metadata": {},
     "output_type": "execute_result"
    }
   ],
   "execution_count": 109
  },
  {
   "metadata": {
    "ExecuteTime": {
     "end_time": "2025-01-16T05:58:31.042861Z",
     "start_time": "2025-01-16T05:58:31.036115Z"
    }
   },
   "cell_type": "code",
   "source": [
    "# Get index 0 of 0th and 1st dimension and all values of 2nd dimension\n",
    "x[0, 0, :] # same as x[0][0]"
   ],
   "id": "ed17ce4ae8f720a9",
   "outputs": [
    {
     "data": {
      "text/plain": [
       "tensor([1, 2, 3])"
      ]
     },
     "execution_count": 110,
     "metadata": {},
     "output_type": "execute_result"
    }
   ],
   "execution_count": 110
  },
  {
   "metadata": {},
   "cell_type": "markdown",
   "source": "### PyTorch tensors & NumPy",
   "id": "2537bd45d4956d86"
  },
  {
   "metadata": {
    "ExecuteTime": {
     "end_time": "2025-01-16T05:59:44.616366Z",
     "start_time": "2025-01-16T05:59:44.594431Z"
    }
   },
   "cell_type": "code",
   "source": [
    "array = np.arange(1.0, 8.0)\n",
    "tensor = torch.from_numpy(array)  # or torch.tensor(array)\n",
    "array, tensor"
   ],
   "id": "43ad1b04d7cc249d",
   "outputs": [
    {
     "data": {
      "text/plain": [
       "(array([1., 2., 3., 4., 5., 6., 7.]),\n",
       " tensor([1., 2., 3., 4., 5., 6., 7.], dtype=torch.float64))"
      ]
     },
     "execution_count": 111,
     "metadata": {},
     "output_type": "execute_result"
    }
   ],
   "execution_count": 111
  },
  {
   "metadata": {},
   "cell_type": "markdown",
   "source": [
    "Note: By default, NumPy arrays are created with the datatype float64 and if you convert it to a PyTorch tensor, it'll keep the same datatype (as above).\n",
    "\n",
    "However, many PyTorch calculations default to using float32.\n",
    "\n",
    "So if you want to convert your NumPy array (float64) -> PyTorch tensor (float64) -> PyTorch tensor (float32), you can use `tensor = torch.from_numpy(array).type(torch.float32)`."
   ],
   "id": "5b17d801fc0273ca"
  },
  {
   "metadata": {
    "ExecuteTime": {
     "end_time": "2025-01-16T06:00:45.071703Z",
     "start_time": "2025-01-16T06:00:45.060038Z"
    }
   },
   "cell_type": "code",
   "source": [
    "# Change the array, keep the tensor\n",
    "array = array + 1\n",
    "array, tensor"
   ],
   "id": "4cebb18fa8816414",
   "outputs": [
    {
     "data": {
      "text/plain": [
       "(array([2., 3., 4., 5., 6., 7., 8.]),\n",
       " tensor([1., 2., 3., 4., 5., 6., 7.], dtype=torch.float64))"
      ]
     },
     "execution_count": 112,
     "metadata": {},
     "output_type": "execute_result"
    }
   ],
   "execution_count": 112
  },
  {
   "metadata": {
    "ExecuteTime": {
     "end_time": "2025-01-16T06:01:11.056957Z",
     "start_time": "2025-01-16T06:01:11.039026Z"
    }
   },
   "cell_type": "code",
   "source": [
    "# Tensor to NumPy array\n",
    "tensor = torch.ones(7) # create a tensor of ones with dtype=float32\n",
    "numpy_tensor = tensor.numpy() # will be dtype=float32 unless changed\n",
    "tensor, numpy_tensor"
   ],
   "id": "8df6bd239324f39d",
   "outputs": [
    {
     "data": {
      "text/plain": [
       "(tensor([1., 1., 1., 1., 1., 1., 1.]),\n",
       " array([1., 1., 1., 1., 1., 1., 1.], dtype=float32))"
      ]
     },
     "execution_count": 113,
     "metadata": {},
     "output_type": "execute_result"
    }
   ],
   "execution_count": 113
  },
  {
   "metadata": {
    "ExecuteTime": {
     "end_time": "2025-01-16T06:01:17.225374Z",
     "start_time": "2025-01-16T06:01:17.214001Z"
    }
   },
   "cell_type": "code",
   "source": [
    "# Change the tensor, keep the array the same\n",
    "tensor = tensor + 1\n",
    "tensor, numpy_tensor"
   ],
   "id": "1f9ed2ed7876f17c",
   "outputs": [
    {
     "data": {
      "text/plain": [
       "(tensor([2., 2., 2., 2., 2., 2., 2.]),\n",
       " array([1., 1., 1., 1., 1., 1., 1.], dtype=float32))"
      ]
     },
     "execution_count": 114,
     "metadata": {},
     "output_type": "execute_result"
    }
   ],
   "execution_count": 114
  },
  {
   "metadata": {},
   "cell_type": "markdown",
   "source": [
    "neural networks start with random numbers to describe patterns in data (these numbers are poor descriptions) and try to improve those random numbers using tensor operations (and a few other things we haven't discussed yet) to better describe patterns in data.\n",
    "\n",
    "In short:\n",
    "\n",
    "start with random numbers -> tensor operations -> try to make better (again and again and again)"
   ],
   "id": "718b805e3e37fe17"
  },
  {
   "metadata": {},
   "cell_type": "markdown",
   "source": "### Reproducibility (trying to take the random out of random)",
   "id": "c7d8c2fc07e95ca7"
  },
  {
   "metadata": {
    "ExecuteTime": {
     "end_time": "2025-01-16T06:16:39.914188Z",
     "start_time": "2025-01-16T06:16:39.896719Z"
    }
   },
   "cell_type": "code",
   "source": [
    "# Create two random tensors\n",
    "random_tensor_A = torch.rand(3, 4)\n",
    "random_tensor_B = torch.rand(3, 4)\n",
    "\n",
    "print(f\"Tensor A:\\n{random_tensor_A}\\n\")\n",
    "print(f\"Tensor B:\\n{random_tensor_B}\\n\")\n",
    "print(f\"Does Tensor A equal Tensor B? (anywhere)\")\n",
    "random_tensor_A == random_tensor_B"
   ],
   "id": "e553d92ad2bb4d5f",
   "outputs": [
    {
     "name": "stdout",
     "output_type": "stream",
     "text": [
      "Tensor A:\n",
      "tensor([[0.8016, 0.3649, 0.6286, 0.9663],\n",
      "        [0.7687, 0.4566, 0.5745, 0.9200],\n",
      "        [0.3230, 0.8613, 0.0919, 0.3102]])\n",
      "\n",
      "Tensor B:\n",
      "tensor([[0.9536, 0.6002, 0.0351, 0.6826],\n",
      "        [0.3743, 0.5220, 0.1336, 0.9666],\n",
      "        [0.9754, 0.8474, 0.8988, 0.1105]])\n",
      "\n",
      "Does Tensor A equal Tensor B? (anywhere)\n"
     ]
    },
    {
     "data": {
      "text/plain": [
       "tensor([[False, False, False, False],\n",
       "        [False, False, False, False],\n",
       "        [False, False, False, False]])"
      ]
     },
     "execution_count": 115,
     "metadata": {},
     "output_type": "execute_result"
    }
   ],
   "execution_count": 115
  },
  {
   "metadata": {
    "ExecuteTime": {
     "end_time": "2025-01-16T06:18:14.520723Z",
     "start_time": "2025-01-16T06:18:14.508418Z"
    }
   },
   "cell_type": "code",
   "source": [
    "# # Set the random seed\n",
    "RANDOM_SEED=42 # try changing this to different values and see what happens to the numbers below\n",
    "torch.manual_seed(seed=RANDOM_SEED)\n",
    "random_tensor_C = torch.rand(3, 4)\n",
    "\n",
    "# Have to reset the seed every time a new rand() is called\n",
    "# Without this, tensor_D would be different to tensor_C\n",
    "torch.random.manual_seed(seed=RANDOM_SEED) # try commenting this line out and seeing what happens\n",
    "random_tensor_D = torch.rand(3, 4)\n",
    "\n",
    "print(f\"Tensor C:\\n{random_tensor_C}\\n\")\n",
    "print(f\"Tensor D:\\n{random_tensor_D}\\n\")\n",
    "print(f\"Does Tensor C equal Tensor D? (anywhere)\")\n",
    "random_tensor_C == random_tensor_D"
   ],
   "id": "e2d6482654ca54b3",
   "outputs": [
    {
     "name": "stdout",
     "output_type": "stream",
     "text": [
      "Tensor C:\n",
      "tensor([[0.8823, 0.9150, 0.3829, 0.9593],\n",
      "        [0.3904, 0.6009, 0.2566, 0.7936],\n",
      "        [0.9408, 0.1332, 0.9346, 0.5936]])\n",
      "\n",
      "Tensor D:\n",
      "tensor([[0.8823, 0.9150, 0.3829, 0.9593],\n",
      "        [0.3904, 0.6009, 0.2566, 0.7936],\n",
      "        [0.9408, 0.1332, 0.9346, 0.5936]])\n",
      "\n",
      "Does Tensor C equal Tensor D? (anywhere)\n"
     ]
    },
    {
     "data": {
      "text/plain": [
       "tensor([[True, True, True, True],\n",
       "        [True, True, True, True],\n",
       "        [True, True, True, True]])"
      ]
     },
     "execution_count": 119,
     "metadata": {},
     "output_type": "execute_result"
    }
   ],
   "execution_count": 119
  },
  {
   "metadata": {},
   "cell_type": "markdown",
   "source": "### Running tensors on GPUs (and making faster computations)",
   "id": "5384f06bd882f415"
  },
  {
   "metadata": {
    "ExecuteTime": {
     "end_time": "2025-01-16T06:22:36.875722Z",
     "start_time": "2025-01-16T06:22:36.702725Z"
    }
   },
   "cell_type": "code",
   "source": "!nvidia-smi",
   "id": "2f09f247b504127c",
   "outputs": [
    {
     "name": "stdout",
     "output_type": "stream",
     "text": [
      "Thu Jan 16 11:52:36 2025       \n",
      "+-----------------------------------------------------------------------------------------+\n",
      "| NVIDIA-SMI 566.36                 Driver Version: 566.36         CUDA Version: 12.7     |\n",
      "|-----------------------------------------+------------------------+----------------------+\n",
      "| GPU  Name                  Driver-Model | Bus-Id          Disp.A | Volatile Uncorr. ECC |\n",
      "| Fan  Temp   Perf          Pwr:Usage/Cap |           Memory-Usage | GPU-Util  Compute M. |\n",
      "|                                         |                        |               MIG M. |\n",
      "|=========================================+========================+======================|\n",
      "|   0  NVIDIA GeForce RTX 3050 ...  WDDM  |   00000000:01:00.0 Off |                  N/A |\n",
      "| N/A   45C    P8              3W /   30W |     326MiB /   4096MiB |      0%      Default |\n",
      "|                                         |                        |                  N/A |\n",
      "+-----------------------------------------+------------------------+----------------------+\n",
      "                                                                                         \n",
      "+-----------------------------------------------------------------------------------------+\n",
      "| Processes:                                                                              |\n",
      "|  GPU   GI   CI        PID   Type   Process name                              GPU Memory |\n",
      "|        ID   ID                                                               Usage      |\n",
      "|=========================================================================================|\n",
      "|    0   N/A  N/A      2204    C+G   ...Brave-Browser\\Application\\brave.exe      N/A      |\n",
      "|    0   N/A  N/A      7276    C+G   ...CBS_cw5n1h2txyewy\\TextInputHost.exe      N/A      |\n",
      "|    0   N/A  N/A      9864    C+G   ...n\\131.0.2903.112\\msedgewebview2.exe      N/A      |\n",
      "|    0   N/A  N/A     11368    C+G   ...nt.CBS_cw5n1h2txyewy\\SearchHost.exe      N/A      |\n",
      "|    0   N/A  N/A     11416    C+G   ...2txyewy\\StartMenuExperienceHost.exe      N/A      |\n",
      "|    0   N/A  N/A     13200    C+G   ...ekyb3d8bbwe\\PhoneExperienceHost.exe      N/A      |\n",
      "|    0   N/A  N/A     13832    C+G   ...t.LockApp_cw5n1h2txyewy\\LockApp.exe      N/A      |\n",
      "|    0   N/A  N/A     15208      C   C:\\Anaconda3\\envs\\newenv\\python.exe         N/A      |\n",
      "|    0   N/A  N/A     17120    C+G   ...n\\131.0.2903.112\\msedgewebview2.exe      N/A      |\n",
      "|    0   N/A  N/A     18396    C+G   C:\\Windows\\System32\\ShellHost.exe           N/A      |\n",
      "|    0   N/A  N/A     19488    C+G   ...Brave-Browser\\Application\\brave.exe      N/A      |\n",
      "|    0   N/A  N/A     21812    C+G   ...6.0_x64__cv1g1gvanyjgm\\WhatsApp.exe      N/A      |\n",
      "+-----------------------------------------------------------------------------------------+\n"
     ]
    }
   ],
   "execution_count": 120
  },
  {
   "metadata": {
    "ExecuteTime": {
     "end_time": "2025-01-16T06:24:43.894985Z",
     "start_time": "2025-01-16T06:24:43.886339Z"
    }
   },
   "cell_type": "code",
   "source": [
    "if torch.cuda.is_available():\n",
    "    device = \"cuda\" # Use NVIDIA GPU (if available)\n",
    "elif torch.backends.mps.is_available():\n",
    "    device = \"mps\" # Use Apple Silicon GPU (if available)\n",
    "else:\n",
    "    device = \"cpu\" # Default to CPU if no GPU is available\n",
    "device"
   ],
   "id": "a8e718dda81ba16a",
   "outputs": [
    {
     "data": {
      "text/plain": [
       "'cuda'"
      ]
     },
     "execution_count": 125,
     "metadata": {},
     "output_type": "execute_result"
    }
   ],
   "execution_count": 125
  },
  {
   "metadata": {
    "ExecuteTime": {
     "end_time": "2025-01-16T06:23:51.299203Z",
     "start_time": "2025-01-16T06:23:51.291186Z"
    }
   },
   "cell_type": "code",
   "source": "torch.cuda.device_count()",
   "id": "496a7ac0e639ea73",
   "outputs": [
    {
     "data": {
      "text/plain": [
       "1"
      ]
     },
     "execution_count": 122,
     "metadata": {},
     "output_type": "execute_result"
    }
   ],
   "execution_count": 122
  },
  {
   "metadata": {
    "ExecuteTime": {
     "end_time": "2025-01-16T06:24:24.739628Z",
     "start_time": "2025-01-16T06:24:24.730537Z"
    }
   },
   "cell_type": "code",
   "source": "torch.backends.mps.is_available() # Note this will print false if you're not running on a Mac",
   "id": "5ce94edc0c63f277",
   "outputs": [
    {
     "data": {
      "text/plain": [
       "False"
      ]
     },
     "execution_count": 123,
     "metadata": {},
     "output_type": "execute_result"
    }
   ],
   "execution_count": 123
  },
  {
   "metadata": {
    "ExecuteTime": {
     "end_time": "2025-01-16T06:25:44.735862Z",
     "start_time": "2025-01-16T06:25:44.722978Z"
    }
   },
   "cell_type": "code",
   "source": [
    "# Create tensor (default on CPU)\n",
    "tensor = torch.tensor([1, 2, 3])\n",
    "\n",
    "# Tensor not on GPU\n",
    "print(tensor, tensor.device)\n",
    "\n",
    "# Move tensor to GPU (if available)\n",
    "tensor_on_gpu = tensor.to(device)\n",
    "tensor_on_gpu"
   ],
   "id": "9424f5b1ed2125d6",
   "outputs": [
    {
     "name": "stdout",
     "output_type": "stream",
     "text": [
      "tensor([1, 2, 3]) cpu\n"
     ]
    },
    {
     "data": {
      "text/plain": [
       "tensor([1, 2, 3], device='cuda:0')"
      ]
     },
     "execution_count": 126,
     "metadata": {},
     "output_type": "execute_result"
    }
   ],
   "execution_count": 126
  },
  {
   "metadata": {},
   "cell_type": "markdown",
   "source": "Notice the second tensor has device='cuda:0', this means it's stored on the 0th GPU available (GPUs are 0 indexed, if two GPUs were available, they'd be 'cuda:0' and 'cuda:1' respectively, up to 'cuda:n').",
   "id": "3e77676e3c4fd4dc"
  },
  {
   "metadata": {},
   "cell_type": "markdown",
   "source": "#### Moving tensors back to the CPU",
   "id": "78874d0746aa5466"
  },
  {
   "metadata": {
    "ExecuteTime": {
     "end_time": "2025-01-16T06:26:40.254387Z",
     "start_time": "2025-01-16T06:26:40.226096Z"
    }
   },
   "cell_type": "code",
   "source": [
    "# If tensor is on GPU, can't transform it to NumPy (this will error)\n",
    "tensor_on_gpu.numpy()"
   ],
   "id": "59a7e97fba6dc3bd",
   "outputs": [
    {
     "ename": "TypeError",
     "evalue": "can't convert cuda:0 device type tensor to numpy. Use Tensor.cpu() to copy the tensor to host memory first.",
     "output_type": "error",
     "traceback": [
      "\u001B[1;31m---------------------------------------------------------------------------\u001B[0m",
      "\u001B[1;31mTypeError\u001B[0m                                 Traceback (most recent call last)",
      "Cell \u001B[1;32mIn[127], line 2\u001B[0m\n\u001B[0;32m      1\u001B[0m \u001B[38;5;66;03m# If tensor is on GPU, can't transform it to NumPy (this will error)\u001B[39;00m\n\u001B[1;32m----> 2\u001B[0m tensor_on_gpu\u001B[38;5;241m.\u001B[39mnumpy()\n",
      "\u001B[1;31mTypeError\u001B[0m: can't convert cuda:0 device type tensor to numpy. Use Tensor.cpu() to copy the tensor to host memory first."
     ]
    }
   ],
   "execution_count": 127
  },
  {
   "metadata": {
    "ExecuteTime": {
     "end_time": "2025-01-16T06:27:06.817332Z",
     "start_time": "2025-01-16T06:27:06.805480Z"
    }
   },
   "cell_type": "code",
   "source": [
    "# Instead, copy the tensor back to cpu\n",
    "tensor_back_on_cpu = tensor_on_gpu.cpu().numpy()\n",
    "tensor_back_on_cpu"
   ],
   "id": "38cde2659b21a09a",
   "outputs": [
    {
     "data": {
      "text/plain": [
       "array([1, 2, 3])"
      ]
     },
     "execution_count": 128,
     "metadata": {},
     "output_type": "execute_result"
    }
   ],
   "execution_count": 128
  },
  {
   "metadata": {},
   "cell_type": "markdown",
   "source": "## Exercise",
   "id": "f11f405d00aa66ce"
  },
  {
   "metadata": {
    "ExecuteTime": {
     "end_time": "2025-01-16T06:29:02.254707Z",
     "start_time": "2025-01-16T06:29:02.245368Z"
    }
   },
   "cell_type": "code",
   "source": [
    "A = torch.rand(size=(7, 7))\n",
    "A"
   ],
   "id": "25cac0494e40ecd3",
   "outputs": [
    {
     "data": {
      "text/plain": [
       "tensor([[0.1587, 0.6542, 0.3278, 0.6532, 0.3958, 0.9147, 0.2036],\n",
       "        [0.2018, 0.2018, 0.9497, 0.6666, 0.9811, 0.0874, 0.0041],\n",
       "        [0.1088, 0.1637, 0.7025, 0.6790, 0.9155, 0.2418, 0.1591],\n",
       "        [0.7653, 0.2979, 0.8035, 0.3813, 0.7860, 0.1115, 0.2477],\n",
       "        [0.6524, 0.6057, 0.3725, 0.7980, 0.8399, 0.1374, 0.2331],\n",
       "        [0.9578, 0.3313, 0.3227, 0.0162, 0.2137, 0.6249, 0.4340],\n",
       "        [0.1371, 0.5117, 0.1585, 0.0758, 0.2247, 0.0624, 0.1816]])"
      ]
     },
     "execution_count": 130,
     "metadata": {},
     "output_type": "execute_result"
    }
   ],
   "execution_count": 130
  },
  {
   "metadata": {
    "ExecuteTime": {
     "end_time": "2025-01-16T06:29:16.264465Z",
     "start_time": "2025-01-16T06:29:16.249585Z"
    }
   },
   "cell_type": "code",
   "source": [
    "B = torch.rand(size=(1, 7))\n",
    "B"
   ],
   "id": "ec8646e7a36f210b",
   "outputs": [
    {
     "data": {
      "text/plain": [
       "tensor([[0.9998, 0.5944, 0.6541, 0.0337, 0.1716, 0.3336, 0.5782]])"
      ]
     },
     "execution_count": 131,
     "metadata": {},
     "output_type": "execute_result"
    }
   ],
   "execution_count": 131
  },
  {
   "metadata": {
    "ExecuteTime": {
     "end_time": "2025-01-16T06:29:33.680994Z",
     "start_time": "2025-01-16T06:29:33.667982Z"
    }
   },
   "cell_type": "code",
   "source": "torch.matmul(A, B.T)",
   "id": "32efce832d08d8c1",
   "outputs": [
    {
     "data": {
      "text/plain": [
       "tensor([[1.2748],\n",
       "        [1.1652],\n",
       "        [1.0182],\n",
       "        [1.7959],\n",
       "        [1.6076],\n",
       "        [1.8623],\n",
       "        [0.7118]])"
      ]
     },
     "execution_count": 132,
     "metadata": {},
     "output_type": "execute_result"
    }
   ],
   "execution_count": 132
  },
  {
   "metadata": {
    "ExecuteTime": {
     "end_time": "2025-01-16T06:30:35.272645Z",
     "start_time": "2025-01-16T06:30:35.251380Z"
    }
   },
   "cell_type": "code",
   "source": [
    "torch.manual_seed(0)\n",
    "A = torch.rand(size=(7, 7))\n",
    "B = torch.rand(size=(1, 7))\n",
    "torch.matmul(A, B.T)"
   ],
   "id": "16b7f8cc19ac660",
   "outputs": [
    {
     "data": {
      "text/plain": [
       "tensor([[1.8542],\n",
       "        [1.9611],\n",
       "        [2.2884],\n",
       "        [3.0481],\n",
       "        [1.7067],\n",
       "        [2.5290],\n",
       "        [1.7989]])"
      ]
     },
     "execution_count": 135,
     "metadata": {},
     "output_type": "execute_result"
    }
   ],
   "execution_count": 135
  },
  {
   "metadata": {
    "ExecuteTime": {
     "end_time": "2025-01-16T06:33:29.539124Z",
     "start_time": "2025-01-16T06:33:29.532924Z"
    }
   },
   "cell_type": "code",
   "source": "torch.cuda.manual_seed(1234)",
   "id": "de954dbdddfb91c",
   "outputs": [],
   "execution_count": 136
  },
  {
   "metadata": {
    "ExecuteTime": {
     "end_time": "2025-01-16T06:35:40.115402Z",
     "start_time": "2025-01-16T06:35:40.096553Z"
    }
   },
   "cell_type": "code",
   "source": [
    "torch.manual_seed(1234)\n",
    "C = torch.rand(size=(2, 3), device=device)\n",
    "print(\"C: \", C)\n",
    "torch.manual_seed(1234)\n",
    "D = torch.rand(size=(2, 3), device=device)\n",
    "print(\"D: \", D)"
   ],
   "id": "24916b4df35f816e",
   "outputs": [
    {
     "name": "stdout",
     "output_type": "stream",
     "text": [
      "C:  tensor([[0.1272, 0.8167, 0.5440],\n",
      "        [0.6601, 0.2721, 0.9737]], device='cuda:0')\n",
      "D:  tensor([[0.1272, 0.8167, 0.5440],\n",
      "        [0.6601, 0.2721, 0.9737]], device='cuda:0')\n"
     ]
    }
   ],
   "execution_count": 138
  },
  {
   "metadata": {
    "ExecuteTime": {
     "end_time": "2025-01-16T06:39:22.071542Z",
     "start_time": "2025-01-16T06:39:22.062502Z"
    }
   },
   "cell_type": "code",
   "source": "result = torch.mm(C, D.T).cpu().numpy()",
   "id": "6fc0d81c57e7f97a",
   "outputs": [],
   "execution_count": 145
  },
  {
   "metadata": {
    "ExecuteTime": {
     "end_time": "2025-01-16T06:39:22.962990Z",
     "start_time": "2025-01-16T06:39:22.948636Z"
    }
   },
   "cell_type": "code",
   "source": [
    "print(\"Min:\", result.min())\n",
    "print(\"Max:\", result.max())\n",
    "print(\"Argmin:\", result.argmin())\n",
    "print(\"Argmax:\", result.argmax())"
   ],
   "id": "e2d2b3cfe283531e",
   "outputs": [
    {
     "name": "stdout",
     "output_type": "stream",
     "text": [
      "Min: 0.83584094\n",
      "Max: 1.4577525\n",
      "Argmin: 1\n",
      "Argmax: 3\n"
     ]
    }
   ],
   "execution_count": 146
  },
  {
   "metadata": {
    "ExecuteTime": {
     "end_time": "2025-01-16T06:42:47.803683Z",
     "start_time": "2025-01-16T06:42:47.778291Z"
    }
   },
   "cell_type": "code",
   "source": [
    "torch.manual_seed(7)\n",
    "random_tensor = torch.rand(size=(1, 1, 1, 10))\n",
    "squeezed = random_tensor.squeeze()\n",
    "\n",
    "print(f\"Random tensor: {random_tensor}\")\n",
    "print(f\"Random tensor shape: {random_tensor.shape}\")\n",
    "print(f\"Squeezed tensor: {squeezed}\")\n",
    "print(f\"Squeezed tensor shape: {squeezed.shape}\")"
   ],
   "id": "f99e910b4dae1a84",
   "outputs": [
    {
     "name": "stdout",
     "output_type": "stream",
     "text": [
      "Random tensor: tensor([[[[0.5349, 0.1988, 0.6592, 0.6569, 0.2328, 0.4251, 0.2071, 0.6297,\n",
      "           0.3653, 0.8513]]]])\n",
      "Random tensor shape: torch.Size([1, 1, 1, 10])\n",
      "Squeezed tensor: tensor([0.5349, 0.1988, 0.6592, 0.6569, 0.2328, 0.4251, 0.2071, 0.6297, 0.3653,\n",
      "        0.8513])\n",
      "Squeezed tensor shape: torch.Size([10])\n"
     ]
    }
   ],
   "execution_count": 148
  },
  {
   "metadata": {},
   "cell_type": "markdown",
   "source": "### Extras",
   "id": "6628dfa514448c8c"
  },
  {
   "metadata": {
    "ExecuteTime": {
     "end_time": "2025-01-16T08:27:32.348722Z",
     "start_time": "2025-01-16T08:27:32.335318Z"
    }
   },
   "cell_type": "code",
   "source": "tensor",
   "id": "ba70d268fc4b60f",
   "outputs": [
    {
     "data": {
      "text/plain": [
       "tensor([1, 2, 3])"
      ]
     },
     "execution_count": 149,
     "metadata": {},
     "output_type": "execute_result"
    }
   ],
   "execution_count": 149
  },
  {
   "metadata": {
    "ExecuteTime": {
     "end_time": "2025-01-16T08:27:47.398289Z",
     "start_time": "2025-01-16T08:27:47.387679Z"
    }
   },
   "cell_type": "code",
   "source": [
    "t1 = torch.cat([tensor, tensor, tensor], dim=0)\n",
    "print(t1)"
   ],
   "id": "2bfe9d179a55c2a8",
   "outputs": [
    {
     "name": "stdout",
     "output_type": "stream",
     "text": [
      "tensor([1, 2, 3, 1, 2, 3, 1, 2, 3])\n"
     ]
    }
   ],
   "execution_count": 151
  },
  {
   "metadata": {
    "ExecuteTime": {
     "end_time": "2025-01-16T08:30:38.705752Z",
     "start_time": "2025-01-16T08:30:38.700599Z"
    }
   },
   "cell_type": "code",
   "source": [
    "agg = tensor.sum()\n",
    "agg_item = agg.item()\n",
    "print(agg_item, type(agg_item))"
   ],
   "id": "fd56c530a55634b",
   "outputs": [
    {
     "name": "stdout",
     "output_type": "stream",
     "text": [
      "6 <class 'int'>\n"
     ]
    }
   ],
   "execution_count": 156
  },
  {
   "metadata": {},
   "cell_type": "markdown",
   "source": [
    "In-place operations Operations that store the result into the operand are called in-place.\n",
    "They are denoted by a _ suffix. For example: x.copy_(y), x.t_(), will change x."
   ],
   "id": "a57294fe213fe338"
  },
  {
   "metadata": {
    "ExecuteTime": {
     "end_time": "2025-01-16T08:31:36.318141Z",
     "start_time": "2025-01-16T08:31:36.306735Z"
    }
   },
   "cell_type": "code",
   "source": [
    "print(f\"{tensor} \\n\")\n",
    "tensor.add_(5)\n",
    "print(tensor)"
   ],
   "id": "62cc549fa43e3d20",
   "outputs": [
    {
     "name": "stdout",
     "output_type": "stream",
     "text": [
      "tensor([1, 2, 3]) \n",
      "\n",
      "tensor([6, 7, 8])\n"
     ]
    }
   ],
   "execution_count": 157
  },
  {
   "metadata": {},
   "cell_type": "code",
   "outputs": [],
   "execution_count": null,
   "source": "",
   "id": "b7bbd5f3e68f8cd0"
  }
 ],
 "metadata": {
  "kernelspec": {
   "display_name": "Python 3",
   "language": "python",
   "name": "python3"
  },
  "language_info": {
   "codemirror_mode": {
    "name": "ipython",
    "version": 2
   },
   "file_extension": ".py",
   "mimetype": "text/x-python",
   "name": "python",
   "nbconvert_exporter": "python",
   "pygments_lexer": "ipython2",
   "version": "2.7.6"
  }
 },
 "nbformat": 4,
 "nbformat_minor": 5
}
