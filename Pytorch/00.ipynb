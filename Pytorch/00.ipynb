{
 "cells": [
  {
   "cell_type": "code",
   "id": "initial_id",
   "metadata": {
    "collapsed": true,
    "ExecuteTime": {
     "end_time": "2025-01-16T04:11:42.336609Z",
     "start_time": "2025-01-16T04:11:39.395977Z"
    }
   },
   "source": [
    "import torch\n",
    "import pandas as pd\n",
    "import numpy as np\n",
    "import matplotlib.pyplot as plt"
   ],
   "outputs": [],
   "execution_count": 4
  },
  {
   "metadata": {},
   "cell_type": "markdown",
   "source": [
    "## Introduction to tensor\n",
    "### Creating a tensor"
   ],
   "id": "21b9c22b0b977c41"
  },
  {
   "metadata": {
    "ExecuteTime": {
     "end_time": "2025-01-16T04:11:43.025765Z",
     "start_time": "2025-01-16T04:11:43.001611Z"
    }
   },
   "cell_type": "code",
   "source": [
    "# scalar\n",
    "# A scalar is a single number and in tensor-speak it's a zero dimension tensor.\n",
    "scalar = torch.tensor(7)\n",
    "scalar"
   ],
   "id": "8a63c50e623a4e40",
   "outputs": [
    {
     "data": {
      "text/plain": [
       "tensor(7)"
      ]
     },
     "execution_count": 5,
     "metadata": {},
     "output_type": "execute_result"
    }
   ],
   "execution_count": 5
  },
  {
   "metadata": {
    "ExecuteTime": {
     "end_time": "2025-01-16T04:12:52.965757Z",
     "start_time": "2025-01-16T04:12:52.958607Z"
    }
   },
   "cell_type": "code",
   "source": "scalar.ndim",
   "id": "af1911bb8974ae02",
   "outputs": [
    {
     "data": {
      "text/plain": [
       "0"
      ]
     },
     "execution_count": 6,
     "metadata": {},
     "output_type": "execute_result"
    }
   ],
   "execution_count": 6
  },
  {
   "metadata": {
    "ExecuteTime": {
     "end_time": "2025-01-16T04:13:00.671351Z",
     "start_time": "2025-01-16T04:13:00.661823Z"
    }
   },
   "cell_type": "code",
   "source": "scalar.item()",
   "id": "cb1235178e90fabd",
   "outputs": [
    {
     "data": {
      "text/plain": [
       "7"
      ]
     },
     "execution_count": 7,
     "metadata": {},
     "output_type": "execute_result"
    }
   ],
   "execution_count": 7
  },
  {
   "metadata": {
    "ExecuteTime": {
     "end_time": "2025-01-16T04:13:12.393516Z",
     "start_time": "2025-01-16T04:13:12.385785Z"
    }
   },
   "cell_type": "code",
   "source": [
    "# vector\n",
    "# A vector is a single dimension tensor but can contain many numbers.\n",
    "vector = torch.tensor([1, 2, 3])\n",
    "vector"
   ],
   "id": "e70d994f85cd0d45",
   "outputs": [
    {
     "data": {
      "text/plain": [
       "tensor([1, 2, 3])"
      ]
     },
     "execution_count": 8,
     "metadata": {},
     "output_type": "execute_result"
    }
   ],
   "execution_count": 8
  },
  {
   "metadata": {
    "ExecuteTime": {
     "end_time": "2025-01-16T04:13:31.899804Z",
     "start_time": "2025-01-16T04:13:31.887435Z"
    }
   },
   "cell_type": "code",
   "source": "vector.ndim",
   "id": "7f3701041c66f81a",
   "outputs": [
    {
     "data": {
      "text/plain": [
       "1"
      ]
     },
     "execution_count": 9,
     "metadata": {},
     "output_type": "execute_result"
    }
   ],
   "execution_count": 9
  },
  {
   "metadata": {
    "ExecuteTime": {
     "end_time": "2025-01-16T04:13:48.364295Z",
     "start_time": "2025-01-16T04:13:48.355799Z"
    }
   },
   "cell_type": "code",
   "source": "vector.shape",
   "id": "f1044f4014037bfe",
   "outputs": [
    {
     "data": {
      "text/plain": [
       "torch.Size([3])"
      ]
     },
     "execution_count": 12,
     "metadata": {},
     "output_type": "execute_result"
    }
   ],
   "execution_count": 12
  },
  {
   "metadata": {
    "ExecuteTime": {
     "end_time": "2025-01-16T04:14:05.546463Z",
     "start_time": "2025-01-16T04:14:05.535631Z"
    }
   },
   "cell_type": "code",
   "source": [
    "# MATRIX\n",
    "# a 2-dimensional array of numbers\n",
    "MATRIX = torch.tensor([[1, 2], [3, 4]])\n",
    "MATRIX"
   ],
   "id": "477213ac02fdaaee",
   "outputs": [
    {
     "data": {
      "text/plain": [
       "tensor([[1, 2],\n",
       "        [3, 4]])"
      ]
     },
     "execution_count": 13,
     "metadata": {},
     "output_type": "execute_result"
    }
   ],
   "execution_count": 13
  },
  {
   "metadata": {
    "ExecuteTime": {
     "end_time": "2025-01-16T04:14:08.159412Z",
     "start_time": "2025-01-16T04:14:08.149342Z"
    }
   },
   "cell_type": "code",
   "source": "MATRIX.ndim",
   "id": "6ec96c07b1a7ef1",
   "outputs": [
    {
     "data": {
      "text/plain": [
       "2"
      ]
     },
     "execution_count": 14,
     "metadata": {},
     "output_type": "execute_result"
    }
   ],
   "execution_count": 14
  },
  {
   "metadata": {
    "ExecuteTime": {
     "end_time": "2025-01-16T04:14:10.157386Z",
     "start_time": "2025-01-16T04:14:10.146038Z"
    }
   },
   "cell_type": "code",
   "source": "MATRIX.shape",
   "id": "98e24b3bd9ce4015",
   "outputs": [
    {
     "data": {
      "text/plain": [
       "torch.Size([2, 2])"
      ]
     },
     "execution_count": 15,
     "metadata": {},
     "output_type": "execute_result"
    }
   ],
   "execution_count": 15
  },
  {
   "metadata": {
    "ExecuteTime": {
     "end_time": "2025-01-16T04:14:31.252016Z",
     "start_time": "2025-01-16T04:14:31.241246Z"
    }
   },
   "cell_type": "code",
   "source": "MATRIX[0]",
   "id": "d0ef9b4d5942f057",
   "outputs": [
    {
     "data": {
      "text/plain": [
       "tensor([1, 2])"
      ]
     },
     "execution_count": 16,
     "metadata": {},
     "output_type": "execute_result"
    }
   ],
   "execution_count": 16
  },
  {
   "metadata": {
    "ExecuteTime": {
     "end_time": "2025-01-16T04:14:41.414131Z",
     "start_time": "2025-01-16T04:14:41.397715Z"
    }
   },
   "cell_type": "code",
   "source": "MATRIX[0][1]",
   "id": "c2c51ec96ff9dbdc",
   "outputs": [
    {
     "data": {
      "text/plain": [
       "tensor(2)"
      ]
     },
     "execution_count": 17,
     "metadata": {},
     "output_type": "execute_result"
    }
   ],
   "execution_count": 17
  },
  {
   "metadata": {
    "ExecuteTime": {
     "end_time": "2025-01-16T04:15:02.233041Z",
     "start_time": "2025-01-16T04:15:02.217296Z"
    }
   },
   "cell_type": "code",
   "source": [
    "# TENSOR\n",
    "# an n-dimensional array of numbers\n",
    "TENSOR = torch.tensor([[[1, 2, 3], [4, 5, 6]], [[7, 8, 9], [10, 11, 12]], [[13, 14, 15], [16, 17, 18]]])\n",
    "TENSOR"
   ],
   "id": "19b095f61f0ab6b0",
   "outputs": [
    {
     "data": {
      "text/plain": [
       "tensor([[[ 1,  2,  3],\n",
       "         [ 4,  5,  6]],\n",
       "\n",
       "        [[ 7,  8,  9],\n",
       "         [10, 11, 12]],\n",
       "\n",
       "        [[13, 14, 15],\n",
       "         [16, 17, 18]]])"
      ]
     },
     "execution_count": 19,
     "metadata": {},
     "output_type": "execute_result"
    }
   ],
   "execution_count": 19
  },
  {
   "metadata": {
    "ExecuteTime": {
     "end_time": "2025-01-16T04:15:09.554945Z",
     "start_time": "2025-01-16T04:15:09.545636Z"
    }
   },
   "cell_type": "code",
   "source": "TENSOR.ndim",
   "id": "e112f8c67052c2fc",
   "outputs": [
    {
     "data": {
      "text/plain": [
       "3"
      ]
     },
     "execution_count": 20,
     "metadata": {},
     "output_type": "execute_result"
    }
   ],
   "execution_count": 20
  },
  {
   "metadata": {
    "ExecuteTime": {
     "end_time": "2025-01-16T04:15:10.822482Z",
     "start_time": "2025-01-16T04:15:10.815879Z"
    }
   },
   "cell_type": "code",
   "source": "TENSOR.shape",
   "id": "372400ea6adc342f",
   "outputs": [
    {
     "data": {
      "text/plain": [
       "torch.Size([3, 2, 3])"
      ]
     },
     "execution_count": 21,
     "metadata": {},
     "output_type": "execute_result"
    }
   ],
   "execution_count": 21
  },
  {
   "metadata": {
    "ExecuteTime": {
     "end_time": "2025-01-16T04:17:15.645877Z",
     "start_time": "2025-01-16T04:17:15.638712Z"
    }
   },
   "cell_type": "code",
   "source": "TENSOR[1][1]",
   "id": "bef349f6ef61566c",
   "outputs": [
    {
     "data": {
      "text/plain": [
       "tensor([10, 11, 12])"
      ]
     },
     "execution_count": 24,
     "metadata": {},
     "output_type": "execute_result"
    }
   ],
   "execution_count": 24
  },
  {
   "metadata": {},
   "cell_type": "markdown",
   "source": [
    "### Random tensors\n",
    "why random tensors?\n",
    "Random tensors are important because the way many nn learn is that they start with tensors full of random numbers and then adjust those random numbers to better represent the data\n",
    "\n",
    "`Start with random numbers -> look at data -> update random numbers -> look at data -> update random numbers...`"
   ],
   "id": "2b622240df391d49"
  },
  {
   "metadata": {
    "ExecuteTime": {
     "end_time": "2025-01-16T04:50:33.019782Z",
     "start_time": "2025-01-16T04:50:32.997135Z"
    }
   },
   "cell_type": "code",
   "source": [
    "# Create a random tensor of size (3, 4)\n",
    "random_tensor = torch.rand(size=(3, 4))\n",
    "random_tensor, random_tensor.dtype"
   ],
   "id": "2dcbee7cf4358956",
   "outputs": [
    {
     "data": {
      "text/plain": [
       "(tensor([[0.7080, 0.9643, 0.5736, 0.6728],\n",
       "         [0.1126, 0.4442, 0.6924, 0.5076],\n",
       "         [0.2172, 0.4922, 0.5798, 0.8224]]),\n",
       " torch.float32)"
      ]
     },
     "execution_count": 25,
     "metadata": {},
     "output_type": "execute_result"
    }
   ],
   "execution_count": 25
  },
  {
   "metadata": {
    "ExecuteTime": {
     "end_time": "2025-01-16T04:51:15.248766Z",
     "start_time": "2025-01-16T04:51:15.227271Z"
    }
   },
   "cell_type": "code",
   "source": [
    "# Create a tensor of all zeros\n",
    "zeros = torch.zeros(size=(3, 4))\n",
    "zeros, zeros.dtype"
   ],
   "id": "b5463e7f57f2ce1d",
   "outputs": [
    {
     "data": {
      "text/plain": [
       "(tensor([[0., 0., 0., 0.],\n",
       "         [0., 0., 0., 0.],\n",
       "         [0., 0., 0., 0.]]),\n",
       " torch.float32)"
      ]
     },
     "execution_count": 26,
     "metadata": {},
     "output_type": "execute_result"
    }
   ],
   "execution_count": 26
  },
  {
   "metadata": {
    "ExecuteTime": {
     "end_time": "2025-01-16T04:51:21.320888Z",
     "start_time": "2025-01-16T04:51:21.304572Z"
    }
   },
   "cell_type": "code",
   "source": [
    "# Create a tensor of all ones\n",
    "ones = torch.ones(size=(3, 4))\n",
    "ones, ones.dtype"
   ],
   "id": "1b53e7df4b3359d2",
   "outputs": [
    {
     "data": {
      "text/plain": [
       "(tensor([[1., 1., 1., 1.],\n",
       "         [1., 1., 1., 1.],\n",
       "         [1., 1., 1., 1.]]),\n",
       " torch.float32)"
      ]
     },
     "execution_count": 27,
     "metadata": {},
     "output_type": "execute_result"
    }
   ],
   "execution_count": 27
  },
  {
   "metadata": {
    "ExecuteTime": {
     "end_time": "2025-01-16T04:51:57.332864Z",
     "start_time": "2025-01-16T04:51:57.311407Z"
    }
   },
   "cell_type": "code",
   "source": [
    "# Create a range of values 0 to 10\n",
    "zero_to_ten = torch.arange(start=0, end=10, step=1)\n",
    "zero_to_ten"
   ],
   "id": "4a229f59371a7882",
   "outputs": [
    {
     "data": {
      "text/plain": [
       "tensor([0, 1, 2, 3, 4, 5, 6, 7, 8, 9])"
      ]
     },
     "execution_count": 28,
     "metadata": {},
     "output_type": "execute_result"
    }
   ],
   "execution_count": 28
  },
  {
   "metadata": {
    "ExecuteTime": {
     "end_time": "2025-01-16T04:52:38.976712Z",
     "start_time": "2025-01-16T04:52:38.965436Z"
    }
   },
   "cell_type": "code",
   "source": [
    "# Can also create a tensor of zeros similar to another tensor\n",
    "ten_zeros = torch.zeros_like(input=zero_to_ten) # will have same shape\n",
    "ten_zeros"
   ],
   "id": "6eb710d9ddaecbd4",
   "outputs": [
    {
     "data": {
      "text/plain": [
       "tensor([0, 0, 0, 0, 0, 0, 0, 0, 0, 0])"
      ]
     },
     "execution_count": 29,
     "metadata": {},
     "output_type": "execute_result"
    }
   ],
   "execution_count": 29
  },
  {
   "metadata": {
    "ExecuteTime": {
     "end_time": "2025-01-16T04:52:52.547977Z",
     "start_time": "2025-01-16T04:52:52.534371Z"
    }
   },
   "cell_type": "code",
   "source": [
    "# Can also create a tensor of ones similar to another tensor\n",
    "ten_ones = torch.ones_like(input=zero_to_ten) # will have same shape\n",
    "ten_ones"
   ],
   "id": "61ed0c523dadd114",
   "outputs": [
    {
     "data": {
      "text/plain": [
       "tensor([1, 1, 1, 1, 1, 1, 1, 1, 1, 1])"
      ]
     },
     "execution_count": 30,
     "metadata": {},
     "output_type": "execute_result"
    }
   ],
   "execution_count": 30
  },
  {
   "metadata": {},
   "cell_type": "markdown",
   "source": "### Tensor datatypes",
   "id": "5d0fb49c47a73e44"
  },
  {
   "metadata": {
    "ExecuteTime": {
     "end_time": "2025-01-16T04:58:48.322424Z",
     "start_time": "2025-01-16T04:58:48.144399Z"
    }
   },
   "cell_type": "code",
   "source": [
    "# Default datatype for tensors is float32\n",
    "float_32_tensor = torch.tensor([3.0, 6.0, 9.0],\n",
    "                               dtype=None, # defaults to None, which is torch.float32 or whatever datatype is passed\n",
    "                               device=None, # defaults to None, which uses the default tensor type\n",
    "                               requires_grad=False) # if True, operations performed on the tensor are recorded\n",
    "\n",
    "float_32_tensor.shape, float_32_tensor.dtype, float_32_tensor.device"
   ],
   "id": "4816e97a0fb23fd2",
   "outputs": [
    {
     "data": {
      "text/plain": [
       "(torch.Size([3]), torch.float32, device(type='cuda', index=0))"
      ]
     },
     "execution_count": 33,
     "metadata": {},
     "output_type": "execute_result"
    }
   ],
   "execution_count": 33
  },
  {
   "metadata": {
    "ExecuteTime": {
     "end_time": "2025-01-16T04:59:37.205394Z",
     "start_time": "2025-01-16T04:59:37.195399Z"
    }
   },
   "cell_type": "code",
   "source": [
    "float_16_tensor = torch.tensor([3.0, 6.0, 9.0],\n",
    "                               dtype=torch.float16) # torch.half would also work\n",
    "\n",
    "float_16_tensor.dtype"
   ],
   "id": "36dfe18eb16bc527",
   "outputs": [
    {
     "data": {
      "text/plain": [
       "torch.float16"
      ]
     },
     "execution_count": 34,
     "metadata": {},
     "output_type": "execute_result"
    }
   ],
   "execution_count": 34
  },
  {
   "metadata": {},
   "cell_type": "code",
   "outputs": [],
   "execution_count": null,
   "source": "torch.cuda.",
   "id": "5ee6d9154659bd4c"
  }
 ],
 "metadata": {
  "kernelspec": {
   "display_name": "Python 3",
   "language": "python",
   "name": "python3"
  },
  "language_info": {
   "codemirror_mode": {
    "name": "ipython",
    "version": 2
   },
   "file_extension": ".py",
   "mimetype": "text/x-python",
   "name": "python",
   "nbconvert_exporter": "python",
   "pygments_lexer": "ipython2",
   "version": "2.7.6"
  }
 },
 "nbformat": 4,
 "nbformat_minor": 5
}
