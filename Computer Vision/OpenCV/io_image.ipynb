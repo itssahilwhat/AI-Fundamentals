{
 "cells": [
  {
   "cell_type": "code",
   "id": "initial_id",
   "metadata": {
    "collapsed": true,
    "ExecuteTime": {
     "end_time": "2025-05-24T14:59:58.880537Z",
     "start_time": "2025-05-24T14:59:57.703653Z"
    }
   },
   "source": [
    "import os\n",
    "import cv2"
   ],
   "outputs": [],
   "execution_count": 1
  },
  {
   "metadata": {},
   "cell_type": "code",
   "outputs": [],
   "execution_count": null,
   "source": [
    "image_path = os.path.join('.', 'data', 'bird.jpg')\n",
    "img = cv2.imread(image_path)\n",
    "cv2.imshow('Bird', img)\n",
    "cv2.waitKey(0)\n",
    "cv2"
   ],
   "id": "b81b87073bd2d1d3"
  }
 ],
 "metadata": {
  "kernelspec": {
   "display_name": "Python 3",
   "language": "python",
   "name": "python3"
  },
  "language_info": {
   "codemirror_mode": {
    "name": "ipython",
    "version": 2
   },
   "file_extension": ".py",
   "mimetype": "text/x-python",
   "name": "python",
   "nbconvert_exporter": "python",
   "pygments_lexer": "ipython2",
   "version": "2.7.6"
  }
 },
 "nbformat": 4,
 "nbformat_minor": 5
}
