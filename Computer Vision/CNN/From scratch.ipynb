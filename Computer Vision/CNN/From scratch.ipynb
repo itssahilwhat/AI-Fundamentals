{
 "cells": [
  {
   "cell_type": "code",
   "id": "initial_id",
   "metadata": {
    "collapsed": true,
    "ExecuteTime": {
     "end_time": "2025-05-24T05:28:31.206615Z",
     "start_time": "2025-05-24T05:28:31.202186Z"
    }
   },
   "source": "import numpy as np",
   "outputs": [],
   "execution_count": 10
  },
  {
   "metadata": {
    "ExecuteTime": {
     "end_time": "2025-05-24T10:20:43.880879Z",
     "start_time": "2025-05-24T10:20:43.863777Z"
    }
   },
   "cell_type": "code",
   "source": [
    "def conv2d(input, kernel):\n",
    "    H, W = input.shape\n",
    "    KH, KW = kernel.shape\n",
    "    out_H = H - KH + 1\n",
    "    out_W = W - KW + 1\n",
    "    output = np.zeros((out_H, out_W))\n",
    "\n",
    "    for i in range(out_H):\n",
    "        for j in range(out_W):\n",
    "            patch = input[i:i+KH, j:j+KW]\n",
    "            conv_value = np.sum(patch * kernel)\n",
    "            output[i, j] = conv_value\n",
    "            print(f\"Patch at ({i},{j}):\\n{patch}\")\n",
    "            print(f\"Convolved value: {conv_value}\\n\")\n",
    "\n",
    "    relu_output = np.maximum(output, 0)\n",
    "    print(f\"Final Output after ReLU:\\n{relu_output}\")\n",
    "    return relu_output\n",
    "\n",
    "\n",
    "x = np.arange(25).reshape(5, 5)\n",
    "\n",
    "k = np.array([\n",
    "    [1, 0, -1],\n",
    "    [1, 0, -1],\n",
    "    [1, 0, -1]\n",
    "])\n",
    "\n",
    "conv2d(x, k)"
   ],
   "id": "ad815b643e82e8cd",
   "outputs": [
    {
     "name": "stdout",
     "output_type": "stream",
     "text": [
      "Patch at (0,0):\n",
      "[[ 0  1  2]\n",
      " [ 5  6  7]\n",
      " [10 11 12]]\n",
      "Convolved value: -6\n",
      "\n",
      "Patch at (0,1):\n",
      "[[ 1  2  3]\n",
      " [ 6  7  8]\n",
      " [11 12 13]]\n",
      "Convolved value: -6\n",
      "\n",
      "Patch at (0,2):\n",
      "[[ 2  3  4]\n",
      " [ 7  8  9]\n",
      " [12 13 14]]\n",
      "Convolved value: -6\n",
      "\n",
      "Patch at (1,0):\n",
      "[[ 5  6  7]\n",
      " [10 11 12]\n",
      " [15 16 17]]\n",
      "Convolved value: -6\n",
      "\n",
      "Patch at (1,1):\n",
      "[[ 6  7  8]\n",
      " [11 12 13]\n",
      " [16 17 18]]\n",
      "Convolved value: -6\n",
      "\n",
      "Patch at (1,2):\n",
      "[[ 7  8  9]\n",
      " [12 13 14]\n",
      " [17 18 19]]\n",
      "Convolved value: -6\n",
      "\n",
      "Patch at (2,0):\n",
      "[[10 11 12]\n",
      " [15 16 17]\n",
      " [20 21 22]]\n",
      "Convolved value: -6\n",
      "\n",
      "Patch at (2,1):\n",
      "[[11 12 13]\n",
      " [16 17 18]\n",
      " [21 22 23]]\n",
      "Convolved value: -6\n",
      "\n",
      "Patch at (2,2):\n",
      "[[12 13 14]\n",
      " [17 18 19]\n",
      " [22 23 24]]\n",
      "Convolved value: -6\n",
      "\n",
      "Final Output after ReLU:\n",
      "[[0. 0. 0.]\n",
      " [0. 0. 0.]\n",
      " [0. 0. 0.]]\n"
     ]
    },
    {
     "data": {
      "text/plain": [
       "array([[0., 0., 0.],\n",
       "       [0., 0., 0.],\n",
       "       [0., 0., 0.]])"
      ]
     },
     "execution_count": 31,
     "metadata": {},
     "output_type": "execute_result"
    }
   ],
   "execution_count": 31
  },
  {
   "metadata": {},
   "cell_type": "code",
   "outputs": [],
   "execution_count": null,
   "source": "",
   "id": "41065b3b70c7120c"
  }
 ],
 "metadata": {
  "kernelspec": {
   "display_name": "Python 3",
   "language": "python",
   "name": "python3"
  },
  "language_info": {
   "codemirror_mode": {
    "name": "ipython",
    "version": 2
   },
   "file_extension": ".py",
   "mimetype": "text/x-python",
   "name": "python",
   "nbconvert_exporter": "python",
   "pygments_lexer": "ipython2",
   "version": "2.7.6"
  }
 },
 "nbformat": 4,
 "nbformat_minor": 5
}
