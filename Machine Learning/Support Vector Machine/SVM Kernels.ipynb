{
 "cells": [
  {
   "metadata": {
    "ExecuteTime": {
     "end_time": "2024-11-21T10:49:56.826020Z",
     "start_time": "2024-11-21T10:49:56.818823Z"
    }
   },
   "cell_type": "code",
   "source": "y",
   "id": "b56cbc8080670e6d",
   "outputs": [
    {
     "data": {
      "text/plain": [
       "array([ 8.66025404,  8.71779204,  8.77378994,  8.82827705,  8.88128118,\n",
       "        8.93282873,  8.98294476,  9.03165312,  9.07897646,  9.12493632,\n",
       "        9.16955321,  9.21284664,  9.25483518,  9.29553652,  9.3349675 ,\n",
       "        9.37314414,  9.41008171,  9.44579475,  9.4802971 ,  9.51360192,\n",
       "        9.54572176,  9.57666854,  9.60645359,  9.63508769,  9.66258107,\n",
       "        9.68894344,  9.714184  ,  9.73831149,  9.76133416,  9.7832598 ,\n",
       "        9.80409577,  9.82384901,  9.84252604,  9.86013297,  9.87667553,\n",
       "        9.89215905,  9.90658851,  9.91996849,  9.93230325,  9.94359667,\n",
       "        9.9538523 ,  9.96307334,  9.97126266,  9.9784228 ,  9.98455598,\n",
       "        9.98966408,  9.99374868,  9.99681104,  9.99885209,  9.99987246,\n",
       "        9.99987246,  9.99885209,  9.99681104,  9.99374868,  9.98966408,\n",
       "        9.98455598,  9.9784228 ,  9.97126266,  9.96307334,  9.9538523 ,\n",
       "        9.94359667,  9.93230325,  9.91996849,  9.90658851,  9.89215905,\n",
       "        9.87667553,  9.86013297,  9.84252604,  9.82384901,  9.80409577,\n",
       "        9.7832598 ,  9.76133416,  9.73831149,  9.714184  ,  9.68894344,\n",
       "        9.66258107,  9.63508769,  9.60645359,  9.57666854,  9.54572176,\n",
       "        9.51360192,  9.4802971 ,  9.44579475,  9.41008171,  9.37314414,\n",
       "        9.3349675 ,  9.29553652,  9.25483518,  9.21284664,  9.16955321,\n",
       "        9.12493632,  9.07897646,  9.03165312,  8.98294476,  8.93282873,\n",
       "        8.88128118,  8.82827705,  8.77378994,  8.71779204,  8.66025404,\n",
       "       -8.66025404, -8.71779204, -8.77378994, -8.82827705, -8.88128118,\n",
       "       -8.93282873, -8.98294476, -9.03165312, -9.07897646, -9.12493632,\n",
       "       -9.16955321, -9.21284664, -9.25483518, -9.29553652, -9.3349675 ,\n",
       "       -9.37314414, -9.41008171, -9.44579475, -9.4802971 , -9.51360192,\n",
       "       -9.54572176, -9.57666854, -9.60645359, -9.63508769, -9.66258107,\n",
       "       -9.68894344, -9.714184  , -9.73831149, -9.76133416, -9.7832598 ,\n",
       "       -9.80409577, -9.82384901, -9.84252604, -9.86013297, -9.87667553,\n",
       "       -9.89215905, -9.90658851, -9.91996849, -9.93230325, -9.94359667,\n",
       "       -9.9538523 , -9.96307334, -9.97126266, -9.9784228 , -9.98455598,\n",
       "       -9.98966408, -9.99374868, -9.99681104, -9.99885209, -9.99987246,\n",
       "       -9.99987246, -9.99885209, -9.99681104, -9.99374868, -9.98966408,\n",
       "       -9.98455598, -9.9784228 , -9.97126266, -9.96307334, -9.9538523 ,\n",
       "       -9.94359667, -9.93230325, -9.91996849, -9.90658851, -9.89215905,\n",
       "       -9.87667553, -9.86013297, -9.84252604, -9.82384901, -9.80409577,\n",
       "       -9.7832598 , -9.76133416, -9.73831149, -9.714184  , -9.68894344,\n",
       "       -9.66258107, -9.63508769, -9.60645359, -9.57666854, -9.54572176,\n",
       "       -9.51360192, -9.4802971 , -9.44579475, -9.41008171, -9.37314414,\n",
       "       -9.3349675 , -9.29553652, -9.25483518, -9.21284664, -9.16955321,\n",
       "       -9.12493632, -9.07897646, -9.03165312, -8.98294476, -8.93282873,\n",
       "       -8.88128118, -8.82827705, -8.77378994, -8.71779204, -8.66025404])"
      ]
     },
     "execution_count": 4,
     "metadata": {},
     "output_type": "execute_result"
    }
   ],
   "execution_count": 4
  },
  {
   "cell_type": "code",
   "id": "initial_id",
   "metadata": {
    "collapsed": true,
    "ExecuteTime": {
     "end_time": "2024-11-21T10:48:38.149608Z",
     "start_time": "2024-11-21T10:48:38.142901Z"
    }
   },
   "source": [
    "import numpy as np\n",
    "import matplotlib.pyplot as plt\n",
    "\n",
    "x = np.linspace(-5, 5, 100)\n",
    "y = np.sqrt(10**2 - x**2)\n",
    "y = np.hstack([y, -y])\n",
    "x = np.hstack([x, -x])"
   ],
   "outputs": [],
   "execution_count": 1
  },
  {
   "metadata": {
    "ExecuteTime": {
     "end_time": "2024-11-21T10:48:48.633923Z",
     "start_time": "2024-11-21T10:48:48.626941Z"
    }
   },
   "cell_type": "code",
   "source": [
    "x1 = np.linspace(-5, 5, 100)\n",
    "y1 = np.sqrt(5**2 - x1**2)\n",
    "y1 = np.hstack([y1, -y1])\n",
    "x1 = np.hstack([x1, -x1])"
   ],
   "id": "73a805080cff0e79",
   "outputs": [],
   "execution_count": 2
  },
  {
   "metadata": {
    "ExecuteTime": {
     "end_time": "2024-11-21T10:49:13.297655Z",
     "start_time": "2024-11-21T10:49:13.060903Z"
    }
   },
   "cell_type": "code",
   "source": [
    "plt.scatter(y, x)\n",
    "plt.scatter(y1, x1)"
   ],
   "id": "214c2b2fe1f921d4",
   "outputs": [
    {
     "data": {
      "text/plain": [
       "<matplotlib.collections.PathCollection at 0x26cc5e033b0>"
      ]
     },
     "execution_count": 3,
     "metadata": {},
     "output_type": "execute_result"
    },
    {
     "data": {
      "text/plain": [
       "<Figure size 640x480 with 1 Axes>"
      ],
      "image/png": "[encoded data removed]"
     },
     "metadata": {},
     "output_type": "display_data"
    }
   ],
   "execution_count": 3
  },
  {
   "metadata": {
    "ExecuteTime": {
     "end_time": "2024-11-21T10:52:27.852967Z",
     "start_time": "2024-11-21T10:52:27.837838Z"
    }
   },
   "cell_type": "code",
   "source": [
    "import pandas as pd\n",
    "\n",
    "df1 = pd.DataFrame(np.vstack([y, x]).T, columns=[\"X1\", \"X2\"])\n",
    "df1[\"Y\"] = 0\n",
    "\n",
    "df2 = pd.DataFrame(np.vstack([y1, x1]).T, columns=[\"X1\", \"X2\"])\n",
    "df2[\"Y\"] = 1\n",
    "\n",
    "df = pd.concat([df1, df2], ignore_index=True)\n",
    "df.head()"
   ],
   "id": "ebe06cd753a9291f",
   "outputs": [
    {
     "data": {
      "text/plain": [
       "         X1       X2  Y\n",
       "0  8.660254 -5.00000  0\n",
       "1  8.717792 -4.89899  0\n",
       "2  8.773790 -4.79798  0\n",
       "3  8.828277 -4.69697  0\n",
       "4  8.881281 -4.59596  0"
      ],
      "text/html": [
       "<div>\n",
       "<style scoped>\n",
       "    .dataframe tbody tr th:only-of-type {\n",
       "        vertical-align: middle;\n",
       "    }\n",
       "\n",
       "    .dataframe tbody tr th {\n",
       "        vertical-align: top;\n",
       "    }\n",
       "\n",
       "    .dataframe thead th {\n",
       "        text-align: right;\n",
       "    }\n",
       "</style>\n",
       "<table border=\"1\" class=\"dataframe\">\n",
       "  <thead>\n",
       "    <tr style=\"text-align: right;\">\n",
       "      <th></th>\n",
       "      <th>X1</th>\n",
       "      <th>X2</th>\n",
       "      <th>Y</th>\n",
       "    </tr>\n",
       "  </thead>\n",
       "  <tbody>\n",
       "    <tr>\n",
       "      <th>0</th>\n",
       "      <td>8.660254</td>\n",
       "      <td>-5.00000</td>\n",
       "      <td>0</td>\n",
       "    </tr>\n",
       "    <tr>\n",
       "      <th>1</th>\n",
       "      <td>8.717792</td>\n",
       "      <td>-4.89899</td>\n",
       "      <td>0</td>\n",
       "    </tr>\n",
       "    <tr>\n",
       "      <th>2</th>\n",
       "      <td>8.773790</td>\n",
       "      <td>-4.79798</td>\n",
       "      <td>0</td>\n",
       "    </tr>\n",
       "    <tr>\n",
       "      <th>3</th>\n",
       "      <td>8.828277</td>\n",
       "      <td>-4.69697</td>\n",
       "      <td>0</td>\n",
       "    </tr>\n",
       "    <tr>\n",
       "      <th>4</th>\n",
       "      <td>8.881281</td>\n",
       "      <td>-4.59596</td>\n",
       "      <td>0</td>\n",
       "    </tr>\n",
       "  </tbody>\n",
       "</table>\n",
       "</div>"
      ]
     },
     "execution_count": 6,
     "metadata": {},
     "output_type": "execute_result"
    }
   ],
   "execution_count": 6
  },
  {
   "metadata": {
    "ExecuteTime": {
     "end_time": "2024-11-21T10:53:05.809157Z",
     "start_time": "2024-11-21T10:53:05.798130Z"
    }
   },
   "cell_type": "code",
   "source": "df.tail()",
   "id": "646f8e33998e17d1",
   "outputs": [
    {
     "data": {
      "text/plain": [
       "           X1       X2  Y\n",
       "395 -1.969049 -4.59596  1\n",
       "396 -1.714198 -4.69697  1\n",
       "397 -1.406908 -4.79798  1\n",
       "398 -0.999949 -4.89899  1\n",
       "399 -0.000000 -5.00000  1"
      ],
      "text/html": [
       "<div>\n",
       "<style scoped>\n",
       "    .dataframe tbody tr th:only-of-type {\n",
       "        vertical-align: middle;\n",
       "    }\n",
       "\n",
       "    .dataframe tbody tr th {\n",
       "        vertical-align: top;\n",
       "    }\n",
       "\n",
       "    .dataframe thead th {\n",
       "        text-align: right;\n",
       "    }\n",
       "</style>\n",
       "<table border=\"1\" class=\"dataframe\">\n",
       "  <thead>\n",
       "    <tr style=\"text-align: right;\">\n",
       "      <th></th>\n",
       "      <th>X1</th>\n",
       "      <th>X2</th>\n",
       "      <th>Y</th>\n",
       "    </tr>\n",
       "  </thead>\n",
       "  <tbody>\n",
       "    <tr>\n",
       "      <th>395</th>\n",
       "      <td>-1.969049</td>\n",
       "      <td>-4.59596</td>\n",
       "      <td>1</td>\n",
       "    </tr>\n",
       "    <tr>\n",
       "      <th>396</th>\n",
       "      <td>-1.714198</td>\n",
       "      <td>-4.69697</td>\n",
       "      <td>1</td>\n",
       "    </tr>\n",
       "    <tr>\n",
       "      <th>397</th>\n",
       "      <td>-1.406908</td>\n",
       "      <td>-4.79798</td>\n",
       "      <td>1</td>\n",
       "    </tr>\n",
       "    <tr>\n",
       "      <th>398</th>\n",
       "      <td>-0.999949</td>\n",
       "      <td>-4.89899</td>\n",
       "      <td>1</td>\n",
       "    </tr>\n",
       "    <tr>\n",
       "      <th>399</th>\n",
       "      <td>-0.000000</td>\n",
       "      <td>-5.00000</td>\n",
       "      <td>1</td>\n",
       "    </tr>\n",
       "  </tbody>\n",
       "</table>\n",
       "</div>"
      ]
     },
     "execution_count": 7,
     "metadata": {},
     "output_type": "execute_result"
    }
   ],
   "execution_count": 7
  },
  {
   "metadata": {
    "ExecuteTime": {
     "end_time": "2024-11-21T10:53:08.018744Z",
     "start_time": "2024-11-21T10:53:08.009772Z"
    }
   },
   "cell_type": "code",
   "source": [
    "X = df.iloc[:, :2]\n",
    "y = df.Y"
   ],
   "id": "c9d54ca97db1c93e",
   "outputs": [],
   "execution_count": 8
  },
  {
   "metadata": {
    "ExecuteTime": {
     "end_time": "2024-11-21T10:53:09.444701Z",
     "start_time": "2024-11-21T10:53:09.435886Z"
    }
   },
   "cell_type": "code",
   "source": "y",
   "id": "3f69a91f24f4bab5",
   "outputs": [
    {
     "data": {
      "text/plain": [
       "0      0\n",
       "1      0\n",
       "2      0\n",
       "3      0\n",
       "4      0\n",
       "      ..\n",
       "395    1\n",
       "396    1\n",
       "397    1\n",
       "398    1\n",
       "399    1\n",
       "Name: Y, Length: 400, dtype: int64"
      ]
     },
     "execution_count": 9,
     "metadata": {},
     "output_type": "execute_result"
    }
   ],
   "execution_count": 9
  },
  {
   "metadata": {
    "ExecuteTime": {
     "end_time": "2024-11-21T10:53:26.728345Z",
     "start_time": "2024-11-21T10:53:26.454438Z"
    }
   },
   "cell_type": "code",
   "source": [
    "from sklearn.model_selection import train_test_split\n",
    "\n",
    "X_train, X_test, y_train, y_test = train_test_split(X, y, test_size=0.25, random_state=10)"
   ],
   "id": "a166bb881b56e708",
   "outputs": [],
   "execution_count": 10
  },
  {
   "metadata": {
    "ExecuteTime": {
     "end_time": "2024-11-21T10:53:38.170371Z",
     "start_time": "2024-11-21T10:53:38.163845Z"
    }
   },
   "cell_type": "code",
   "source": "y_train",
   "id": "dd4f5cc7d031e75d",
   "outputs": [
    {
     "data": {
      "text/plain": [
       "57     0\n",
       "87     0\n",
       "357    1\n",
       "355    1\n",
       "238    1\n",
       "      ..\n",
       "369    1\n",
       "320    1\n",
       "15     0\n",
       "125    0\n",
       "265    1\n",
       "Name: Y, Length: 300, dtype: int64"
      ]
     },
     "execution_count": 11,
     "metadata": {},
     "output_type": "execute_result"
    }
   ],
   "execution_count": 11
  },
  {
   "metadata": {},
   "cell_type": "markdown",
   "source": [
    "## Polynomial Kernel\n",
    "K(x, y) = (x<sup>T</sup>y + c)<sup>d</sup>"
   ],
   "id": "f3583480da545011"
  },
  {
   "metadata": {
    "ExecuteTime": {
     "end_time": "2024-11-21T10:54:48.755379Z",
     "start_time": "2024-11-21T10:54:48.739626Z"
    }
   },
   "cell_type": "code",
   "source": [
    "df['X1^2'] = df.X1**2\n",
    "df['X2^2'] = df.X2**2\n",
    "df['X1*X2'] = df.X1 * df.X2\n",
    "df.head()"
   ],
   "id": "2a18f4d0be1e336",
   "outputs": [
    {
     "data": {
      "text/plain": [
       "         X1       X2  Y       X1^2       X2^2      X1*X2\n",
       "0  8.660254 -5.00000  0  75.000000  25.000000 -43.301270\n",
       "1  8.717792 -4.89899  0  75.999898  24.000102 -42.708375\n",
       "2  8.773790 -4.79798  0  76.979390  23.020610 -42.096467\n",
       "3  8.828277 -4.69697  0  77.938476  22.061524 -41.466150\n",
       "4  8.881281 -4.59596  0  78.877155  21.122845 -40.818009"
      ],
      "text/html": [
       "<div>\n",
       "<style scoped>\n",
       "    .dataframe tbody tr th:only-of-type {\n",
       "        vertical-align: middle;\n",
       "    }\n",
       "\n",
       "    .dataframe tbody tr th {\n",
       "        vertical-align: top;\n",
       "    }\n",
       "\n",
       "    .dataframe thead th {\n",
       "        text-align: right;\n",
       "    }\n",
       "</style>\n",
       "<table border=\"1\" class=\"dataframe\">\n",
       "  <thead>\n",
       "    <tr style=\"text-align: right;\">\n",
       "      <th></th>\n",
       "      <th>X1</th>\n",
       "      <th>X2</th>\n",
       "      <th>Y</th>\n",
       "      <th>X1^2</th>\n",
       "      <th>X2^2</th>\n",
       "      <th>X1*X2</th>\n",
       "    </tr>\n",
       "  </thead>\n",
       "  <tbody>\n",
       "    <tr>\n",
       "      <th>0</th>\n",
       "      <td>8.660254</td>\n",
       "      <td>-5.00000</td>\n",
       "      <td>0</td>\n",
       "      <td>75.000000</td>\n",
       "      <td>25.000000</td>\n",
       "      <td>-43.301270</td>\n",
       "    </tr>\n",
       "    <tr>\n",
       "      <th>1</th>\n",
       "      <td>8.717792</td>\n",
       "      <td>-4.89899</td>\n",
       "      <td>0</td>\n",
       "      <td>75.999898</td>\n",
       "      <td>24.000102</td>\n",
       "      <td>-42.708375</td>\n",
       "    </tr>\n",
       "    <tr>\n",
       "      <th>2</th>\n",
       "      <td>8.773790</td>\n",
       "      <td>-4.79798</td>\n",
       "      <td>0</td>\n",
       "      <td>76.979390</td>\n",
       "      <td>23.020610</td>\n",
       "      <td>-42.096467</td>\n",
       "    </tr>\n",
       "    <tr>\n",
       "      <th>3</th>\n",
       "      <td>8.828277</td>\n",
       "      <td>-4.69697</td>\n",
       "      <td>0</td>\n",
       "      <td>77.938476</td>\n",
       "      <td>22.061524</td>\n",
       "      <td>-41.466150</td>\n",
       "    </tr>\n",
       "    <tr>\n",
       "      <th>4</th>\n",
       "      <td>8.881281</td>\n",
       "      <td>-4.59596</td>\n",
       "      <td>0</td>\n",
       "      <td>78.877155</td>\n",
       "      <td>21.122845</td>\n",
       "      <td>-40.818009</td>\n",
       "    </tr>\n",
       "  </tbody>\n",
       "</table>\n",
       "</div>"
      ]
     },
     "execution_count": 12,
     "metadata": {},
     "output_type": "execute_result"
    }
   ],
   "execution_count": 12
  },
  {
   "metadata": {
    "ExecuteTime": {
     "end_time": "2024-11-21T10:55:41.455504Z",
     "start_time": "2024-11-21T10:55:41.448517Z"
    }
   },
   "cell_type": "code",
   "source": [
    "X = df[['X1', 'X2', 'X1^2', 'X2^2', 'X1*X2']]\n",
    "y = df.Y"
   ],
   "id": "7b7d57f282da08c2",
   "outputs": [],
   "execution_count": 13
  },
  {
   "metadata": {
    "ExecuteTime": {
     "end_time": "2024-11-21T10:55:42.720889Z",
     "start_time": "2024-11-21T10:55:42.713033Z"
    }
   },
   "cell_type": "code",
   "source": "y",
   "id": "f452c9c0b0fd7d2a",
   "outputs": [
    {
     "data": {
      "text/plain": [
       "0      0\n",
       "1      0\n",
       "2      0\n",
       "3      0\n",
       "4      0\n",
       "      ..\n",
       "395    1\n",
       "396    1\n",
       "397    1\n",
       "398    1\n",
       "399    1\n",
       "Name: Y, Length: 400, dtype: int64"
      ]
     },
     "execution_count": 14,
     "metadata": {},
     "output_type": "execute_result"
    }
   ],
   "execution_count": 14
  },
  {
   "metadata": {
    "ExecuteTime": {
     "end_time": "2024-11-21T10:57:20.220712Z",
     "start_time": "2024-11-21T10:57:20.211280Z"
    }
   },
   "cell_type": "code",
   "source": "X_train, X_test, y_train, y_test = train_test_split(X, y, test_size=0.25, random_state=0)",
   "id": "c87d6f09637f45e3",
   "outputs": [],
   "execution_count": 16
  },
  {
   "metadata": {
    "ExecuteTime": {
     "end_time": "2024-11-21T10:57:25.982558Z",
     "start_time": "2024-11-21T10:57:25.969949Z"
    }
   },
   "cell_type": "code",
   "source": "X_train",
   "id": "f8f6d12bf0ec9e3f",
   "outputs": [
    {
     "data": {
      "text/plain": [
       "           X1        X2       X1^2       X2^2      X1*X2\n",
       "250  4.999745  0.050505  24.997449   0.002551   0.252512\n",
       "63   9.906589  1.363636  98.140496   1.859504  13.508984\n",
       "312 -3.263736  3.787879  10.651974  14.348026 -12.362637\n",
       "159 -9.953852 -0.959596  99.079176   0.920824   9.551676\n",
       "283  3.680983  3.383838  13.549638  11.450362  12.455852\n",
       "..        ...       ...        ...        ...        ...\n",
       "323 -4.223140  2.676768  17.834915   7.165085 -11.304366\n",
       "192 -9.031653 -4.292929  81.570758  18.429242  38.772248\n",
       "117 -9.445795  3.282828  89.223038  10.776962 -31.008922\n",
       "47   9.996811 -0.252525  99.936231   0.063769  -2.524447\n",
       "172 -9.738311 -2.272727  94.834711   5.165289  22.132526\n",
       "\n",
       "[300 rows x 5 columns]"
      ],
      "text/html": [
       "<div>\n",
       "<style scoped>\n",
       "    .dataframe tbody tr th:only-of-type {\n",
       "        vertical-align: middle;\n",
       "    }\n",
       "\n",
       "    .dataframe tbody tr th {\n",
       "        vertical-align: top;\n",
       "    }\n",
       "\n",
       "    .dataframe thead th {\n",
       "        text-align: right;\n",
       "    }\n",
       "</style>\n",
       "<table border=\"1\" class=\"dataframe\">\n",
       "  <thead>\n",
       "    <tr style=\"text-align: right;\">\n",
       "      <th></th>\n",
       "      <th>X1</th>\n",
       "      <th>X2</th>\n",
       "      <th>X1^2</th>\n",
       "      <th>X2^2</th>\n",
       "      <th>X1*X2</th>\n",
       "    </tr>\n",
       "  </thead>\n",
       "  <tbody>\n",
       "    <tr>\n",
       "      <th>250</th>\n",
       "      <td>4.999745</td>\n",
       "      <td>0.050505</td>\n",
       "      <td>24.997449</td>\n",
       "      <td>0.002551</td>\n",
       "      <td>0.252512</td>\n",
       "    </tr>\n",
       "    <tr>\n",
       "      <th>63</th>\n",
       "      <td>9.906589</td>\n",
       "      <td>1.363636</td>\n",
       "      <td>98.140496</td>\n",
       "      <td>1.859504</td>\n",
       "      <td>13.508984</td>\n",
       "    </tr>\n",
       "    <tr>\n",
       "      <th>312</th>\n",
       "      <td>-3.263736</td>\n",
       "      <td>3.787879</td>\n",
       "      <td>10.651974</td>\n",
       "      <td>14.348026</td>\n",
       "      <td>-12.362637</td>\n",
       "    </tr>\n",
       "    <tr>\n",
       "      <th>159</th>\n",
       "      <td>-9.953852</td>\n",
       "      <td>-0.959596</td>\n",
       "      <td>99.079176</td>\n",
       "      <td>0.920824</td>\n",
       "      <td>9.551676</td>\n",
       "    </tr>\n",
       "    <tr>\n",
       "      <th>283</th>\n",
       "      <td>3.680983</td>\n",
       "      <td>3.383838</td>\n",
       "      <td>13.549638</td>\n",
       "      <td>11.450362</td>\n",
       "      <td>12.455852</td>\n",
       "    </tr>\n",
       "    <tr>\n",
       "      <th>...</th>\n",
       "      <td>...</td>\n",
       "      <td>...</td>\n",
       "      <td>...</td>\n",
       "      <td>...</td>\n",
       "      <td>...</td>\n",
       "    </tr>\n",
       "    <tr>\n",
       "      <th>323</th>\n",
       "      <td>-4.223140</td>\n",
       "      <td>2.676768</td>\n",
       "      <td>17.834915</td>\n",
       "      <td>7.165085</td>\n",
       "      <td>-11.304366</td>\n",
       "    </tr>\n",
       "    <tr>\n",
       "      <th>192</th>\n",
       "      <td>-9.031653</td>\n",
       "      <td>-4.292929</td>\n",
       "      <td>81.570758</td>\n",
       "      <td>18.429242</td>\n",
       "      <td>38.772248</td>\n",
       "    </tr>\n",
       "    <tr>\n",
       "      <th>117</th>\n",
       "      <td>-9.445795</td>\n",
       "      <td>3.282828</td>\n",
       "      <td>89.223038</td>\n",
       "      <td>10.776962</td>\n",
       "      <td>-31.008922</td>\n",
       "    </tr>\n",
       "    <tr>\n",
       "      <th>47</th>\n",
       "      <td>9.996811</td>\n",
       "      <td>-0.252525</td>\n",
       "      <td>99.936231</td>\n",
       "      <td>0.063769</td>\n",
       "      <td>-2.524447</td>\n",
       "    </tr>\n",
       "    <tr>\n",
       "      <th>172</th>\n",
       "      <td>-9.738311</td>\n",
       "      <td>-2.272727</td>\n",
       "      <td>94.834711</td>\n",
       "      <td>5.165289</td>\n",
       "      <td>22.132526</td>\n",
       "    </tr>\n",
       "  </tbody>\n",
       "</table>\n",
       "<p>300 rows × 5 columns</p>\n",
       "</div>"
      ]
     },
     "execution_count": 17,
     "metadata": {},
     "output_type": "execute_result"
    }
   ],
   "execution_count": 17
  },
  {
   "metadata": {
    "ExecuteTime": {
     "end_time": "2024-11-21T11:01:16.740276Z",
     "start_time": "2024-11-21T11:01:16.683350Z"
    }
   },
   "cell_type": "code",
   "source": [
    "import plotly.express as px\n",
    "\n",
    "fig = px.scatter_3d(df, x='X1', y='X2', z='X1^2', color='Y')\n",
    "fig.show()"
   ],
   "id": "7eb943284262e257",
   "outputs": [
    {
     "data": {
      "application/vnd.plotly.v1+json": {
       "data": [
        {
         "hovertemplate": "X1=%{x}<br>X2=%{y}<br>X1^2=%{z}<br>Y=%{marker.color}<extra></extra>",
         "legendgroup": "",
         "marker": {
          "color": [
           0,
           0,
           0,
           0,
           0,
           0,
           0,
           0,
           0,
           0,
           0,
           0,
           0,
           0,
           0,
           0,
           0,
           0,
           0,
           0,
           0,
           0,
           0,
           0,
           0,
           0,
           0,
           0,
           0,
           0,
           0,
           0,
           0,
           0,
           0,
           0,
           0,
           0,
           0,
           0,
           0,
           0,
           0,
           0,
           0,
           0,
           0,
           0,
           0,
           0,
           0,
           0,
           0,
           0,
           0,
           0,
           0,
           0,
           0,
           0,
           0,
           0,
           0,
           0,
           0,
           0,
           0,
           0,
           0,
           0,
           0,
           0,
           0,
           0,
           0,
           0,
           0,
           0,
           0,
           0,
           0,
           0,
           0,
           0,
           0,
           0,
           0,
           0,
           0,
           0,
           0,
           0,
           0,
           0,
           0,
           0,
           0,
           0,
           0,
           0,
           0,
           0,
           0,
           0,
           0,
           0,
           0,
           0,
           0,
           0,
           0,
           0,
           0,
           0,
           0,
           0,
           0,
           0,
           0,
           0,
           0,
           0,
           0,
           0,
           0,
           0,
           0,
           0,
           0,
           0,
           0,
           0,
           0,
           0,
           0,
           0,
           0,
           0,
           0,
           0,
           0,
           0,
           0,
           0,
           0,
           0,
           0,
           0,
           0,
           0,
           0,
           0,
           0,
           0,
           0,
           0,
           0,
           0,
           0,
           0,
           0,
           0,
           0,
           0,
           0,
           0,
           0,
           0,
           0,
           0,
           0,
           0,
           0,
           0,
           0,
           0,
           0,
           0,
           0,
           0,
           0,
           0,
           0,
           0,
           0,
           0,
           0,
           0,
           0,
           0,
           0,
           0,
           0,
           0,
           0,
           0,
           0,
           0,
           0,
           0,
           1,
           1,
           1,
           1,
           1,
           1,
           1,
           1,
           1,
           1,
           1,
           1,
           1,
           1,
           1,
           1,
           1,
           1,
           1,
           1,
           1,
           1,
           1,
           1,
           1,
           1,
           1,
           1,
           1,
           1,
           1,
           1,
           1,
           1,
           1,
           1,
           1,
           1,
           1,
           1,
           1,
           1,
           1,
           1,
           1,
           1,
           1,
           1,
           1,
           1,
           1,
           1,
           1,
           1,
           1,
           1,
           1,
           1,
           1,
           1,
           1,
           1,
           1,
           1,
           1,
           1,
           1,
           1,
           1,
           1,
           1,
           1,
           1,
           1,
           1,
           1,
           1,
           1,
           1,
           1,
           1,
           1,
           1,
           1,
           1,
           1,
           1,
           1,
           1,
           1,
           1,
           1,
           1,
           1,
           1,
           1,
           1,
           1,
           1,
           1,
           1,
           1,
           1,
           1,
           1,
           1,
           1,
           1,
           1,
           1,
           1,
           1,
           1,
           1,
           1,
           1,
           1,
           1,
           1,
           1,
           1,
           1,
           1,
           1,
           1,
           1,
           1,
           1,
           1,
           1,
           1,
           1,
           1,
           1,
           1,
           1,
           1,
           1,
           1,
           1,
           1,
           1,
           1,
           1,
           1,
           1,
           1,
           1,
           1,
           1,
           1,
           1,
           1,
           1,
           1,
           1,
           1,
           1,
           1,
           1,
           1,
           1,
           1,
           1,
           1,
           1,
           1,
           1,
           1,
           1,
           1,
           1,
           1,
           1,
           1,
           1,
           1,
           1,
           1,
           1,
           1,
           1,
           1,
           1,
           1,
           1,
           1,
           1,
           1,
           1,
           1,
           1,
           1,
           1,
           1,
           1,
           1,
           1,
           1,
           1
          ],
          "coloraxis": "coloraxis",
          "symbol": "circle"
         },
         "mode": "markers",
         "name": "",
         "scene": "scene",
         "showlegend": false,
         "x": [
          8.660254037844387,
          8.71779203523432,
          8.773789936975795,
          8.82827704967104,
          8.88128117966698,
          8.932828725429212,
          8.982944762291902,
          9.031653120326844,
          9.078976455989935,
          9.124936318129423,
          9.16955320887572,
          9.21284663987611,
          9.254835184288153,
          9.295536524902001,
          9.33496749872351,
          9.373144138316087,
          9.41008171016926,
          9.445794750335342,
          9.480297097551913,
          9.513601924046835,
          9.545721764203684,
          9.576668541248777,
          9.60645359210588,
          9.635087690551227,
          9.662581068789407,
          9.68894343755969,
          9.714184004872585,
          9.738311493467522,
          9.76133415707447,
          9.783259795555045,
          9.804095768991987,
          9.823849010789878,
          9.842526039844437,
          9.860132971832694,
          9.876675529671736,
          9.89215905318948,
          9.906588508046985,
          9.919968493948277,
          9.93230325217027,
          9.943596672442306,
          9.953852299201907,
          9.96307333725073,
          9.971262656832058,
          9.978422798148939,
          9.984555975339683,
          9.989664079925413,
          9.993748683742284,
          9.996811041368995,
          9.998852092058435,
          9.999872461180367,
          9.999872461180367,
          9.998852092058435,
          9.996811041368995,
          9.993748683742284,
          9.989664079925413,
          9.984555975339683,
          9.978422798148939,
          9.971262656832058,
          9.96307333725073,
          9.953852299201907,
          9.943596672442306,
          9.93230325217027,
          9.919968493948277,
          9.906588508046985,
          9.89215905318948,
          9.876675529671736,
          9.860132971832694,
          9.842526039844437,
          9.823849010789878,
          9.804095768991987,
          9.783259795555045,
          9.76133415707447,
          9.738311493467522,
          9.714184004872585,
          9.68894343755969,
          9.66258106878941,
          9.635087690551227,
          9.60645359210588,
          9.576668541248777,
          9.545721764203684,
          9.513601924046835,
          9.480297097551913,
          9.445794750335342,
          9.41008171016926,
          9.373144138316087,
          9.33496749872351,
          9.295536524902001,
          9.254835184288153,
          9.21284663987611,
          9.16955320887572,
          9.124936318129423,
          9.078976455989935,
          9.031653120326844,
          8.982944762291902,
          8.932828725429212,
          8.881281179666981,
          8.82827704967104,
          8.773789936975795,
          8.71779203523432,
          8.660254037844387,
          -8.660254037844387,
          -8.71779203523432,
          -8.773789936975795,
          -8.82827704967104,
          -8.88128117966698,
          -8.932828725429212,
          -8.982944762291902,
          -9.031653120326844,
          -9.078976455989935,
          -9.124936318129423,
          -9.16955320887572,
          -9.21284663987611,
          -9.254835184288153,
          -9.295536524902001,
          -9.33496749872351,
          -9.373144138316087,
          -9.41008171016926,
          -9.445794750335342,
          -9.480297097551913,
          -9.513601924046835,
          -9.545721764203684,
          -9.576668541248777,
          -9.60645359210588,
          -9.635087690551227,
          -9.662581068789407,
          -9.68894343755969,
          -9.714184004872585,
          -9.738311493467522,
          -9.76133415707447,
          -9.783259795555045,
          -9.804095768991987,
          -9.823849010789878,
          -9.842526039844437,
          -9.860132971832694,
          -9.876675529671736,
          -9.89215905318948,
          -9.906588508046985,
          -9.919968493948277,
          -9.93230325217027,
          -9.943596672442306,
          -9.953852299201907,
          -9.96307333725073,
          -9.971262656832058,
          -9.978422798148939,
          -9.984555975339683,
          -9.989664079925413,
          -9.993748683742284,
          -9.996811041368995,
          -9.998852092058435,
          -9.999872461180367,
          -9.999872461180367,
          -9.998852092058435,
          -9.996811041368995,
          -9.993748683742284,
          -9.989664079925413,
          -9.984555975339683,
          -9.978422798148939,
          -9.971262656832058,
          -9.96307333725073,
          -9.953852299201907,
          -9.943596672442306,
          -9.93230325217027,
          -9.919968493948277,
          -9.906588508046985,
          -9.89215905318948,
          -9.876675529671736,
          -9.860132971832694,
          -9.842526039844437,
          -9.823849010789878,
          -9.804095768991987,
          -9.783259795555045,
          -9.76133415707447,
          -9.738311493467522,
          -9.714184004872585,
          -9.68894343755969,
          -9.66258106878941,
          -9.635087690551227,
          -9.60645359210588,
          -9.576668541248777,
          -9.545721764203684,
          -9.513601924046835,
          -9.480297097551913,
          -9.445794750335342,
          -9.41008171016926,
          -9.373144138316087,
          -9.33496749872351,
          -9.295536524902001,
          -9.254835184288153,
          -9.21284663987611,
          -9.16955320887572,
          -9.124936318129423,
          -9.078976455989935,
          -9.031653120326844,
          -8.982944762291902,
          -8.932828725429212,
          -8.881281179666981,
          -8.82827704967104,
          -8.773789936975795,
          -8.71779203523432,
          -8.660254037844387,
          0.0,
          0.9999489834961283,
          1.4069079067862758,
          1.714198257421933,
          1.9690493625876693,
          2.1898468069372528,
          2.386062992124792,
          2.5633489980706097,
          2.7254015279256647,
          2.8747978728803445,
          3.013420987914404,
          3.1426968052735447,
          3.263736246748184,
          3.3774249489495936,
          3.484482487002089,
          3.5855028988482522,
          3.6809832643007265,
          3.771344384362519,
          3.85694607919935,
          3.938098725175339,
          4.015072103909453,
          4.0881022918884975,
          4.15739709641549,
          4.2231403960337115,
          4.2854956435548335,
          4.3446087207285995,
          4.400610285008478,
          4.453617714151233,
          4.5037367292137285,
          4.5510627580076,
          4.59568208730397,
          4.637672841716766,
          4.677105819309182,
          4.714045207910317,
          4.748549201431579,
          4.78067053179767,
          4.810456929208347,
          4.837951521142646,
          4.863193178670999,
          4.886216817150636,
          4.907053657168129,
          4.92573145060065,
          4.9422746758485125,
          4.956704705610221,
          4.969039949999533,
          4.979295977319692,
          4.987485614395357,
          4.9936190280033435,
          4.997703788627468,
          4.999744917480639,
          4.999744917480639,
          4.997703788627468,
          4.9936190280033435,
          4.987485614395357,
          4.979295977319692,
          4.969039949999533,
          4.956704705610221,
          4.9422746758485125,
          4.92573145060065,
          4.907053657168129,
          4.886216817150636,
          4.863193178670999,
          4.837951521142646,
          4.810456929208347,
          4.78067053179767,
          4.748549201431579,
          4.714045207910317,
          4.677105819309182,
          4.637672841716766,
          4.59568208730397,
          4.5510627580076,
          4.5037367292137285,
          4.453617714151233,
          4.400610285008478,
          4.3446087207285995,
          4.2854956435548335,
          4.223140396033712,
          4.15739709641549,
          4.0881022918884975,
          4.0150721039094535,
          3.9380987251753385,
          3.85694607919935,
          3.7713443843625196,
          3.6809832643007265,
          3.5855028988482527,
          3.4844824870020883,
          3.3774249489495936,
          3.263736246748185,
          3.1426968052735442,
          3.013420987914404,
          2.874797872880346,
          2.7254015279256647,
          2.563348998070611,
          2.38606299212479,
          2.1898468069372528,
          1.9690493625876713,
          1.714198257421933,
          1.4069079067862758,
          0.9999489834961247,
          0.0,
          -0.0,
          -0.9999489834961283,
          -1.4069079067862758,
          -1.714198257421933,
          -1.9690493625876693,
          -2.1898468069372528,
          -2.386062992124792,
          -2.5633489980706097,
          -2.7254015279256647,
          -2.8747978728803445,
          -3.013420987914404,
          -3.1426968052735447,
          -3.263736246748184,
          -3.3774249489495936,
          -3.484482487002089,
          -3.5855028988482522,
          -3.6809832643007265,
          -3.771344384362519,
          -3.85694607919935,
          -3.938098725175339,
          -4.015072103909453,
          -4.0881022918884975,
          -4.15739709641549,
          -4.2231403960337115,
          -4.2854956435548335,
          -4.3446087207285995,
          -4.400610285008478,
          -4.453617714151233,
          -4.5037367292137285,
          -4.5510627580076,
          -4.59568208730397,
          -4.637672841716766,
          -4.677105819309182,
          -4.714045207910317,
          -4.748549201431579,
          -4.78067053179767,
          -4.810456929208347,
          -4.837951521142646,
          -4.863193178670999,
          -4.886216817150636,
          -4.907053657168129,
          -4.92573145060065,
          -4.9422746758485125,
          -4.956704705610221,
          -4.969039949999533,
          -4.979295977319692,
          -4.987485614395357,
          -4.9936190280033435,
          -4.997703788627468,
          -4.999744917480639,
          -4.999744917480639,
          -4.997703788627468,
          -4.9936190280033435,
          -4.987485614395357,
          -4.979295977319692,
          -4.969039949999533,
          -4.956704705610221,
          -4.9422746758485125,
          -4.92573145060065,
          -4.907053657168129,
          -4.886216817150636,
          -4.863193178670999,
          -4.837951521142646,
          -4.810456929208347,
          -4.78067053179767,
          -4.748549201431579,
          -4.714045207910317,
          -4.677105819309182,
          -4.637672841716766,
          -4.59568208730397,
          -4.5510627580076,
          -4.5037367292137285,
          -4.453617714151233,
          -4.400610285008478,
          -4.3446087207285995,
          -4.2854956435548335,
          -4.223140396033712,
          -4.15739709641549,
          -4.0881022918884975,
          -4.0150721039094535,
          -3.9380987251753385,
          -3.85694607919935,
          -3.7713443843625196,
          -3.6809832643007265,
          -3.5855028988482527,
          -3.4844824870020883,
          -3.3774249489495936,
          -3.263736246748185,
          -3.1426968052735442,
          -3.013420987914404,
          -2.874797872880346,
          -2.7254015279256647,
          -2.563348998070611,
          -2.38606299212479,
          -2.1898468069372528,
          -1.9690493625876713,
          -1.714198257421933,
          -1.4069079067862758,
          -0.9999489834961247,
          -0.0
         ],
         "y": [
          -5.0,
          -4.898989898989899,
          -4.797979797979798,
          -4.696969696969697,
          -4.595959595959596,
          -4.494949494949495,
          -4.393939393939394,
          -4.292929292929293,
          -4.191919191919192,
          -4.090909090909091,
          -3.9898989898989896,
          -3.888888888888889,
          -3.787878787878788,
          -3.686868686868687,
          -3.5858585858585856,
          -3.484848484848485,
          -3.383838383838384,
          -3.282828282828283,
          -3.1818181818181817,
          -3.080808080808081,
          -2.9797979797979797,
          -2.878787878787879,
          -2.7777777777777777,
          -2.676767676767677,
          -2.5757575757575757,
          -2.474747474747475,
          -2.3737373737373737,
          -2.272727272727273,
          -2.1717171717171717,
          -2.070707070707071,
          -1.9696969696969697,
          -1.868686868686869,
          -1.7676767676767677,
          -1.6666666666666665,
          -1.5656565656565657,
          -1.4646464646464645,
          -1.3636363636363638,
          -1.2626262626262625,
          -1.1616161616161618,
          -1.0606060606060606,
          -0.9595959595959593,
          -0.858585858585859,
          -0.7575757575757578,
          -0.6565656565656566,
          -0.5555555555555554,
          -0.45454545454545503,
          -0.3535353535353538,
          -0.2525252525252526,
          -0.15151515151515138,
          -0.050505050505050164,
          0.050505050505050164,
          0.15151515151515138,
          0.2525252525252526,
          0.3535353535353538,
          0.45454545454545414,
          0.5555555555555554,
          0.6565656565656566,
          0.7575757575757578,
          0.8585858585858581,
          0.9595959595959593,
          1.0606060606060606,
          1.1616161616161618,
          1.262626262626262,
          1.3636363636363633,
          1.4646464646464645,
          1.5656565656565657,
          1.666666666666667,
          1.7676767676767673,
          1.8686868686868685,
          1.9696969696969697,
          2.070707070707071,
          2.1717171717171713,
          2.2727272727272725,
          2.3737373737373737,
          2.474747474747475,
          2.5757575757575752,
          2.6767676767676765,
          2.7777777777777777,
          2.878787878787879,
          2.9797979797979792,
          3.0808080808080813,
          3.1818181818181817,
          3.282828282828282,
          3.383838383838384,
          3.4848484848484844,
          3.5858585858585865,
          3.686868686868687,
          3.787878787878787,
          3.8888888888888893,
          3.9898989898989896,
          4.09090909090909,
          4.191919191919192,
          4.292929292929292,
          4.3939393939393945,
          4.494949494949495,
          4.595959595959595,
          4.696969696969697,
          4.797979797979798,
          4.8989898989899,
          5.0,
          5.0,
          4.898989898989899,
          4.797979797979798,
          4.696969696969697,
          4.595959595959596,
          4.494949494949495,
          4.393939393939394,
          4.292929292929293,
          4.191919191919192,
          4.090909090909091,
          3.9898989898989896,
          3.888888888888889,
          3.787878787878788,
          3.686868686868687,
          3.5858585858585856,
          3.484848484848485,
          3.383838383838384,
          3.282828282828283,
          3.1818181818181817,
          3.080808080808081,
          2.9797979797979797,
          2.878787878787879,
          2.7777777777777777,
          2.676767676767677,
          2.5757575757575757,
          2.474747474747475,
          2.3737373737373737,
          2.272727272727273,
          2.1717171717171717,
          2.070707070707071,
          1.9696969696969697,
          1.868686868686869,
          1.7676767676767677,
          1.6666666666666665,
          1.5656565656565657,
          1.4646464646464645,
          1.3636363636363638,
          1.2626262626262625,
          1.1616161616161618,
          1.0606060606060606,
          0.9595959595959593,
          0.858585858585859,
          0.7575757575757578,
          0.6565656565656566,
          0.5555555555555554,
          0.45454545454545503,
          0.3535353535353538,
          0.2525252525252526,
          0.15151515151515138,
          0.050505050505050164,
          -0.050505050505050164,
          -0.15151515151515138,
          -0.2525252525252526,
          -0.3535353535353538,
          -0.45454545454545414,
          -0.5555555555555554,
          -0.6565656565656566,
          -0.7575757575757578,
          -0.8585858585858581,
          -0.9595959595959593,
          -1.0606060606060606,
          -1.1616161616161618,
          -1.262626262626262,
          -1.3636363636363633,
          -1.4646464646464645,
          -1.5656565656565657,
          -1.666666666666667,
          -1.7676767676767673,
          -1.8686868686868685,
          -1.9696969696969697,
          -2.070707070707071,
          -2.1717171717171713,
          -2.2727272727272725,
          -2.3737373737373737,
          -2.474747474747475,
          -2.5757575757575752,
          -2.6767676767676765,
          -2.7777777777777777,
          -2.878787878787879,
          -2.9797979797979792,
          -3.0808080808080813,
          -3.1818181818181817,
          -3.282828282828282,
          -3.383838383838384,
          -3.4848484848484844,
          -3.5858585858585865,
          -3.686868686868687,
          -3.787878787878787,
          -3.8888888888888893,
          -3.9898989898989896,
          -4.09090909090909,
          -4.191919191919192,
          -4.292929292929292,
          -4.3939393939393945,
          -4.494949494949495,
          -4.595959595959595,
          -4.696969696969697,
          -4.797979797979798,
          -4.8989898989899,
          -5.0,
          -5.0,
          -4.898989898989899,
          -4.797979797979798,
          -4.696969696969697,
          -4.595959595959596,
          -4.494949494949495,
          -4.393939393939394,
          -4.292929292929293,
          -4.191919191919192,
          -4.090909090909091,
          -3.9898989898989896,
          -3.888888888888889,
          -3.787878787878788,
          -3.686868686868687,
          -3.5858585858585856,
          -3.484848484848485,
          -3.383838383838384,
          -3.282828282828283,
          -3.1818181818181817,
          -3.080808080808081,
          -2.9797979797979797,
          -2.878787878787879,
          -2.7777777777777777,
          -2.676767676767677,
          -2.5757575757575757,
          -2.474747474747475,
          -2.3737373737373737,
          -2.272727272727273,
          -2.1717171717171717,
          -2.070707070707071,
          -1.9696969696969697,
          -1.868686868686869,
          -1.7676767676767677,
          -1.6666666666666665,
          -1.5656565656565657,
          -1.4646464646464645,
          -1.3636363636363638,
          -1.2626262626262625,
          -1.1616161616161618,
          -1.0606060606060606,
          -0.9595959595959593,
          -0.858585858585859,
          -0.7575757575757578,
          -0.6565656565656566,
          -0.5555555555555554,
          -0.45454545454545503,
          -0.3535353535353538,
          -0.2525252525252526,
          -0.15151515151515138,
          -0.050505050505050164,
          0.050505050505050164,
          0.15151515151515138,
          0.2525252525252526,
          0.3535353535353538,
          0.45454545454545414,
          0.5555555555555554,
          0.6565656565656566,
          0.7575757575757578,
          0.8585858585858581,
          0.9595959595959593,
          1.0606060606060606,
          1.1616161616161618,
          1.262626262626262,
          1.3636363636363633,
          1.4646464646464645,
          1.5656565656565657,
          1.666666666666667,
          1.7676767676767673,
          1.8686868686868685,
          1.9696969696969697,
          2.070707070707071,
          2.1717171717171713,
          2.2727272727272725,
          2.3737373737373737,
          2.474747474747475,
          2.5757575757575752,
          2.6767676767676765,
          2.7777777777777777,
          2.878787878787879,
          2.9797979797979792,
          3.0808080808080813,
          3.1818181818181817,
          3.282828282828282,
          3.383838383838384,
          3.4848484848484844,
          3.5858585858585865,
          3.686868686868687,
          3.787878787878787,
          3.8888888888888893,
          3.9898989898989896,
          4.09090909090909,
          4.191919191919192,
          4.292929292929292,
          4.3939393939393945,
          4.494949494949495,
          4.595959595959595,
          4.696969696969697,
          4.797979797979798,
          4.8989898989899,
          5.0,
          5.0,
          4.898989898989899,
          4.797979797979798,
          4.696969696969697,
          4.595959595959596,
          4.494949494949495,
          4.393939393939394,
          4.292929292929293,
          4.191919191919192,
          4.090909090909091,
          3.9898989898989896,
          3.888888888888889,
          3.787878787878788,
          3.686868686868687,
          3.5858585858585856,
          3.484848484848485,
          3.383838383838384,
          3.282828282828283,
          3.1818181818181817,
          3.080808080808081,
          2.9797979797979797,
          2.878787878787879,
          2.7777777777777777,
          2.676767676767677,
          2.5757575757575757,
          2.474747474747475,
          2.3737373737373737,
          2.272727272727273,
          2.1717171717171717,
          2.070707070707071,
          1.9696969696969697,
          1.868686868686869,
          1.7676767676767677,
          1.6666666666666665,
          1.5656565656565657,
          1.4646464646464645,
          1.3636363636363638,
          1.2626262626262625,
          1.1616161616161618,
          1.0606060606060606,
          0.9595959595959593,
          0.858585858585859,
          0.7575757575757578,
          0.6565656565656566,
          0.5555555555555554,
          0.45454545454545503,
          0.3535353535353538,
          0.2525252525252526,
          0.15151515151515138,
          0.050505050505050164,
          -0.050505050505050164,
          -0.15151515151515138,
          -0.2525252525252526,
          -0.3535353535353538,
          -0.45454545454545414,
          -0.5555555555555554,
          -0.6565656565656566,
          -0.7575757575757578,
          -0.8585858585858581,
          -0.9595959595959593,
          -1.0606060606060606,
          -1.1616161616161618,
          -1.262626262626262,
          -1.3636363636363633,
          -1.4646464646464645,
          -1.5656565656565657,
          -1.666666666666667,
          -1.7676767676767673,
          -1.8686868686868685,
          -1.9696969696969697,
          -2.070707070707071,
          -2.1717171717171713,
          -2.2727272727272725,
          -2.3737373737373737,
          -2.474747474747475,
          -2.5757575757575752,
          -2.6767676767676765,
          -2.7777777777777777,
          -2.878787878787879,
          -2.9797979797979792,
          -3.0808080808080813,
          -3.1818181818181817,
          -3.282828282828282,
          -3.383838383838384,
          -3.4848484848484844,
          -3.5858585858585865,
          -3.686868686868687,
          -3.787878787878787,
          -3.8888888888888893,
          -3.9898989898989896,
          -4.09090909090909,
          -4.191919191919192,
          -4.292929292929292,
          -4.3939393939393945,
          -4.494949494949495,
          -4.595959595959595,
          -4.696969696969697,
          -4.797979797979798,
          -4.8989898989899,
          -5.0
         ],
         "z": [
          75.00000000000001,
          75.99989796959494,
          76.97938985817774,
          77.93847566574841,
          78.87715539230689,
          79.79542903785328,
          80.69329660238752,
          81.57075808590962,
          82.42781348841956,
          83.26446280991735,
          84.08070605040302,
          84.87654320987653,
          85.65197428833793,
          86.40699928578718,
          87.14161820222425,
          87.85583103764922,
          88.54963779206203,
          89.2230384654627,
          89.87603305785123,
          90.50862156922764,
          91.12080399959189,
          91.71258034894397,
          92.28395061728395,
          92.83491480461178,
          93.36547291092745,
          93.87562493623098,
          94.36537088052238,
          94.83471074380165,
          95.28364452606877,
          95.71217222732375,
          96.12029384756657,
          96.50800938679727,
          96.87531884501581,
          97.22222222222224,
          97.54871951841648,
          97.8548107335986,
          98.14049586776859,
          98.40577492092645,
          98.65064789307212,
          98.87511478420569,
          99.0791755943271,
          99.2628303234364,
          99.42607897153351,
          99.5689215386185,
          99.69135802469137,
          99.79338842975206,
          99.87501275380063,
          99.93623099683704,
          99.97704315886133,
          99.99744923987349,
          99.99744923987349,
          99.97704315886133,
          99.93623099683704,
          99.87501275380063,
          99.79338842975206,
          99.69135802469137,
          99.5689215386185,
          99.42607897153351,
          99.2628303234364,
          99.0791755943271,
          98.87511478420569,
          98.65064789307212,
          98.40577492092645,
          98.14049586776859,
          97.8548107335986,
          97.54871951841648,
          97.22222222222224,
          96.87531884501581,
          96.50800938679727,
          96.12029384756657,
          95.71217222732375,
          95.28364452606877,
          94.83471074380165,
          94.36537088052238,
          93.87562493623098,
          93.36547291092748,
          92.83491480461178,
          92.28395061728395,
          91.71258034894397,
          91.12080399959189,
          90.50862156922764,
          89.87603305785123,
          89.2230384654627,
          88.54963779206203,
          87.85583103764922,
          87.14161820222425,
          86.40699928578718,
          85.65197428833793,
          84.87654320987653,
          84.08070605040302,
          83.26446280991735,
          82.42781348841956,
          81.57075808590962,
          80.69329660238752,
          79.79542903785328,
          78.87715539230693,
          77.93847566574841,
          76.97938985817774,
          75.99989796959494,
          75.00000000000001,
          75.00000000000001,
          75.99989796959494,
          76.97938985817774,
          77.93847566574841,
          78.87715539230689,
          79.79542903785328,
          80.69329660238752,
          81.57075808590962,
          82.42781348841956,
          83.26446280991735,
          84.08070605040302,
          84.87654320987653,
          85.65197428833793,
          86.40699928578718,
          87.14161820222425,
          87.85583103764922,
          88.54963779206203,
          89.2230384654627,
          89.87603305785123,
          90.50862156922764,
          91.12080399959189,
          91.71258034894397,
          92.28395061728395,
          92.83491480461178,
          93.36547291092745,
          93.87562493623098,
          94.36537088052238,
          94.83471074380165,
          95.28364452606877,
          95.71217222732375,
          96.12029384756657,
          96.50800938679727,
          96.87531884501581,
          97.22222222222224,
          97.54871951841648,
          97.8548107335986,
          98.14049586776859,
          98.40577492092645,
          98.65064789307212,
          98.87511478420569,
          99.0791755943271,
          99.2628303234364,
          99.42607897153351,
          99.5689215386185,
          99.69135802469137,
          99.79338842975206,
          99.87501275380063,
          99.93623099683704,
          99.97704315886133,
          99.99744923987349,
          99.99744923987349,
          99.97704315886133,
          99.93623099683704,
          99.87501275380063,
          99.79338842975206,
          99.69135802469137,
          99.5689215386185,
          99.42607897153351,
          99.2628303234364,
          99.0791755943271,
          98.87511478420569,
          98.65064789307212,
          98.40577492092645,
          98.14049586776859,
          97.8548107335986,
          97.54871951841648,
          97.22222222222224,
          96.87531884501581,
          96.50800938679727,
          96.12029384756657,
          95.71217222732375,
          95.28364452606877,
          94.83471074380165,
          94.36537088052238,
          93.87562493623098,
          93.36547291092748,
          92.83491480461178,
          92.28395061728395,
          91.71258034894397,
          91.12080399959189,
          90.50862156922764,
          89.87603305785123,
          89.2230384654627,
          88.54963779206203,
          87.85583103764922,
          87.14161820222425,
          86.40699928578718,
          85.65197428833793,
          84.87654320987653,
          84.08070605040302,
          83.26446280991735,
          82.42781348841956,
          81.57075808590962,
          80.69329660238752,
          79.79542903785328,
          78.87715539230693,
          77.93847566574841,
          76.97938985817774,
          75.99989796959494,
          75.00000000000001,
          0.0,
          0.9998979695949402,
          1.97938985817774,
          2.9384756657483915,
          3.8771553923069066,
          4.795429037853282,
          5.693296602387515,
          6.570758085909598,
          7.427813488419548,
          8.264462809917353,
          9.080706050403023,
          9.876543209876544,
          10.651974288337922,
          11.406999285787165,
          12.141618202224265,
          12.85583103764922,
          13.549637792062033,
          14.22303846546271,
          14.876033057851238,
          15.50862156922763,
          16.120803999591878,
          16.712580348943987,
          17.28395061728395,
          17.834914804611774,
          18.365472910927455,
          18.875624936231,
          19.365370880522395,
          19.83471074380165,
          20.283644526068773,
          20.71217222732374,
          21.12029384756658,
          21.508009386797262,
          21.87531884501582,
          22.222222222222225,
          22.548719518416483,
          22.854810733598615,
          23.1404958677686,
          23.40577492092644,
          23.650647893072133,
          23.875114784205692,
          24.07917559432711,
          24.262830323436383,
          24.42607897153352,
          24.568921538618508,
          24.69135802469136,
          24.79338842975207,
          24.875012753800632,
          24.936230996837057,
          24.977043158861346,
          24.99744923987348,
          24.99744923987348,
          24.977043158861346,
          24.936230996837057,
          24.875012753800632,
          24.79338842975207,
          24.69135802469136,
          24.568921538618508,
          24.42607897153352,
          24.262830323436383,
          24.07917559432711,
          23.875114784205692,
          23.650647893072133,
          23.40577492092644,
          23.1404958677686,
          22.854810733598615,
          22.548719518416483,
          22.222222222222225,
          21.87531884501582,
          21.508009386797262,
          21.12029384756658,
          20.71217222732374,
          20.283644526068773,
          19.83471074380165,
          19.365370880522395,
          18.875624936231,
          18.365472910927455,
          17.83491480461178,
          17.28395061728395,
          16.712580348943987,
          16.120803999591885,
          15.508621569227627,
          14.876033057851238,
          14.223038465462713,
          13.549637792062033,
          12.855831037649223,
          12.141618202224258,
          11.406999285787165,
          10.65197428833793,
          9.87654320987654,
          9.080706050403023,
          8.264462809917362,
          7.427813488419548,
          6.570758085909605,
          5.6932966023875045,
          4.795429037853282,
          3.8771553923069146,
          2.9384756657483915,
          1.97938985817774,
          0.999897969594933,
          0.0,
          0.0,
          0.9998979695949402,
          1.97938985817774,
          2.9384756657483915,
          3.8771553923069066,
          4.795429037853282,
          5.693296602387515,
          6.570758085909598,
          7.427813488419548,
          8.264462809917353,
          9.080706050403023,
          9.876543209876544,
          10.651974288337922,
          11.406999285787165,
          12.141618202224265,
          12.85583103764922,
          13.549637792062033,
          14.22303846546271,
          14.876033057851238,
          15.50862156922763,
          16.120803999591878,
          16.712580348943987,
          17.28395061728395,
          17.834914804611774,
          18.365472910927455,
          18.875624936231,
          19.365370880522395,
          19.83471074380165,
          20.283644526068773,
          20.71217222732374,
          21.12029384756658,
          21.508009386797262,
          21.87531884501582,
          22.222222222222225,
          22.548719518416483,
          22.854810733598615,
          23.1404958677686,
          23.40577492092644,
          23.650647893072133,
          23.875114784205692,
          24.07917559432711,
          24.262830323436383,
          24.42607897153352,
          24.568921538618508,
          24.69135802469136,
          24.79338842975207,
          24.875012753800632,
          24.936230996837057,
          24.977043158861346,
          24.99744923987348,
          24.99744923987348,
          24.977043158861346,
          24.936230996837057,
          24.875012753800632,
          24.79338842975207,
          24.69135802469136,
          24.568921538618508,
          24.42607897153352,
          24.262830323436383,
          24.07917559432711,
          23.875114784205692,
          23.650647893072133,
          23.40577492092644,
          23.1404958677686,
          22.854810733598615,
          22.548719518416483,
          22.222222222222225,
          21.87531884501582,
          21.508009386797262,
          21.12029384756658,
          20.71217222732374,
          20.283644526068773,
          19.83471074380165,
          19.365370880522395,
          18.875624936231,
          18.365472910927455,
          17.83491480461178,
          17.28395061728395,
          16.712580348943987,
          16.120803999591885,
          15.508621569227627,
          14.876033057851238,
          14.223038465462713,
          13.549637792062033,
          12.855831037649223,
          12.141618202224258,
          11.406999285787165,
          10.65197428833793,
          9.87654320987654,
          9.080706050403023,
          8.264462809917362,
          7.427813488419548,
          6.570758085909605,
          5.6932966023875045,
          4.795429037853282,
          3.8771553923069146,
          2.9384756657483915,
          1.97938985817774,
          0.999897969594933,
          0.0
         ],
         "type": "scatter3d"
        }
       ],
       "layout": {
        "template": {
         "data": {
          "histogram2dcontour": [
           {
            "type": "histogram2dcontour",
            "colorbar": {
             "outlinewidth": 0,
             "ticks": ""
            },
            "colorscale": [
             [
              0.0,
              "#0d0887"
             ],
             [
              0.1111111111111111,
              "#46039f"
             ],
             [
              0.2222222222222222,
              "#7201a8"
             ],
             [
              0.3333333333333333,
              "#9c179e"
             ],
             [
              0.4444444444444444,
              "#bd3786"
             ],
             [
              0.5555555555555556,
              "#d8576b"
             ],
             [
              0.6666666666666666,
              "#ed7953"
             ],
             [
              0.7777777777777778,
              "#fb9f3a"
             ],
             [
              0.8888888888888888,
              "#fdca26"
             ],
             [
              1.0,
              "#f0f921"
             ]
            ]
           }
          ],
          "choropleth": [
           {
            "type": "choropleth",
            "colorbar": {
             "outlinewidth": 0,
             "ticks": ""
            }
           }
          ],
          "histogram2d": [
           {
            "type": "histogram2d",
            "colorbar": {
             "outlinewidth": 0,
             "ticks": ""
            },
            "colorscale": [
             [
              0.0,
              "#0d0887"
             ],
             [
              0.1111111111111111,
              "#46039f"
             ],
             [
              0.2222222222222222,
              "#7201a8"
             ],
             [
              0.3333333333333333,
              "#9c179e"
             ],
             [
              0.4444444444444444,
              "#bd3786"
             ],
             [
              0.5555555555555556,
              "#d8576b"
             ],
             [
              0.6666666666666666,
              "#ed7953"
             ],
             [
              0.7777777777777778,
              "#fb9f3a"
             ],
             [
              0.8888888888888888,
              "#fdca26"
             ],
             [
              1.0,
              "#f0f921"
             ]
            ]
           }
          ],
          "heatmap": [
           {
            "type": "heatmap",
            "colorbar": {
             "outlinewidth": 0,
             "ticks": ""
            },
            "colorscale": [
             [
              0.0,
              "#0d0887"
             ],
             [
              0.1111111111111111,
              "#46039f"
             ],
             [
              0.2222222222222222,
              "#7201a8"
             ],
             [
              0.3333333333333333,
              "#9c179e"
             ],
             [
              0.4444444444444444,
              "#bd3786"
             ],
             [
              0.5555555555555556,
              "#d8576b"
             ],
             [
              0.6666666666666666,
              "#ed7953"
             ],
             [
              0.7777777777777778,
              "#fb9f3a"
             ],
             [
              0.8888888888888888,
              "#fdca26"
             ],
             [
              1.0,
              "#f0f921"
             ]
            ]
           }
          ],
          "heatmapgl": [
           {
            "type": "heatmapgl",
            "colorbar": {
             "outlinewidth": 0,
             "ticks": ""
            },
            "colorscale": [
             [
              0.0,
              "#0d0887"
             ],
             [
              0.1111111111111111,
              "#46039f"
             ],
             [
              0.2222222222222222,
              "#7201a8"
             ],
             [
              0.3333333333333333,
              "#9c179e"
             ],
             [
              0.4444444444444444,
              "#bd3786"
             ],
             [
              0.5555555555555556,
              "#d8576b"
             ],
             [
              0.6666666666666666,
              "#ed7953"
             ],
             [
              0.7777777777777778,
              "#fb9f3a"
             ],
             [
              0.8888888888888888,
              "#fdca26"
             ],
             [
              1.0,
              "#f0f921"
             ]
            ]
           }
          ],
          "contourcarpet": [
           {
            "type": "contourcarpet",
            "colorbar": {
             "outlinewidth": 0,
             "ticks": ""
            }
           }
          ],
          "contour": [
           {
            "type": "contour",
            "colorbar": {
             "outlinewidth": 0,
             "ticks": ""
            },
            "colorscale": [
             [
              0.0,
              "#0d0887"
             ],
             [
              0.1111111111111111,
              "#46039f"
             ],
             [
              0.2222222222222222,
              "#7201a8"
             ],
             [
              0.3333333333333333,
              "#9c179e"
             ],
             [
              0.4444444444444444,
              "#bd3786"
             ],
             [
              0.5555555555555556,
              "#d8576b"
             ],
             [
              0.6666666666666666,
              "#ed7953"
             ],
             [
              0.7777777777777778,
              "#fb9f3a"
             ],
             [
              0.8888888888888888,
              "#fdca26"
             ],
             [
              1.0,
              "#f0f921"
             ]
            ]
           }
          ],
          "surface": [
           {
            "type": "surface",
            "colorbar": {
             "outlinewidth": 0,
             "ticks": ""
            },
            "colorscale": [
             [
              0.0,
              "#0d0887"
             ],
             [
              0.1111111111111111,
              "#46039f"
             ],
             [
              0.2222222222222222,
              "#7201a8"
             ],
             [
              0.3333333333333333,
              "#9c179e"
             ],
             [
              0.4444444444444444,
              "#bd3786"
             ],
             [
              0.5555555555555556,
              "#d8576b"
             ],
             [
              0.6666666666666666,
              "#ed7953"
             ],
             [
              0.7777777777777778,
              "#fb9f3a"
             ],
             [
              0.8888888888888888,
              "#fdca26"
             ],
             [
              1.0,
              "#f0f921"
             ]
            ]
           }
          ],
          "mesh3d": [
           {
            "type": "mesh3d",
            "colorbar": {
             "outlinewidth": 0,
             "ticks": ""
            }
           }
          ],
          "scatter": [
           {
            "fillpattern": {
             "fillmode": "overlay",
             "size": 10,
             "solidity": 0.2
            },
            "type": "scatter"
           }
          ],
          "parcoords": [
           {
            "type": "parcoords",
            "line": {
             "colorbar": {
              "outlinewidth": 0,
              "ticks": ""
             }
            }
           }
          ],
          "scatterpolargl": [
           {
            "type": "scatterpolargl",
            "marker": {
             "colorbar": {
              "outlinewidth": 0,
              "ticks": ""
             }
            }
           }
          ],
          "bar": [
           {
            "error_x": {
             "color": "#2a3f5f"
            },
            "error_y": {
             "color": "#2a3f5f"
            },
            "marker": {
             "line": {
              "color": "#E5ECF6",
              "width": 0.5
             },
             "pattern": {
              "fillmode": "overlay",
              "size": 10,
              "solidity": 0.2
             }
            },
            "type": "bar"
           }
          ],
          "scattergeo": [
           {
            "type": "scattergeo",
            "marker": {
             "colorbar": {
              "outlinewidth": 0,
              "ticks": ""
             }
            }
           }
          ],
          "scatterpolar": [
           {
            "type": "scatterpolar",
            "marker": {
             "colorbar": {
              "outlinewidth": 0,
              "ticks": ""
             }
            }
           }
          ],
          "histogram": [
           {
            "marker": {
             "pattern": {
              "fillmode": "overlay",
              "size": 10,
              "solidity": 0.2
             }
            },
            "type": "histogram"
           }
          ],
          "scattergl": [
           {
            "type": "scattergl",
            "marker": {
             "colorbar": {
              "outlinewidth": 0,
              "ticks": ""
             }
            }
           }
          ],
          "scatter3d": [
           {
            "type": "scatter3d",
            "line": {
             "colorbar": {
              "outlinewidth": 0,
              "ticks": ""
             }
            },
            "marker": {
             "colorbar": {
              "outlinewidth": 0,
              "ticks": ""
             }
            }
           }
          ],
          "scattermapbox": [
           {
            "type": "scattermapbox",
            "marker": {
             "colorbar": {
              "outlinewidth": 0,
              "ticks": ""
             }
            }
           }
          ],
          "scatterternary": [
           {
            "type": "scatterternary",
            "marker": {
             "colorbar": {
              "outlinewidth": 0,
              "ticks": ""
             }
            }
           }
          ],
          "scattercarpet": [
           {
            "type": "scattercarpet",
            "marker": {
             "colorbar": {
              "outlinewidth": 0,
              "ticks": ""
             }
            }
           }
          ],
          "carpet": [
           {
            "aaxis": {
             "endlinecolor": "#2a3f5f",
             "gridcolor": "white",
             "linecolor": "white",
             "minorgridcolor": "white",
             "startlinecolor": "#2a3f5f"
            },
            "baxis": {
             "endlinecolor": "#2a3f5f",
             "gridcolor": "white",
             "linecolor": "white",
             "minorgridcolor": "white",
             "startlinecolor": "#2a3f5f"
            },
            "type": "carpet"
           }
          ],
          "table": [
           {
            "cells": {
             "fill": {
              "color": "#EBF0F8"
             },
             "line": {
              "color": "white"
             }
            },
            "header": {
             "fill": {
              "color": "#C8D4E3"
             },
             "line": {
              "color": "white"
             }
            },
            "type": "table"
           }
          ],
          "barpolar": [
           {
            "marker": {
             "line": {
              "color": "#E5ECF6",
              "width": 0.5
             },
             "pattern": {
              "fillmode": "overlay",
              "size": 10,
              "solidity": 0.2
             }
            },
            "type": "barpolar"
           }
          ],
          "pie": [
           {
            "automargin": true,
            "type": "pie"
           }
          ]
         },
         "layout": {
          "autotypenumbers": "strict",
          "colorway": [
           "#636efa",
           "#EF553B",
           "#00cc96",
           "#ab63fa",
           "#FFA15A",
           "#19d3f3",
           "#FF6692",
           "#B6E880",
           "#FF97FF",
           "#FECB52"
          ],
          "font": {
           "color": "#2a3f5f"
          },
          "hovermode": "closest",
          "hoverlabel": {
           "align": "left"
          },
          "paper_bgcolor": "white",
          "plot_bgcolor": "#E5ECF6",
          "polar": {
           "bgcolor": "#E5ECF6",
           "angularaxis": {
            "gridcolor": "white",
            "linecolor": "white",
            "ticks": ""
           },
           "radialaxis": {
            "gridcolor": "white",
            "linecolor": "white",
            "ticks": ""
           }
          },
          "ternary": {
           "bgcolor": "#E5ECF6",
           "aaxis": {
            "gridcolor": "white",
            "linecolor": "white",
            "ticks": ""
           },
           "baxis": {
            "gridcolor": "white",
            "linecolor": "white",
            "ticks": ""
           },
           "caxis": {
            "gridcolor": "white",
            "linecolor": "white",
            "ticks": ""
           }
          },
          "coloraxis": {
           "colorbar": {
            "outlinewidth": 0,
            "ticks": ""
           }
          },
          "colorscale": {
           "sequential": [
            [
             0.0,
             "#0d0887"
            ],
            [
             0.1111111111111111,
             "#46039f"
            ],
            [
             0.2222222222222222,
             "#7201a8"
            ],
            [
             0.3333333333333333,
             "#9c179e"
            ],
            [
             0.4444444444444444,
             "#bd3786"
            ],
            [
             0.5555555555555556,
             "#d8576b"
            ],
            [
             0.6666666666666666,
             "#ed7953"
            ],
            [
             0.7777777777777778,
             "#fb9f3a"
            ],
            [
             0.8888888888888888,
             "#fdca26"
            ],
            [
             1.0,
             "#f0f921"
            ]
           ],
           "sequentialminus": [
            [
             0.0,
             "#0d0887"
            ],
            [
             0.1111111111111111,
             "#46039f"
            ],
            [
             0.2222222222222222,
             "#7201a8"
            ],
            [
             0.3333333333333333,
             "#9c179e"
            ],
            [
             0.4444444444444444,
             "#bd3786"
            ],
            [
             0.5555555555555556,
             "#d8576b"
            ],
            [
             0.6666666666666666,
             "#ed7953"
            ],
            [
             0.7777777777777778,
             "#fb9f3a"
            ],
            [
             0.8888888888888888,
             "#fdca26"
            ],
            [
             1.0,
             "#f0f921"
            ]
           ],
           "diverging": [
            [
             0,
             "#8e0152"
            ],
            [
             0.1,
             "#c51b7d"
            ],
            [
             0.2,
             "#de77ae"
            ],
            [
             0.3,
             "#f1b6da"
            ],
            [
             0.4,
             "#fde0ef"
            ],
            [
             0.5,
             "#f7f7f7"
            ],
            [
             0.6,
             "#e6f5d0"
            ],
            [
             0.7,
             "#b8e186"
            ],
            [
             0.8,
             "#7fbc41"
            ],
            [
             0.9,
             "#4d9221"
            ],
            [
             1,
             "#276419"
            ]
           ]
          },
          "xaxis": {
           "gridcolor": "white",
           "linecolor": "white",
           "ticks": "",
           "title": {
            "standoff": 15
           },
           "zerolinecolor": "white",
           "automargin": true,
           "zerolinewidth": 2
          },
          "yaxis": {
           "gridcolor": "white",
           "linecolor": "white",
           "ticks": "",
           "title": {
            "standoff": 15
           },
           "zerolinecolor": "white",
           "automargin": true,
           "zerolinewidth": 2
          },
          "scene": {
           "xaxis": {
            "backgroundcolor": "#E5ECF6",
            "gridcolor": "white",
            "linecolor": "white",
            "showbackground": true,
            "ticks": "",
            "zerolinecolor": "white",
            "gridwidth": 2
           },
           "yaxis": {
            "backgroundcolor": "#E5ECF6",
            "gridcolor": "white",
            "linecolor": "white",
            "showbackground": true,
            "ticks": "",
            "zerolinecolor": "white",
            "gridwidth": 2
           },
           "zaxis": {
            "backgroundcolor": "#E5ECF6",
            "gridcolor": "white",
            "linecolor": "white",
            "showbackground": true,
            "ticks": "",
            "zerolinecolor": "white",
            "gridwidth": 2
           }
          },
          "shapedefaults": {
           "line": {
            "color": "#2a3f5f"
           }
          },
          "annotationdefaults": {
           "arrowcolor": "#2a3f5f",
           "arrowhead": 0,
           "arrowwidth": 1
          },
          "geo": {
           "bgcolor": "white",
           "landcolor": "#E5ECF6",
           "subunitcolor": "white",
           "showland": true,
           "showlakes": true,
           "lakecolor": "white"
          },
          "title": {
           "x": 0.05
          },
          "mapbox": {
           "style": "light"
          }
         }
        },
        "scene": {
         "domain": {
          "x": [
           0.0,
           1.0
          ],
          "y": [
           0.0,
           1.0
          ]
         },
         "xaxis": {
          "title": {
           "text": "X1"
          }
         },
         "yaxis": {
          "title": {
           "text": "X2"
          }
         },
         "zaxis": {
          "title": {
           "text": "X1^2"
          }
         }
        },
        "coloraxis": {
         "colorbar": {
          "title": {
           "text": "Y"
          }
         },
         "colorscale": [
          [
           0.0,
           "#0d0887"
          ],
          [
           0.1111111111111111,
           "#46039f"
          ],
          [
           0.2222222222222222,
           "#7201a8"
          ],
          [
           0.3333333333333333,
           "#9c179e"
          ],
          [
           0.4444444444444444,
           "#bd3786"
          ],
          [
           0.5555555555555556,
           "#d8576b"
          ],
          [
           0.6666666666666666,
           "#ed7953"
          ],
          [
           0.7777777777777778,
           "#fb9f3a"
          ],
          [
           0.8888888888888888,
           "#fdca26"
          ],
          [
           1.0,
           "#f0f921"
          ]
         ]
        },
        "legend": {
         "tracegroupgap": 0
        },
        "margin": {
         "t": 60
        }
       },
       "config": {
        "plotlyServerURL": "https://plot.ly"
       }
      },
      "text/html": [
       "<div>                            <div id=\"fa9aca45-1f09-4782-9982-f3d7abe49298\" class=\"plotly-graph-div\" style=\"height:525px; width:100%;\"></div>            <script type=\"text/javascript\">                require([\"plotly\"], function(Plotly) {                    window.PLOTLYENV=window.PLOTLYENV || {};                                    if (document.getElementById(\"fa9aca45-1f09-4782-9982-f3d7abe49298\")) {                    Plotly.newPlot(                        \"fa9aca45-1f09-4782-9982-f3d7abe49298\",                        [{\"hovertemplate\":\"X1=%{x}\\u003cbr\\u003eX2=%{y}\\u003cbr\\u003eX1^2=%{z}\\u003cbr\\u003eY=%{marker.color}\\u003cextra\\u003e\\u003c\\u002fextra\\u003e\",\"legendgroup\":\"\",\"marker\":{\"color\":[0,0,0,0,0,0,0,0,0,0,0,0,0,0,0,0,0,0,0,0,0,0,0,0,0,0,0,0,0,0,0,0,0,0,0,0,0,0,0,0,0,0,0,0,0,0,0,0,0,0,0,0,0,0,0,0,0,0,0,0,0,0,0,0,0,0,0,0,0,0,0,0,0,0,0,0,0,0,0,0,0,0,0,0,0,0,0,0,0,0,0,0,0,0,0,0,0,0,0,0,0,0,0,0,0,0,0,0,0,0,0,0,0,0,0,0,0,0,0,0,0,0,0,0,0,0,0,0,0,0,0,0,0,0,0,0,0,0,0,0,0,0,0,0,0,0,0,0,0,0,0,0,0,0,0,0,0,0,0,0,0,0,0,0,0,0,0,0,0,0,0,0,0,0,0,0,0,0,0,0,0,0,0,0,0,0,0,0,0,0,0,0,0,0,0,0,0,0,0,0,1,1,1,1,1,1,1,1,1,1,1,1,1,1,1,1,1,1,1,1,1,1,1,1,1,1,1,1,1,1,1,1,1,1,1,1,1,1,1,1,1,1,1,1,1,1,1,1,1,1,1,1,1,1,1,1,1,1,1,1,1,1,1,1,1,1,1,1,1,1,1,1,1,1,1,1,1,1,1,1,1,1,1,1,1,1,1,1,1,1,1,1,1,1,1,1,1,1,1,1,1,1,1,1,1,1,1,1,1,1,1,1,1,1,1,1,1,1,1,1,1,1,1,1,1,1,1,1,1,1,1,1,1,1,1,1,1,1,1,1,1,1,1,1,1,1,1,1,1,1,1,1,1,1,1,1,1,1,1,1,1,1,1,1,1,1,1,1,1,1,1,1,1,1,1,1,1,1,1,1,1,1,1,1,1,1,1,1,1,1,1,1,1,1,1,1,1,1,1,1],\"coloraxis\":\"coloraxis\",\"symbol\":\"circle\"},\"mode\":\"markers\",\"name\":\"\",\"scene\":\"scene\",\"showlegend\":false,\"x\":[8.660254037844387,8.71779203523432,8.773789936975795,8.82827704967104,8.88128117966698,8.932828725429212,8.982944762291902,9.031653120326844,9.078976455989935,9.124936318129423,9.16955320887572,9.21284663987611,9.254835184288153,9.295536524902001,9.33496749872351,9.373144138316087,9.41008171016926,9.445794750335342,9.480297097551913,9.513601924046835,9.545721764203684,9.576668541248777,9.60645359210588,9.635087690551227,9.662581068789407,9.68894343755969,9.714184004872585,9.738311493467522,9.76133415707447,9.783259795555045,9.804095768991987,9.823849010789878,9.842526039844437,9.860132971832694,9.876675529671736,9.89215905318948,9.906588508046985,9.919968493948277,9.93230325217027,9.943596672442306,9.953852299201907,9.96307333725073,9.971262656832058,9.978422798148939,9.984555975339683,9.989664079925413,9.993748683742284,9.996811041368995,9.998852092058435,9.999872461180367,9.999872461180367,9.998852092058435,9.996811041368995,9.993748683742284,9.989664079925413,9.984555975339683,9.978422798148939,9.971262656832058,9.96307333725073,9.953852299201907,9.943596672442306,9.93230325217027,9.919968493948277,9.906588508046985,9.89215905318948,9.876675529671736,9.860132971832694,9.842526039844437,9.823849010789878,9.804095768991987,9.783259795555045,9.76133415707447,9.738311493467522,9.714184004872585,9.68894343755969,9.66258106878941,9.635087690551227,9.60645359210588,9.576668541248777,9.545721764203684,9.513601924046835,9.480297097551913,9.445794750335342,9.41008171016926,9.373144138316087,9.33496749872351,9.295536524902001,9.254835184288153,9.21284663987611,9.16955320887572,9.124936318129423,9.078976455989935,9.031653120326844,8.982944762291902,8.932828725429212,8.881281179666981,8.82827704967104,8.773789936975795,8.71779203523432,8.660254037844387,-8.660254037844387,-8.71779203523432,-8.773789936975795,-8.82827704967104,-8.88128117966698,-8.932828725429212,-8.982944762291902,-9.031653120326844,-9.078976455989935,-9.124936318129423,-9.16955320887572,-9.21284663987611,-9.254835184288153,-9.295536524902001,-9.33496749872351,-9.373144138316087,-9.41008171016926,-9.445794750335342,-9.480297097551913,-9.513601924046835,-9.545721764203684,-9.576668541248777,-9.60645359210588,-9.635087690551227,-9.662581068789407,-9.68894343755969,-9.714184004872585,-9.738311493467522,-9.76133415707447,-9.783259795555045,-9.804095768991987,-9.823849010789878,-9.842526039844437,-9.860132971832694,-9.876675529671736,-9.89215905318948,-9.906588508046985,-9.919968493948277,-9.93230325217027,-9.943596672442306,-9.953852299201907,-9.96307333725073,-9.971262656832058,-9.978422798148939,-9.984555975339683,-9.989664079925413,-9.993748683742284,-9.996811041368995,-9.998852092058435,-9.999872461180367,-9.999872461180367,-9.998852092058435,-9.996811041368995,-9.993748683742284,-9.989664079925413,-9.984555975339683,-9.978422798148939,-9.971262656832058,-9.96307333725073,-9.953852299201907,-9.943596672442306,-9.93230325217027,-9.919968493948277,-9.906588508046985,-9.89215905318948,-9.876675529671736,-9.860132971832694,-9.842526039844437,-9.823849010789878,-9.804095768991987,-9.783259795555045,-9.76133415707447,-9.738311493467522,-9.714184004872585,-9.68894343755969,-9.66258106878941,-9.635087690551227,-9.60645359210588,-9.576668541248777,-9.545721764203684,-9.513601924046835,-9.480297097551913,-9.445794750335342,-9.41008171016926,-9.373144138316087,-9.33496749872351,-9.295536524902001,-9.254835184288153,-9.21284663987611,-9.16955320887572,-9.124936318129423,-9.078976455989935,-9.031653120326844,-8.982944762291902,-8.932828725429212,-8.881281179666981,-8.82827704967104,-8.773789936975795,-8.71779203523432,-8.660254037844387,0.0,0.9999489834961283,1.4069079067862758,1.714198257421933,1.9690493625876693,2.1898468069372528,2.386062992124792,2.5633489980706097,2.7254015279256647,2.8747978728803445,3.013420987914404,3.1426968052735447,3.263736246748184,3.3774249489495936,3.484482487002089,3.5855028988482522,3.6809832643007265,3.771344384362519,3.85694607919935,3.938098725175339,4.015072103909453,4.0881022918884975,4.15739709641549,4.2231403960337115,4.2854956435548335,4.3446087207285995,4.400610285008478,4.453617714151233,4.5037367292137285,4.5510627580076,4.59568208730397,4.637672841716766,4.677105819309182,4.714045207910317,4.748549201431579,4.78067053179767,4.810456929208347,4.837951521142646,4.863193178670999,4.886216817150636,4.907053657168129,4.92573145060065,4.9422746758485125,4.956704705610221,4.969039949999533,4.979295977319692,4.987485614395357,4.9936190280033435,4.997703788627468,4.999744917480639,4.999744917480639,4.997703788627468,4.9936190280033435,4.987485614395357,4.979295977319692,4.969039949999533,4.956704705610221,4.9422746758485125,4.92573145060065,4.907053657168129,4.886216817150636,4.863193178670999,4.837951521142646,4.810456929208347,4.78067053179767,4.748549201431579,4.714045207910317,4.677105819309182,4.637672841716766,4.59568208730397,4.5510627580076,4.5037367292137285,4.453617714151233,4.400610285008478,4.3446087207285995,4.2854956435548335,4.223140396033712,4.15739709641549,4.0881022918884975,4.0150721039094535,3.9380987251753385,3.85694607919935,3.7713443843625196,3.6809832643007265,3.5855028988482527,3.4844824870020883,3.3774249489495936,3.263736246748185,3.1426968052735442,3.013420987914404,2.874797872880346,2.7254015279256647,2.563348998070611,2.38606299212479,2.1898468069372528,1.9690493625876713,1.714198257421933,1.4069079067862758,0.9999489834961247,0.0,-0.0,-0.9999489834961283,-1.4069079067862758,-1.714198257421933,-1.9690493625876693,-2.1898468069372528,-2.386062992124792,-2.5633489980706097,-2.7254015279256647,-2.8747978728803445,-3.013420987914404,-3.1426968052735447,-3.263736246748184,-3.3774249489495936,-3.484482487002089,-3.5855028988482522,-3.6809832643007265,-3.771344384362519,-3.85694607919935,-3.938098725175339,-4.015072103909453,-4.0881022918884975,-4.15739709641549,-4.2231403960337115,-4.2854956435548335,-4.3446087207285995,-4.400610285008478,-4.453617714151233,-4.5037367292137285,-4.5510627580076,-4.59568208730397,-4.637672841716766,-4.677105819309182,-4.714045207910317,-4.748549201431579,-4.78067053179767,-4.810456929208347,-4.837951521142646,-4.863193178670999,-4.886216817150636,-4.907053657168129,-4.92573145060065,-4.9422746758485125,-4.956704705610221,-4.969039949999533,-4.979295977319692,-4.987485614395357,-4.9936190280033435,-4.997703788627468,-4.999744917480639,-4.999744917480639,-4.997703788627468,-4.9936190280033435,-4.987485614395357,-4.979295977319692,-4.969039949999533,-4.956704705610221,-4.9422746758485125,-4.92573145060065,-4.907053657168129,-4.886216817150636,-4.863193178670999,-4.837951521142646,-4.810456929208347,-4.78067053179767,-4.748549201431579,-4.714045207910317,-4.677105819309182,-4.637672841716766,-4.59568208730397,-4.5510627580076,-4.5037367292137285,-4.453617714151233,-4.400610285008478,-4.3446087207285995,-4.2854956435548335,-4.223140396033712,-4.15739709641549,-4.0881022918884975,-4.0150721039094535,-3.9380987251753385,-3.85694607919935,-3.7713443843625196,-3.6809832643007265,-3.5855028988482527,-3.4844824870020883,-3.3774249489495936,-3.263736246748185,-3.1426968052735442,-3.013420987914404,-2.874797872880346,-2.7254015279256647,-2.563348998070611,-2.38606299212479,-2.1898468069372528,-1.9690493625876713,-1.714198257421933,-1.4069079067862758,-0.9999489834961247,-0.0],\"y\":[-5.0,-4.898989898989899,-4.797979797979798,-4.696969696969697,-4.595959595959596,-4.494949494949495,-4.393939393939394,-4.292929292929293,-4.191919191919192,-4.090909090909091,-3.9898989898989896,-3.888888888888889,-3.787878787878788,-3.686868686868687,-3.5858585858585856,-3.484848484848485,-3.383838383838384,-3.282828282828283,-3.1818181818181817,-3.080808080808081,-2.9797979797979797,-2.878787878787879,-2.7777777777777777,-2.676767676767677,-2.5757575757575757,-2.474747474747475,-2.3737373737373737,-2.272727272727273,-2.1717171717171717,-2.070707070707071,-1.9696969696969697,-1.868686868686869,-1.7676767676767677,-1.6666666666666665,-1.5656565656565657,-1.4646464646464645,-1.3636363636363638,-1.2626262626262625,-1.1616161616161618,-1.0606060606060606,-0.9595959595959593,-0.858585858585859,-0.7575757575757578,-0.6565656565656566,-0.5555555555555554,-0.45454545454545503,-0.3535353535353538,-0.2525252525252526,-0.15151515151515138,-0.050505050505050164,0.050505050505050164,0.15151515151515138,0.2525252525252526,0.3535353535353538,0.45454545454545414,0.5555555555555554,0.6565656565656566,0.7575757575757578,0.8585858585858581,0.9595959595959593,1.0606060606060606,1.1616161616161618,1.262626262626262,1.3636363636363633,1.4646464646464645,1.5656565656565657,1.666666666666667,1.7676767676767673,1.8686868686868685,1.9696969696969697,2.070707070707071,2.1717171717171713,2.2727272727272725,2.3737373737373737,2.474747474747475,2.5757575757575752,2.6767676767676765,2.7777777777777777,2.878787878787879,2.9797979797979792,3.0808080808080813,3.1818181818181817,3.282828282828282,3.383838383838384,3.4848484848484844,3.5858585858585865,3.686868686868687,3.787878787878787,3.8888888888888893,3.9898989898989896,4.09090909090909,4.191919191919192,4.292929292929292,4.3939393939393945,4.494949494949495,4.595959595959595,4.696969696969697,4.797979797979798,4.8989898989899,5.0,5.0,4.898989898989899,4.797979797979798,4.696969696969697,4.595959595959596,4.494949494949495,4.393939393939394,4.292929292929293,4.191919191919192,4.090909090909091,3.9898989898989896,3.888888888888889,3.787878787878788,3.686868686868687,3.5858585858585856,3.484848484848485,3.383838383838384,3.282828282828283,3.1818181818181817,3.080808080808081,2.9797979797979797,2.878787878787879,2.7777777777777777,2.676767676767677,2.5757575757575757,2.474747474747475,2.3737373737373737,2.272727272727273,2.1717171717171717,2.070707070707071,1.9696969696969697,1.868686868686869,1.7676767676767677,1.6666666666666665,1.5656565656565657,1.4646464646464645,1.3636363636363638,1.2626262626262625,1.1616161616161618,1.0606060606060606,0.9595959595959593,0.858585858585859,0.7575757575757578,0.6565656565656566,0.5555555555555554,0.45454545454545503,0.3535353535353538,0.2525252525252526,0.15151515151515138,0.050505050505050164,-0.050505050505050164,-0.15151515151515138,-0.2525252525252526,-0.3535353535353538,-0.45454545454545414,-0.5555555555555554,-0.6565656565656566,-0.7575757575757578,-0.8585858585858581,-0.9595959595959593,-1.0606060606060606,-1.1616161616161618,-1.262626262626262,-1.3636363636363633,-1.4646464646464645,-1.5656565656565657,-1.666666666666667,-1.7676767676767673,-1.8686868686868685,-1.9696969696969697,-2.070707070707071,-2.1717171717171713,-2.2727272727272725,-2.3737373737373737,-2.474747474747475,-2.5757575757575752,-2.6767676767676765,-2.7777777777777777,-2.878787878787879,-2.9797979797979792,-3.0808080808080813,-3.1818181818181817,-3.282828282828282,-3.383838383838384,-3.4848484848484844,-3.5858585858585865,-3.686868686868687,-3.787878787878787,-3.8888888888888893,-3.9898989898989896,-4.09090909090909,-4.191919191919192,-4.292929292929292,-4.3939393939393945,-4.494949494949495,-4.595959595959595,-4.696969696969697,-4.797979797979798,-4.8989898989899,-5.0,-5.0,-4.898989898989899,-4.797979797979798,-4.696969696969697,-4.595959595959596,-4.494949494949495,-4.393939393939394,-4.292929292929293,-4.191919191919192,-4.090909090909091,-3.9898989898989896,-3.888888888888889,-3.787878787878788,-3.686868686868687,-3.5858585858585856,-3.484848484848485,-3.383838383838384,-3.282828282828283,-3.1818181818181817,-3.080808080808081,-2.9797979797979797,-2.878787878787879,-2.7777777777777777,-2.676767676767677,-2.5757575757575757,-2.474747474747475,-2.3737373737373737,-2.272727272727273,-2.1717171717171717,-2.070707070707071,-1.9696969696969697,-1.868686868686869,-1.7676767676767677,-1.6666666666666665,-1.5656565656565657,-1.4646464646464645,-1.3636363636363638,-1.2626262626262625,-1.1616161616161618,-1.0606060606060606,-0.9595959595959593,-0.858585858585859,-0.7575757575757578,-0.6565656565656566,-0.5555555555555554,-0.45454545454545503,-0.3535353535353538,-0.2525252525252526,-0.15151515151515138,-0.050505050505050164,0.050505050505050164,0.15151515151515138,0.2525252525252526,0.3535353535353538,0.45454545454545414,0.5555555555555554,0.6565656565656566,0.7575757575757578,0.8585858585858581,0.9595959595959593,1.0606060606060606,1.1616161616161618,1.262626262626262,1.3636363636363633,1.4646464646464645,1.5656565656565657,1.666666666666667,1.7676767676767673,1.8686868686868685,1.9696969696969697,2.070707070707071,2.1717171717171713,2.2727272727272725,2.3737373737373737,2.474747474747475,2.5757575757575752,2.6767676767676765,2.7777777777777777,2.878787878787879,2.9797979797979792,3.0808080808080813,3.1818181818181817,3.282828282828282,3.383838383838384,3.4848484848484844,3.5858585858585865,3.686868686868687,3.787878787878787,3.8888888888888893,3.9898989898989896,4.09090909090909,4.191919191919192,4.292929292929292,4.3939393939393945,4.494949494949495,4.595959595959595,4.696969696969697,4.797979797979798,4.8989898989899,5.0,5.0,4.898989898989899,4.797979797979798,4.696969696969697,4.595959595959596,4.494949494949495,4.393939393939394,4.292929292929293,4.191919191919192,4.090909090909091,3.9898989898989896,3.888888888888889,3.787878787878788,3.686868686868687,3.5858585858585856,3.484848484848485,3.383838383838384,3.282828282828283,3.1818181818181817,3.080808080808081,2.9797979797979797,2.878787878787879,2.7777777777777777,2.676767676767677,2.5757575757575757,2.474747474747475,2.3737373737373737,2.272727272727273,2.1717171717171717,2.070707070707071,1.9696969696969697,1.868686868686869,1.7676767676767677,1.6666666666666665,1.5656565656565657,1.4646464646464645,1.3636363636363638,1.2626262626262625,1.1616161616161618,1.0606060606060606,0.9595959595959593,0.858585858585859,0.7575757575757578,0.6565656565656566,0.5555555555555554,0.45454545454545503,0.3535353535353538,0.2525252525252526,0.15151515151515138,0.050505050505050164,-0.050505050505050164,-0.15151515151515138,-0.2525252525252526,-0.3535353535353538,-0.45454545454545414,-0.5555555555555554,-0.6565656565656566,-0.7575757575757578,-0.8585858585858581,-0.9595959595959593,-1.0606060606060606,-1.1616161616161618,-1.262626262626262,-1.3636363636363633,-1.4646464646464645,-1.5656565656565657,-1.666666666666667,-1.7676767676767673,-1.8686868686868685,-1.9696969696969697,-2.070707070707071,-2.1717171717171713,-2.2727272727272725,-2.3737373737373737,-2.474747474747475,-2.5757575757575752,-2.6767676767676765,-2.7777777777777777,-2.878787878787879,-2.9797979797979792,-3.0808080808080813,-3.1818181818181817,-3.282828282828282,-3.383838383838384,-3.4848484848484844,-3.5858585858585865,-3.686868686868687,-3.787878787878787,-3.8888888888888893,-3.9898989898989896,-4.09090909090909,-4.191919191919192,-4.292929292929292,-4.3939393939393945,-4.494949494949495,-4.595959595959595,-4.696969696969697,-4.797979797979798,-4.8989898989899,-5.0],\"z\":[75.00000000000001,75.99989796959494,76.97938985817774,77.93847566574841,78.87715539230689,79.79542903785328,80.69329660238752,81.57075808590962,82.42781348841956,83.26446280991735,84.08070605040302,84.87654320987653,85.65197428833793,86.40699928578718,87.14161820222425,87.85583103764922,88.54963779206203,89.2230384654627,89.87603305785123,90.50862156922764,91.12080399959189,91.71258034894397,92.28395061728395,92.83491480461178,93.36547291092745,93.87562493623098,94.36537088052238,94.83471074380165,95.28364452606877,95.71217222732375,96.12029384756657,96.50800938679727,96.87531884501581,97.22222222222224,97.54871951841648,97.8548107335986,98.14049586776859,98.40577492092645,98.65064789307212,98.87511478420569,99.0791755943271,99.2628303234364,99.42607897153351,99.5689215386185,99.69135802469137,99.79338842975206,99.87501275380063,99.93623099683704,99.97704315886133,99.99744923987349,99.99744923987349,99.97704315886133,99.93623099683704,99.87501275380063,99.79338842975206,99.69135802469137,99.5689215386185,99.42607897153351,99.2628303234364,99.0791755943271,98.87511478420569,98.65064789307212,98.40577492092645,98.14049586776859,97.8548107335986,97.54871951841648,97.22222222222224,96.87531884501581,96.50800938679727,96.12029384756657,95.71217222732375,95.28364452606877,94.83471074380165,94.36537088052238,93.87562493623098,93.36547291092748,92.83491480461178,92.28395061728395,91.71258034894397,91.12080399959189,90.50862156922764,89.87603305785123,89.2230384654627,88.54963779206203,87.85583103764922,87.14161820222425,86.40699928578718,85.65197428833793,84.87654320987653,84.08070605040302,83.26446280991735,82.42781348841956,81.57075808590962,80.69329660238752,79.79542903785328,78.87715539230693,77.93847566574841,76.97938985817774,75.99989796959494,75.00000000000001,75.00000000000001,75.99989796959494,76.97938985817774,77.93847566574841,78.87715539230689,79.79542903785328,80.69329660238752,81.57075808590962,82.42781348841956,83.26446280991735,84.08070605040302,84.87654320987653,85.65197428833793,86.40699928578718,87.14161820222425,87.85583103764922,88.54963779206203,89.2230384654627,89.87603305785123,90.50862156922764,91.12080399959189,91.71258034894397,92.28395061728395,92.83491480461178,93.36547291092745,93.87562493623098,94.36537088052238,94.83471074380165,95.28364452606877,95.71217222732375,96.12029384756657,96.50800938679727,96.87531884501581,97.22222222222224,97.54871951841648,97.8548107335986,98.14049586776859,98.40577492092645,98.65064789307212,98.87511478420569,99.0791755943271,99.2628303234364,99.42607897153351,99.5689215386185,99.69135802469137,99.79338842975206,99.87501275380063,99.93623099683704,99.97704315886133,99.99744923987349,99.99744923987349,99.97704315886133,99.93623099683704,99.87501275380063,99.79338842975206,99.69135802469137,99.5689215386185,99.42607897153351,99.2628303234364,99.0791755943271,98.87511478420569,98.65064789307212,98.40577492092645,98.14049586776859,97.8548107335986,97.54871951841648,97.22222222222224,96.87531884501581,96.50800938679727,96.12029384756657,95.71217222732375,95.28364452606877,94.83471074380165,94.36537088052238,93.87562493623098,93.36547291092748,92.83491480461178,92.28395061728395,91.71258034894397,91.12080399959189,90.50862156922764,89.87603305785123,89.2230384654627,88.54963779206203,87.85583103764922,87.14161820222425,86.40699928578718,85.65197428833793,84.87654320987653,84.08070605040302,83.26446280991735,82.42781348841956,81.57075808590962,80.69329660238752,79.79542903785328,78.87715539230693,77.93847566574841,76.97938985817774,75.99989796959494,75.00000000000001,0.0,0.9998979695949402,1.97938985817774,2.9384756657483915,3.8771553923069066,4.795429037853282,5.693296602387515,6.570758085909598,7.427813488419548,8.264462809917353,9.080706050403023,9.876543209876544,10.651974288337922,11.406999285787165,12.141618202224265,12.85583103764922,13.549637792062033,14.22303846546271,14.876033057851238,15.50862156922763,16.120803999591878,16.712580348943987,17.28395061728395,17.834914804611774,18.365472910927455,18.875624936231,19.365370880522395,19.83471074380165,20.283644526068773,20.71217222732374,21.12029384756658,21.508009386797262,21.87531884501582,22.222222222222225,22.548719518416483,22.854810733598615,23.1404958677686,23.40577492092644,23.650647893072133,23.875114784205692,24.07917559432711,24.262830323436383,24.42607897153352,24.568921538618508,24.69135802469136,24.79338842975207,24.875012753800632,24.936230996837057,24.977043158861346,24.99744923987348,24.99744923987348,24.977043158861346,24.936230996837057,24.875012753800632,24.79338842975207,24.69135802469136,24.568921538618508,24.42607897153352,24.262830323436383,24.07917559432711,23.875114784205692,23.650647893072133,23.40577492092644,23.1404958677686,22.854810733598615,22.548719518416483,22.222222222222225,21.87531884501582,21.508009386797262,21.12029384756658,20.71217222732374,20.283644526068773,19.83471074380165,19.365370880522395,18.875624936231,18.365472910927455,17.83491480461178,17.28395061728395,16.712580348943987,16.120803999591885,15.508621569227627,14.876033057851238,14.223038465462713,13.549637792062033,12.855831037649223,12.141618202224258,11.406999285787165,10.65197428833793,9.87654320987654,9.080706050403023,8.264462809917362,7.427813488419548,6.570758085909605,5.6932966023875045,4.795429037853282,3.8771553923069146,2.9384756657483915,1.97938985817774,0.999897969594933,0.0,0.0,0.9998979695949402,1.97938985817774,2.9384756657483915,3.8771553923069066,4.795429037853282,5.693296602387515,6.570758085909598,7.427813488419548,8.264462809917353,9.080706050403023,9.876543209876544,10.651974288337922,11.406999285787165,12.141618202224265,12.85583103764922,13.549637792062033,14.22303846546271,14.876033057851238,15.50862156922763,16.120803999591878,16.712580348943987,17.28395061728395,17.834914804611774,18.365472910927455,18.875624936231,19.365370880522395,19.83471074380165,20.283644526068773,20.71217222732374,21.12029384756658,21.508009386797262,21.87531884501582,22.222222222222225,22.548719518416483,22.854810733598615,23.1404958677686,23.40577492092644,23.650647893072133,23.875114784205692,24.07917559432711,24.262830323436383,24.42607897153352,24.568921538618508,24.69135802469136,24.79338842975207,24.875012753800632,24.936230996837057,24.977043158861346,24.99744923987348,24.99744923987348,24.977043158861346,24.936230996837057,24.875012753800632,24.79338842975207,24.69135802469136,24.568921538618508,24.42607897153352,24.262830323436383,24.07917559432711,23.875114784205692,23.650647893072133,23.40577492092644,23.1404958677686,22.854810733598615,22.548719518416483,22.222222222222225,21.87531884501582,21.508009386797262,21.12029384756658,20.71217222732374,20.283644526068773,19.83471074380165,19.365370880522395,18.875624936231,18.365472910927455,17.83491480461178,17.28395061728395,16.712580348943987,16.120803999591885,15.508621569227627,14.876033057851238,14.223038465462713,13.549637792062033,12.855831037649223,12.141618202224258,11.406999285787165,10.65197428833793,9.87654320987654,9.080706050403023,8.264462809917362,7.427813488419548,6.570758085909605,5.6932966023875045,4.795429037853282,3.8771553923069146,2.9384756657483915,1.97938985817774,0.999897969594933,0.0],\"type\":\"scatter3d\"}],                        {\"template\":{\"data\":{\"histogram2dcontour\":[{\"type\":\"histogram2dcontour\",\"colorbar\":{\"outlinewidth\":0,\"ticks\":\"\"},\"colorscale\":[[0.0,\"#0d0887\"],[0.1111111111111111,\"#46039f\"],[0.2222222222222222,\"#7201a8\"],[0.3333333333333333,\"#9c179e\"],[0.4444444444444444,\"#bd3786\"],[0.5555555555555556,\"#d8576b\"],[0.6666666666666666,\"#ed7953\"],[0.7777777777777778,\"#fb9f3a\"],[0.8888888888888888,\"#fdca26\"],[1.0,\"#f0f921\"]]}],\"choropleth\":[{\"type\":\"choropleth\",\"colorbar\":{\"outlinewidth\":0,\"ticks\":\"\"}}],\"histogram2d\":[{\"type\":\"histogram2d\",\"colorbar\":{\"outlinewidth\":0,\"ticks\":\"\"},\"colorscale\":[[0.0,\"#0d0887\"],[0.1111111111111111,\"#46039f\"],[0.2222222222222222,\"#7201a8\"],[0.3333333333333333,\"#9c179e\"],[0.4444444444444444,\"#bd3786\"],[0.5555555555555556,\"#d8576b\"],[0.6666666666666666,\"#ed7953\"],[0.7777777777777778,\"#fb9f3a\"],[0.8888888888888888,\"#fdca26\"],[1.0,\"#f0f921\"]]}],\"heatmap\":[{\"type\":\"heatmap\",\"colorbar\":{\"outlinewidth\":0,\"ticks\":\"\"},\"colorscale\":[[0.0,\"#0d0887\"],[0.1111111111111111,\"#46039f\"],[0.2222222222222222,\"#7201a8\"],[0.3333333333333333,\"#9c179e\"],[0.4444444444444444,\"#bd3786\"],[0.5555555555555556,\"#d8576b\"],[0.6666666666666666,\"#ed7953\"],[0.7777777777777778,\"#fb9f3a\"],[0.8888888888888888,\"#fdca26\"],[1.0,\"#f0f921\"]]}],\"heatmapgl\":[{\"type\":\"heatmapgl\",\"colorbar\":{\"outlinewidth\":0,\"ticks\":\"\"},\"colorscale\":[[0.0,\"#0d0887\"],[0.1111111111111111,\"#46039f\"],[0.2222222222222222,\"#7201a8\"],[0.3333333333333333,\"#9c179e\"],[0.4444444444444444,\"#bd3786\"],[0.5555555555555556,\"#d8576b\"],[0.6666666666666666,\"#ed7953\"],[0.7777777777777778,\"#fb9f3a\"],[0.8888888888888888,\"#fdca26\"],[1.0,\"#f0f921\"]]}],\"contourcarpet\":[{\"type\":\"contourcarpet\",\"colorbar\":{\"outlinewidth\":0,\"ticks\":\"\"}}],\"contour\":[{\"type\":\"contour\",\"colorbar\":{\"outlinewidth\":0,\"ticks\":\"\"},\"colorscale\":[[0.0,\"#0d0887\"],[0.1111111111111111,\"#46039f\"],[0.2222222222222222,\"#7201a8\"],[0.3333333333333333,\"#9c179e\"],[0.4444444444444444,\"#bd3786\"],[0.5555555555555556,\"#d8576b\"],[0.6666666666666666,\"#ed7953\"],[0.7777777777777778,\"#fb9f3a\"],[0.8888888888888888,\"#fdca26\"],[1.0,\"#f0f921\"]]}],\"surface\":[{\"type\":\"surface\",\"colorbar\":{\"outlinewidth\":0,\"ticks\":\"\"},\"colorscale\":[[0.0,\"#0d0887\"],[0.1111111111111111,\"#46039f\"],[0.2222222222222222,\"#7201a8\"],[0.3333333333333333,\"#9c179e\"],[0.4444444444444444,\"#bd3786\"],[0.5555555555555556,\"#d8576b\"],[0.6666666666666666,\"#ed7953\"],[0.7777777777777778,\"#fb9f3a\"],[0.8888888888888888,\"#fdca26\"],[1.0,\"#f0f921\"]]}],\"mesh3d\":[{\"type\":\"mesh3d\",\"colorbar\":{\"outlinewidth\":0,\"ticks\":\"\"}}],\"scatter\":[{\"fillpattern\":{\"fillmode\":\"overlay\",\"size\":10,\"solidity\":0.2},\"type\":\"scatter\"}],\"parcoords\":[{\"type\":\"parcoords\",\"line\":{\"colorbar\":{\"outlinewidth\":0,\"ticks\":\"\"}}}],\"scatterpolargl\":[{\"type\":\"scatterpolargl\",\"marker\":{\"colorbar\":{\"outlinewidth\":0,\"ticks\":\"\"}}}],\"bar\":[{\"error_x\":{\"color\":\"#2a3f5f\"},\"error_y\":{\"color\":\"#2a3f5f\"},\"marker\":{\"line\":{\"color\":\"#E5ECF6\",\"width\":0.5},\"pattern\":{\"fillmode\":\"overlay\",\"size\":10,\"solidity\":0.2}},\"type\":\"bar\"}],\"scattergeo\":[{\"type\":\"scattergeo\",\"marker\":{\"colorbar\":{\"outlinewidth\":0,\"ticks\":\"\"}}}],\"scatterpolar\":[{\"type\":\"scatterpolar\",\"marker\":{\"colorbar\":{\"outlinewidth\":0,\"ticks\":\"\"}}}],\"histogram\":[{\"marker\":{\"pattern\":{\"fillmode\":\"overlay\",\"size\":10,\"solidity\":0.2}},\"type\":\"histogram\"}],\"scattergl\":[{\"type\":\"scattergl\",\"marker\":{\"colorbar\":{\"outlinewidth\":0,\"ticks\":\"\"}}}],\"scatter3d\":[{\"type\":\"scatter3d\",\"line\":{\"colorbar\":{\"outlinewidth\":0,\"ticks\":\"\"}},\"marker\":{\"colorbar\":{\"outlinewidth\":0,\"ticks\":\"\"}}}],\"scattermapbox\":[{\"type\":\"scattermapbox\",\"marker\":{\"colorbar\":{\"outlinewidth\":0,\"ticks\":\"\"}}}],\"scatterternary\":[{\"type\":\"scatterternary\",\"marker\":{\"colorbar\":{\"outlinewidth\":0,\"ticks\":\"\"}}}],\"scattercarpet\":[{\"type\":\"scattercarpet\",\"marker\":{\"colorbar\":{\"outlinewidth\":0,\"ticks\":\"\"}}}],\"carpet\":[{\"aaxis\":{\"endlinecolor\":\"#2a3f5f\",\"gridcolor\":\"white\",\"linecolor\":\"white\",\"minorgridcolor\":\"white\",\"startlinecolor\":\"#2a3f5f\"},\"baxis\":{\"endlinecolor\":\"#2a3f5f\",\"gridcolor\":\"white\",\"linecolor\":\"white\",\"minorgridcolor\":\"white\",\"startlinecolor\":\"#2a3f5f\"},\"type\":\"carpet\"}],\"table\":[{\"cells\":{\"fill\":{\"color\":\"#EBF0F8\"},\"line\":{\"color\":\"white\"}},\"header\":{\"fill\":{\"color\":\"#C8D4E3\"},\"line\":{\"color\":\"white\"}},\"type\":\"table\"}],\"barpolar\":[{\"marker\":{\"line\":{\"color\":\"#E5ECF6\",\"width\":0.5},\"pattern\":{\"fillmode\":\"overlay\",\"size\":10,\"solidity\":0.2}},\"type\":\"barpolar\"}],\"pie\":[{\"automargin\":true,\"type\":\"pie\"}]},\"layout\":{\"autotypenumbers\":\"strict\",\"colorway\":[\"#636efa\",\"#EF553B\",\"#00cc96\",\"#ab63fa\",\"#FFA15A\",\"#19d3f3\",\"#FF6692\",\"#B6E880\",\"#FF97FF\",\"#FECB52\"],\"font\":{\"color\":\"#2a3f5f\"},\"hovermode\":\"closest\",\"hoverlabel\":{\"align\":\"left\"},\"paper_bgcolor\":\"white\",\"plot_bgcolor\":\"#E5ECF6\",\"polar\":{\"bgcolor\":\"#E5ECF6\",\"angularaxis\":{\"gridcolor\":\"white\",\"linecolor\":\"white\",\"ticks\":\"\"},\"radialaxis\":{\"gridcolor\":\"white\",\"linecolor\":\"white\",\"ticks\":\"\"}},\"ternary\":{\"bgcolor\":\"#E5ECF6\",\"aaxis\":{\"gridcolor\":\"white\",\"linecolor\":\"white\",\"ticks\":\"\"},\"baxis\":{\"gridcolor\":\"white\",\"linecolor\":\"white\",\"ticks\":\"\"},\"caxis\":{\"gridcolor\":\"white\",\"linecolor\":\"white\",\"ticks\":\"\"}},\"coloraxis\":{\"colorbar\":{\"outlinewidth\":0,\"ticks\":\"\"}},\"colorscale\":{\"sequential\":[[0.0,\"#0d0887\"],[0.1111111111111111,\"#46039f\"],[0.2222222222222222,\"#7201a8\"],[0.3333333333333333,\"#9c179e\"],[0.4444444444444444,\"#bd3786\"],[0.5555555555555556,\"#d8576b\"],[0.6666666666666666,\"#ed7953\"],[0.7777777777777778,\"#fb9f3a\"],[0.8888888888888888,\"#fdca26\"],[1.0,\"#f0f921\"]],\"sequentialminus\":[[0.0,\"#0d0887\"],[0.1111111111111111,\"#46039f\"],[0.2222222222222222,\"#7201a8\"],[0.3333333333333333,\"#9c179e\"],[0.4444444444444444,\"#bd3786\"],[0.5555555555555556,\"#d8576b\"],[0.6666666666666666,\"#ed7953\"],[0.7777777777777778,\"#fb9f3a\"],[0.8888888888888888,\"#fdca26\"],[1.0,\"#f0f921\"]],\"diverging\":[[0,\"#8e0152\"],[0.1,\"#c51b7d\"],[0.2,\"#de77ae\"],[0.3,\"#f1b6da\"],[0.4,\"#fde0ef\"],[0.5,\"#f7f7f7\"],[0.6,\"#e6f5d0\"],[0.7,\"#b8e186\"],[0.8,\"#7fbc41\"],[0.9,\"#4d9221\"],[1,\"#276419\"]]},\"xaxis\":{\"gridcolor\":\"white\",\"linecolor\":\"white\",\"ticks\":\"\",\"title\":{\"standoff\":15},\"zerolinecolor\":\"white\",\"automargin\":true,\"zerolinewidth\":2},\"yaxis\":{\"gridcolor\":\"white\",\"linecolor\":\"white\",\"ticks\":\"\",\"title\":{\"standoff\":15},\"zerolinecolor\":\"white\",\"automargin\":true,\"zerolinewidth\":2},\"scene\":{\"xaxis\":{\"backgroundcolor\":\"#E5ECF6\",\"gridcolor\":\"white\",\"linecolor\":\"white\",\"showbackground\":true,\"ticks\":\"\",\"zerolinecolor\":\"white\",\"gridwidth\":2},\"yaxis\":{\"backgroundcolor\":\"#E5ECF6\",\"gridcolor\":\"white\",\"linecolor\":\"white\",\"showbackground\":true,\"ticks\":\"\",\"zerolinecolor\":\"white\",\"gridwidth\":2},\"zaxis\":{\"backgroundcolor\":\"#E5ECF6\",\"gridcolor\":\"white\",\"linecolor\":\"white\",\"showbackground\":true,\"ticks\":\"\",\"zerolinecolor\":\"white\",\"gridwidth\":2}},\"shapedefaults\":{\"line\":{\"color\":\"#2a3f5f\"}},\"annotationdefaults\":{\"arrowcolor\":\"#2a3f5f\",\"arrowhead\":0,\"arrowwidth\":1},\"geo\":{\"bgcolor\":\"white\",\"landcolor\":\"#E5ECF6\",\"subunitcolor\":\"white\",\"showland\":true,\"showlakes\":true,\"lakecolor\":\"white\"},\"title\":{\"x\":0.05},\"mapbox\":{\"style\":\"light\"}}},\"scene\":{\"domain\":{\"x\":[0.0,1.0],\"y\":[0.0,1.0]},\"xaxis\":{\"title\":{\"text\":\"X1\"}},\"yaxis\":{\"title\":{\"text\":\"X2\"}},\"zaxis\":{\"title\":{\"text\":\"X1^2\"}}},\"coloraxis\":{\"colorbar\":{\"title\":{\"text\":\"Y\"}},\"colorscale\":[[0.0,\"#0d0887\"],[0.1111111111111111,\"#46039f\"],[0.2222222222222222,\"#7201a8\"],[0.3333333333333333,\"#9c179e\"],[0.4444444444444444,\"#bd3786\"],[0.5555555555555556,\"#d8576b\"],[0.6666666666666666,\"#ed7953\"],[0.7777777777777778,\"#fb9f3a\"],[0.8888888888888888,\"#fdca26\"],[1.0,\"#f0f921\"]]},\"legend\":{\"tracegroupgap\":0},\"margin\":{\"t\":60}},                        {\"responsive\": true}                    ).then(function(){\n",
       "                            \n",
       "var gd = document.getElementById('fa9aca45-1f09-4782-9982-f3d7abe49298');\n",
       "var x = new MutationObserver(function (mutations, observer) {{\n",
       "        var display = window.getComputedStyle(gd).display;\n",
       "        if (!display || display === 'none') {{\n",
       "            console.log([gd, 'removed!']);\n",
       "            Plotly.purge(gd);\n",
       "            observer.disconnect();\n",
       "        }}\n",
       "}});\n",
       "\n",
       "// Listen for the removal of the full notebook cells\n",
       "var notebookContainer = gd.closest('#notebook-container');\n",
       "if (notebookContainer) {{\n",
       "    x.observe(notebookContainer, {childList: true});\n",
       "}}\n",
       "\n",
       "// Listen for the clearing of the current output cell\n",
       "var outputEl = gd.closest('.output');\n",
       "if (outputEl) {{\n",
       "    x.observe(outputEl, {childList: true});\n",
       "}}\n",
       "\n",
       "                        })                };                });            </script>        </div>"
      ]
     },
     "metadata": {},
     "output_type": "display_data"
    }
   ],
   "execution_count": 19
  },
  {
   "metadata": {
    "ExecuteTime": {
     "end_time": "2024-11-21T11:01:25.298692Z",
     "start_time": "2024-11-21T11:01:25.249980Z"
    }
   },
   "cell_type": "code",
   "source": [
    "fig = px.scatter_3d(df, x='X1^2', y='X2^2', z='X1*X2', color='Y')\n",
    "fig.show()"
   ],
   "id": "7123d8836178ee06",
   "outputs": [
    {
     "data": {
      "application/vnd.plotly.v1+json": {
       "data": [
        {
         "hovertemplate": "X1^2=%{x}<br>X2^2=%{y}<br>X1*X2=%{z}<br>Y=%{marker.color}<extra></extra>",
         "legendgroup": "",
         "marker": {
          "color": [
           0,
           0,
           0,
           0,
           0,
           0,
           0,
           0,
           0,
           0,
           0,
           0,
           0,
           0,
           0,
           0,
           0,
           0,
           0,
           0,
           0,
           0,
           0,
           0,
           0,
           0,
           0,
           0,
           0,
           0,
           0,
           0,
           0,
           0,
           0,
           0,
           0,
           0,
           0,
           0,
           0,
           0,
           0,
           0,
           0,
           0,
           0,
           0,
           0,
           0,
           0,
           0,
           0,
           0,
           0,
           0,
           0,
           0,
           0,
           0,
           0,
           0,
           0,
           0,
           0,
           0,
           0,
           0,
           0,
           0,
           0,
           0,
           0,
           0,
           0,
           0,
           0,
           0,
           0,
           0,
           0,
           0,
           0,
           0,
           0,
           0,
           0,
           0,
           0,
           0,
           0,
           0,
           0,
           0,
           0,
           0,
           0,
           0,
           0,
           0,
           0,
           0,
           0,
           0,
           0,
           0,
           0,
           0,
           0,
           0,
           0,
           0,
           0,
           0,
           0,
           0,
           0,
           0,
           0,
           0,
           0,
           0,
           0,
           0,
           0,
           0,
           0,
           0,
           0,
           0,
           0,
           0,
           0,
           0,
           0,
           0,
           0,
           0,
           0,
           0,
           0,
           0,
           0,
           0,
           0,
           0,
           0,
           0,
           0,
           0,
           0,
           0,
           0,
           0,
           0,
           0,
           0,
           0,
           0,
           0,
           0,
           0,
           0,
           0,
           0,
           0,
           0,
           0,
           0,
           0,
           0,
           0,
           0,
           0,
           0,
           0,
           0,
           0,
           0,
           0,
           0,
           0,
           0,
           0,
           0,
           0,
           0,
           0,
           0,
           0,
           0,
           0,
           0,
           0,
           0,
           0,
           0,
           0,
           0,
           0,
           1,
           1,
           1,
           1,
           1,
           1,
           1,
           1,
           1,
           1,
           1,
           1,
           1,
           1,
           1,
           1,
           1,
           1,
           1,
           1,
           1,
           1,
           1,
           1,
           1,
           1,
           1,
           1,
           1,
           1,
           1,
           1,
           1,
           1,
           1,
           1,
           1,
           1,
           1,
           1,
           1,
           1,
           1,
           1,
           1,
           1,
           1,
           1,
           1,
           1,
           1,
           1,
           1,
           1,
           1,
           1,
           1,
           1,
           1,
           1,
           1,
           1,
           1,
           1,
           1,
           1,
           1,
           1,
           1,
           1,
           1,
           1,
           1,
           1,
           1,
           1,
           1,
           1,
           1,
           1,
           1,
           1,
           1,
           1,
           1,
           1,
           1,
           1,
           1,
           1,
           1,
           1,
           1,
           1,
           1,
           1,
           1,
           1,
           1,
           1,
           1,
           1,
           1,
           1,
           1,
           1,
           1,
           1,
           1,
           1,
           1,
           1,
           1,
           1,
           1,
           1,
           1,
           1,
           1,
           1,
           1,
           1,
           1,
           1,
           1,
           1,
           1,
           1,
           1,
           1,
           1,
           1,
           1,
           1,
           1,
           1,
           1,
           1,
           1,
           1,
           1,
           1,
           1,
           1,
           1,
           1,
           1,
           1,
           1,
           1,
           1,
           1,
           1,
           1,
           1,
           1,
           1,
           1,
           1,
           1,
           1,
           1,
           1,
           1,
           1,
           1,
           1,
           1,
           1,
           1,
           1,
           1,
           1,
           1,
           1,
           1,
           1,
           1,
           1,
           1,
           1,
           1,
           1,
           1,
           1,
           1,
           1,
           1,
           1,
           1,
           1,
           1,
           1,
           1,
           1,
           1,
           1,
           1,
           1,
           1
          ],
          "coloraxis": "coloraxis",
          "symbol": "circle"
         },
         "mode": "markers",
         "name": "",
         "scene": "scene",
         "showlegend": false,
         "x": [
          75.00000000000001,
          75.99989796959494,
          76.97938985817774,
          77.93847566574841,
          78.87715539230689,
          79.79542903785328,
          80.69329660238752,
          81.57075808590962,
          82.42781348841956,
          83.26446280991735,
          84.08070605040302,
          84.87654320987653,
          85.65197428833793,
          86.40699928578718,
          87.14161820222425,
          87.85583103764922,
          88.54963779206203,
          89.2230384654627,
          89.87603305785123,
          90.50862156922764,
          91.12080399959189,
          91.71258034894397,
          92.28395061728395,
          92.83491480461178,
          93.36547291092745,
          93.87562493623098,
          94.36537088052238,
          94.83471074380165,
          95.28364452606877,
          95.71217222732375,
          96.12029384756657,
          96.50800938679727,
          96.87531884501581,
          97.22222222222224,
          97.54871951841648,
          97.8548107335986,
          98.14049586776859,
          98.40577492092645,
          98.65064789307212,
          98.87511478420569,
          99.0791755943271,
          99.2628303234364,
          99.42607897153351,
          99.5689215386185,
          99.69135802469137,
          99.79338842975206,
          99.87501275380063,
          99.93623099683704,
          99.97704315886133,
          99.99744923987349,
          99.99744923987349,
          99.97704315886133,
          99.93623099683704,
          99.87501275380063,
          99.79338842975206,
          99.69135802469137,
          99.5689215386185,
          99.42607897153351,
          99.2628303234364,
          99.0791755943271,
          98.87511478420569,
          98.65064789307212,
          98.40577492092645,
          98.14049586776859,
          97.8548107335986,
          97.54871951841648,
          97.22222222222224,
          96.87531884501581,
          96.50800938679727,
          96.12029384756657,
          95.71217222732375,
          95.28364452606877,
          94.83471074380165,
          94.36537088052238,
          93.87562493623098,
          93.36547291092748,
          92.83491480461178,
          92.28395061728395,
          91.71258034894397,
          91.12080399959189,
          90.50862156922764,
          89.87603305785123,
          89.2230384654627,
          88.54963779206203,
          87.85583103764922,
          87.14161820222425,
          86.40699928578718,
          85.65197428833793,
          84.87654320987653,
          84.08070605040302,
          83.26446280991735,
          82.42781348841956,
          81.57075808590962,
          80.69329660238752,
          79.79542903785328,
          78.87715539230693,
          77.93847566574841,
          76.97938985817774,
          75.99989796959494,
          75.00000000000001,
          75.00000000000001,
          75.99989796959494,
          76.97938985817774,
          77.93847566574841,
          78.87715539230689,
          79.79542903785328,
          80.69329660238752,
          81.57075808590962,
          82.42781348841956,
          83.26446280991735,
          84.08070605040302,
          84.87654320987653,
          85.65197428833793,
          86.40699928578718,
          87.14161820222425,
          87.85583103764922,
          88.54963779206203,
          89.2230384654627,
          89.87603305785123,
          90.50862156922764,
          91.12080399959189,
          91.71258034894397,
          92.28395061728395,
          92.83491480461178,
          93.36547291092745,
          93.87562493623098,
          94.36537088052238,
          94.83471074380165,
          95.28364452606877,
          95.71217222732375,
          96.12029384756657,
          96.50800938679727,
          96.87531884501581,
          97.22222222222224,
          97.54871951841648,
          97.8548107335986,
          98.14049586776859,
          98.40577492092645,
          98.65064789307212,
          98.87511478420569,
          99.0791755943271,
          99.2628303234364,
          99.42607897153351,
          99.5689215386185,
          99.69135802469137,
          99.79338842975206,
          99.87501275380063,
          99.93623099683704,
          99.97704315886133,
          99.99744923987349,
          99.99744923987349,
          99.97704315886133,
          99.93623099683704,
          99.87501275380063,
          99.79338842975206,
          99.69135802469137,
          99.5689215386185,
          99.42607897153351,
          99.2628303234364,
          99.0791755943271,
          98.87511478420569,
          98.65064789307212,
          98.40577492092645,
          98.14049586776859,
          97.8548107335986,
          97.54871951841648,
          97.22222222222224,
          96.87531884501581,
          96.50800938679727,
          96.12029384756657,
          95.71217222732375,
          95.28364452606877,
          94.83471074380165,
          94.36537088052238,
          93.87562493623098,
          93.36547291092748,
          92.83491480461178,
          92.28395061728395,
          91.71258034894397,
          91.12080399959189,
          90.50862156922764,
          89.87603305785123,
          89.2230384654627,
          88.54963779206203,
          87.85583103764922,
          87.14161820222425,
          86.40699928578718,
          85.65197428833793,
          84.87654320987653,
          84.08070605040302,
          83.26446280991735,
          82.42781348841956,
          81.57075808590962,
          80.69329660238752,
          79.79542903785328,
          78.87715539230693,
          77.93847566574841,
          76.97938985817774,
          75.99989796959494,
          75.00000000000001,
          0.0,
          0.9998979695949402,
          1.97938985817774,
          2.9384756657483915,
          3.8771553923069066,
          4.795429037853282,
          5.693296602387515,
          6.570758085909598,
          7.427813488419548,
          8.264462809917353,
          9.080706050403023,
          9.876543209876544,
          10.651974288337922,
          11.406999285787165,
          12.141618202224265,
          12.85583103764922,
          13.549637792062033,
          14.22303846546271,
          14.876033057851238,
          15.50862156922763,
          16.120803999591878,
          16.712580348943987,
          17.28395061728395,
          17.834914804611774,
          18.365472910927455,
          18.875624936231,
          19.365370880522395,
          19.83471074380165,
          20.283644526068773,
          20.71217222732374,
          21.12029384756658,
          21.508009386797262,
          21.87531884501582,
          22.222222222222225,
          22.548719518416483,
          22.854810733598615,
          23.1404958677686,
          23.40577492092644,
          23.650647893072133,
          23.875114784205692,
          24.07917559432711,
          24.262830323436383,
          24.42607897153352,
          24.568921538618508,
          24.69135802469136,
          24.79338842975207,
          24.875012753800632,
          24.936230996837057,
          24.977043158861346,
          24.99744923987348,
          24.99744923987348,
          24.977043158861346,
          24.936230996837057,
          24.875012753800632,
          24.79338842975207,
          24.69135802469136,
          24.568921538618508,
          24.42607897153352,
          24.262830323436383,
          24.07917559432711,
          23.875114784205692,
          23.650647893072133,
          23.40577492092644,
          23.1404958677686,
          22.854810733598615,
          22.548719518416483,
          22.222222222222225,
          21.87531884501582,
          21.508009386797262,
          21.12029384756658,
          20.71217222732374,
          20.283644526068773,
          19.83471074380165,
          19.365370880522395,
          18.875624936231,
          18.365472910927455,
          17.83491480461178,
          17.28395061728395,
          16.712580348943987,
          16.120803999591885,
          15.508621569227627,
          14.876033057851238,
          14.223038465462713,
          13.549637792062033,
          12.855831037649223,
          12.141618202224258,
          11.406999285787165,
          10.65197428833793,
          9.87654320987654,
          9.080706050403023,
          8.264462809917362,
          7.427813488419548,
          6.570758085909605,
          5.6932966023875045,
          4.795429037853282,
          3.8771553923069146,
          2.9384756657483915,
          1.97938985817774,
          0.999897969594933,
          0.0,
          0.0,
          0.9998979695949402,
          1.97938985817774,
          2.9384756657483915,
          3.8771553923069066,
          4.795429037853282,
          5.693296602387515,
          6.570758085909598,
          7.427813488419548,
          8.264462809917353,
          9.080706050403023,
          9.876543209876544,
          10.651974288337922,
          11.406999285787165,
          12.141618202224265,
          12.85583103764922,
          13.549637792062033,
          14.22303846546271,
          14.876033057851238,
          15.50862156922763,
          16.120803999591878,
          16.712580348943987,
          17.28395061728395,
          17.834914804611774,
          18.365472910927455,
          18.875624936231,
          19.365370880522395,
          19.83471074380165,
          20.283644526068773,
          20.71217222732374,
          21.12029384756658,
          21.508009386797262,
          21.87531884501582,
          22.222222222222225,
          22.548719518416483,
          22.854810733598615,
          23.1404958677686,
          23.40577492092644,
          23.650647893072133,
          23.875114784205692,
          24.07917559432711,
          24.262830323436383,
          24.42607897153352,
          24.568921538618508,
          24.69135802469136,
          24.79338842975207,
          24.875012753800632,
          24.936230996837057,
          24.977043158861346,
          24.99744923987348,
          24.99744923987348,
          24.977043158861346,
          24.936230996837057,
          24.875012753800632,
          24.79338842975207,
          24.69135802469136,
          24.568921538618508,
          24.42607897153352,
          24.262830323436383,
          24.07917559432711,
          23.875114784205692,
          23.650647893072133,
          23.40577492092644,
          23.1404958677686,
          22.854810733598615,
          22.548719518416483,
          22.222222222222225,
          21.87531884501582,
          21.508009386797262,
          21.12029384756658,
          20.71217222732374,
          20.283644526068773,
          19.83471074380165,
          19.365370880522395,
          18.875624936231,
          18.365472910927455,
          17.83491480461178,
          17.28395061728395,
          16.712580348943987,
          16.120803999591885,
          15.508621569227627,
          14.876033057851238,
          14.223038465462713,
          13.549637792062033,
          12.855831037649223,
          12.141618202224258,
          11.406999285787165,
          10.65197428833793,
          9.87654320987654,
          9.080706050403023,
          8.264462809917362,
          7.427813488419548,
          6.570758085909605,
          5.6932966023875045,
          4.795429037853282,
          3.8771553923069146,
          2.9384756657483915,
          1.97938985817774,
          0.999897969594933,
          0.0
         ],
         "y": [
          25.0,
          24.00010203040506,
          23.02061014182226,
          22.061524334251608,
          21.122844607693093,
          20.204570962146718,
          19.306703397612484,
          18.4292419140904,
          17.57218651158045,
          16.735537190082646,
          15.919293949596977,
          15.123456790123456,
          14.348025711662077,
          13.593000714212835,
          12.858381797775735,
          12.144168962350781,
          11.450362207937967,
          10.776961534537293,
          10.12396694214876,
          9.49137843077237,
          8.87919600040812,
          8.287419651056016,
          7.716049382716049,
          7.165085195388227,
          6.634527089072543,
          6.124375063769004,
          5.634629119477604,
          5.165289256198348,
          4.716355473931231,
          4.287827772676258,
          3.879706152433425,
          3.491990613202735,
          3.1246811549841853,
          2.7777777777777772,
          2.4512804815835123,
          2.1451892664013874,
          1.8595041322314052,
          1.5942250790735637,
          1.349352106927865,
          1.1248852157943066,
          0.92082440567289,
          0.7371696765636166,
          0.5739210284664833,
          0.4310784613814917,
          0.30864197530864174,
          0.20661157024793433,
          0.1249872461993676,
          0.0637690031629426,
          0.02295684113865928,
          0.002550760126517668,
          0.002550760126517668,
          0.02295684113865928,
          0.0637690031629426,
          0.1249872461993676,
          0.20661157024793353,
          0.30864197530864174,
          0.4310784613814917,
          0.5739210284664833,
          0.7371696765636152,
          0.92082440567289,
          1.1248852157943066,
          1.349352106927865,
          1.5942250790735626,
          1.859504132231404,
          2.1451892664013874,
          2.4512804815835123,
          2.7777777777777786,
          3.124681154984184,
          3.491990613202734,
          3.879706152433425,
          4.287827772676258,
          4.7163554739312294,
          5.165289256198346,
          5.634629119477604,
          6.124375063769004,
          6.634527089072541,
          7.165085195388224,
          7.716049382716049,
          8.287419651056016,
          8.879196000408118,
          9.491378430772373,
          10.12396694214876,
          10.776961534537287,
          11.450362207937967,
          12.144168962350777,
          12.858381797775742,
          13.593000714212835,
          14.34802571166207,
          15.12345679012346,
          15.919293949596977,
          16.73553719008264,
          17.57218651158045,
          18.429241914090394,
          19.306703397612495,
          20.204570962146718,
          21.122844607693086,
          22.061524334251608,
          23.02061014182226,
          24.000102030405067,
          25.0,
          25.0,
          24.00010203040506,
          23.02061014182226,
          22.061524334251608,
          21.122844607693093,
          20.204570962146718,
          19.306703397612484,
          18.4292419140904,
          17.57218651158045,
          16.735537190082646,
          15.919293949596977,
          15.123456790123456,
          14.348025711662077,
          13.593000714212835,
          12.858381797775735,
          12.144168962350781,
          11.450362207937967,
          10.776961534537293,
          10.12396694214876,
          9.49137843077237,
          8.87919600040812,
          8.287419651056016,
          7.716049382716049,
          7.165085195388227,
          6.634527089072543,
          6.124375063769004,
          5.634629119477604,
          5.165289256198348,
          4.716355473931231,
          4.287827772676258,
          3.879706152433425,
          3.491990613202735,
          3.1246811549841853,
          2.7777777777777772,
          2.4512804815835123,
          2.1451892664013874,
          1.8595041322314052,
          1.5942250790735637,
          1.349352106927865,
          1.1248852157943066,
          0.92082440567289,
          0.7371696765636166,
          0.5739210284664833,
          0.4310784613814917,
          0.30864197530864174,
          0.20661157024793433,
          0.1249872461993676,
          0.0637690031629426,
          0.02295684113865928,
          0.002550760126517668,
          0.002550760126517668,
          0.02295684113865928,
          0.0637690031629426,
          0.1249872461993676,
          0.20661157024793353,
          0.30864197530864174,
          0.4310784613814917,
          0.5739210284664833,
          0.7371696765636152,
          0.92082440567289,
          1.1248852157943066,
          1.349352106927865,
          1.5942250790735626,
          1.859504132231404,
          2.1451892664013874,
          2.4512804815835123,
          2.7777777777777786,
          3.124681154984184,
          3.491990613202734,
          3.879706152433425,
          4.287827772676258,
          4.7163554739312294,
          5.165289256198346,
          5.634629119477604,
          6.124375063769004,
          6.634527089072541,
          7.165085195388224,
          7.716049382716049,
          8.287419651056016,
          8.879196000408118,
          9.491378430772373,
          10.12396694214876,
          10.776961534537287,
          11.450362207937967,
          12.144168962350777,
          12.858381797775742,
          13.593000714212835,
          14.34802571166207,
          15.12345679012346,
          15.919293949596977,
          16.73553719008264,
          17.57218651158045,
          18.429241914090394,
          19.306703397612495,
          20.204570962146718,
          21.122844607693086,
          22.061524334251608,
          23.02061014182226,
          24.000102030405067,
          25.0,
          25.0,
          24.00010203040506,
          23.02061014182226,
          22.061524334251608,
          21.122844607693093,
          20.204570962146718,
          19.306703397612484,
          18.4292419140904,
          17.57218651158045,
          16.735537190082646,
          15.919293949596977,
          15.123456790123456,
          14.348025711662077,
          13.593000714212835,
          12.858381797775735,
          12.144168962350781,
          11.450362207937967,
          10.776961534537293,
          10.12396694214876,
          9.49137843077237,
          8.87919600040812,
          8.287419651056016,
          7.716049382716049,
          7.165085195388227,
          6.634527089072543,
          6.124375063769004,
          5.634629119477604,
          5.165289256198348,
          4.716355473931231,
          4.287827772676258,
          3.879706152433425,
          3.491990613202735,
          3.1246811549841853,
          2.7777777777777772,
          2.4512804815835123,
          2.1451892664013874,
          1.8595041322314052,
          1.5942250790735637,
          1.349352106927865,
          1.1248852157943066,
          0.92082440567289,
          0.7371696765636166,
          0.5739210284664833,
          0.4310784613814917,
          0.30864197530864174,
          0.20661157024793433,
          0.1249872461993676,
          0.0637690031629426,
          0.02295684113865928,
          0.002550760126517668,
          0.002550760126517668,
          0.02295684113865928,
          0.0637690031629426,
          0.1249872461993676,
          0.20661157024793353,
          0.30864197530864174,
          0.4310784613814917,
          0.5739210284664833,
          0.7371696765636152,
          0.92082440567289,
          1.1248852157943066,
          1.349352106927865,
          1.5942250790735626,
          1.859504132231404,
          2.1451892664013874,
          2.4512804815835123,
          2.7777777777777786,
          3.124681154984184,
          3.491990613202734,
          3.879706152433425,
          4.287827772676258,
          4.7163554739312294,
          5.165289256198346,
          5.634629119477604,
          6.124375063769004,
          6.634527089072541,
          7.165085195388224,
          7.716049382716049,
          8.287419651056016,
          8.879196000408118,
          9.491378430772373,
          10.12396694214876,
          10.776961534537287,
          11.450362207937967,
          12.144168962350777,
          12.858381797775742,
          13.593000714212835,
          14.34802571166207,
          15.12345679012346,
          15.919293949596977,
          16.73553719008264,
          17.57218651158045,
          18.429241914090394,
          19.306703397612495,
          20.204570962146718,
          21.122844607693086,
          22.061524334251608,
          23.02061014182226,
          24.000102030405067,
          25.0,
          25.0,
          24.00010203040506,
          23.02061014182226,
          22.061524334251608,
          21.122844607693093,
          20.204570962146718,
          19.306703397612484,
          18.4292419140904,
          17.57218651158045,
          16.735537190082646,
          15.919293949596977,
          15.123456790123456,
          14.348025711662077,
          13.593000714212835,
          12.858381797775735,
          12.144168962350781,
          11.450362207937967,
          10.776961534537293,
          10.12396694214876,
          9.49137843077237,
          8.87919600040812,
          8.287419651056016,
          7.716049382716049,
          7.165085195388227,
          6.634527089072543,
          6.124375063769004,
          5.634629119477604,
          5.165289256198348,
          4.716355473931231,
          4.287827772676258,
          3.879706152433425,
          3.491990613202735,
          3.1246811549841853,
          2.7777777777777772,
          2.4512804815835123,
          2.1451892664013874,
          1.8595041322314052,
          1.5942250790735637,
          1.349352106927865,
          1.1248852157943066,
          0.92082440567289,
          0.7371696765636166,
          0.5739210284664833,
          0.4310784613814917,
          0.30864197530864174,
          0.20661157024793433,
          0.1249872461993676,
          0.0637690031629426,
          0.02295684113865928,
          0.002550760126517668,
          0.002550760126517668,
          0.02295684113865928,
          0.0637690031629426,
          0.1249872461993676,
          0.20661157024793353,
          0.30864197530864174,
          0.4310784613814917,
          0.5739210284664833,
          0.7371696765636152,
          0.92082440567289,
          1.1248852157943066,
          1.349352106927865,
          1.5942250790735626,
          1.859504132231404,
          2.1451892664013874,
          2.4512804815835123,
          2.7777777777777786,
          3.124681154984184,
          3.491990613202734,
          3.879706152433425,
          4.287827772676258,
          4.7163554739312294,
          5.165289256198346,
          5.634629119477604,
          6.124375063769004,
          6.634527089072541,
          7.165085195388224,
          7.716049382716049,
          8.287419651056016,
          8.879196000408118,
          9.491378430772373,
          10.12396694214876,
          10.776961534537287,
          11.450362207937967,
          12.144168962350777,
          12.858381797775742,
          13.593000714212835,
          14.34802571166207,
          15.12345679012346,
          15.919293949596977,
          16.73553719008264,
          17.57218651158045,
          18.429241914090394,
          19.306703397612495,
          20.204570962146718,
          21.122844607693086,
          22.061524334251608,
          23.02061014182226,
          24.000102030405067,
          25.0
         ],
         "z": [
          -43.30127018922194,
          -42.708375122107526,
          -42.09646686932831,
          -41.466149778757924,
          -40.81800946210581,
          -40.15261396783838,
          -39.47051486461593,
          -38.77224824382736,
          -38.05833564884669,
          -37.329284937802186,
          -36.585591085918274,
          -35.827736932851536,
          -35.056193879879366,
          -34.271422541305355,
          -33.47387335400854,
          -32.66398714867727,
          -31.84219568592629,
          -31.00892216019178,
          -30.164581674028813,
          -29.309581685194797,
          -28.444322428687745,
          -27.569197315716178,
          -26.68459331140522,
          -25.79089129288965,
          -24.88846638930605,
          -23.97768830507196,
          -23.058921627727855,
          -22.1325261215171,
          -21.198857007787993,
          -20.258265233220044,
          -19.311097726802398,
          -18.35769764642553,
          -17.39840461588663,
          -16.43355495305449,
          -15.463481889890094,
          -14.48851578497449,
          -13.50898432915498,
          -12.525212744884188,
          -11.537523979793749,
          -10.546238895014566,
          -9.5516764487291,
          -8.554153875417297,
          -7.55398686123641,
          -6.551489715956374,
          -5.546975541855377,
          -4.540756399966102,
          -3.533143474050305,
          -2.5244472326689387,
          -1.5149775897058222,
          -0.5050440636959747,
          0.5050440636959747,
          1.5149775897058222,
          2.5244472326689387,
          3.533143474050305,
          4.540756399966093,
          5.546975541855377,
          6.551489715956374,
          7.55398686123641,
          8.554153875417288,
          9.5516764487291,
          10.546238895014566,
          11.537523979793749,
          12.525212744884183,
          13.508984329154977,
          14.48851578497449,
          15.463481889890094,
          16.433554953054493,
          17.398404615886626,
          18.357697646425528,
          19.311097726802398,
          20.258265233220044,
          21.198857007787986,
          22.132526121517095,
          23.058921627727855,
          23.97768830507196,
          24.88846638930605,
          25.790891292889647,
          26.68459331140522,
          27.569197315716178,
          28.444322428687737,
          29.3095816851948,
          30.164581674028813,
          31.00892216019177,
          31.84219568592629,
          32.66398714867727,
          33.47387335400855,
          34.271422541305355,
          35.05619387987936,
          35.82773693285154,
          36.585591085918274,
          37.32928493780218,
          38.05833564884669,
          38.772248243827356,
          39.470514864615936,
          40.15261396783838,
          40.81800946210581,
          41.466149778757924,
          42.09646686932831,
          42.70837512210753,
          43.30127018922194,
          -43.30127018922194,
          -42.708375122107526,
          -42.09646686932831,
          -41.466149778757924,
          -40.81800946210581,
          -40.15261396783838,
          -39.47051486461593,
          -38.77224824382736,
          -38.05833564884669,
          -37.329284937802186,
          -36.585591085918274,
          -35.827736932851536,
          -35.056193879879366,
          -34.271422541305355,
          -33.47387335400854,
          -32.66398714867727,
          -31.84219568592629,
          -31.00892216019178,
          -30.164581674028813,
          -29.309581685194797,
          -28.444322428687745,
          -27.569197315716178,
          -26.68459331140522,
          -25.79089129288965,
          -24.88846638930605,
          -23.97768830507196,
          -23.058921627727855,
          -22.1325261215171,
          -21.198857007787993,
          -20.258265233220044,
          -19.311097726802398,
          -18.35769764642553,
          -17.39840461588663,
          -16.43355495305449,
          -15.463481889890094,
          -14.48851578497449,
          -13.50898432915498,
          -12.525212744884188,
          -11.537523979793749,
          -10.546238895014566,
          -9.5516764487291,
          -8.554153875417297,
          -7.55398686123641,
          -6.551489715956374,
          -5.546975541855377,
          -4.540756399966102,
          -3.533143474050305,
          -2.5244472326689387,
          -1.5149775897058222,
          -0.5050440636959747,
          0.5050440636959747,
          1.5149775897058222,
          2.5244472326689387,
          3.533143474050305,
          4.540756399966093,
          5.546975541855377,
          6.551489715956374,
          7.55398686123641,
          8.554153875417288,
          9.5516764487291,
          10.546238895014566,
          11.537523979793749,
          12.525212744884183,
          13.508984329154977,
          14.48851578497449,
          15.463481889890094,
          16.433554953054493,
          17.398404615886626,
          18.357697646425528,
          19.311097726802398,
          20.258265233220044,
          21.198857007787986,
          22.132526121517095,
          23.058921627727855,
          23.97768830507196,
          24.88846638930605,
          25.790891292889647,
          26.68459331140522,
          27.569197315716178,
          28.444322428687737,
          29.3095816851948,
          30.164581674028813,
          31.00892216019177,
          31.84219568592629,
          32.66398714867727,
          33.47387335400855,
          34.271422541305355,
          35.05619387987936,
          35.82773693285154,
          36.585591085918274,
          37.32928493780218,
          38.05833564884669,
          38.772248243827356,
          39.470514864615936,
          40.15261396783838,
          40.81800946210581,
          41.466149778757924,
          42.09646686932831,
          42.70837512210753,
          43.30127018922194,
          -0.0,
          -4.898739969652749,
          -6.750315714378595,
          -8.05153726970908,
          -9.049671312902925,
          -9.843250798859367,
          -10.484216177518025,
          -11.004276001818274,
          -11.424662970597483,
          -11.760536752692317,
          -12.023245355820096,
          -12.221598687174895,
          -12.362637298288575,
          -12.45212228653133,
          -12.494861443290318,
          -12.494934344471183,
          -12.45585246000751,
          -12.380676009270896,
          -12.27210116108884,
          -12.132526375540186,
          -11.964103743972611,
          -11.768779325133554,
          -11.548325267820806,
          -11.304365706554885,
          -11.03839786976245,
          -10.751809460388959,
          -10.445893100777699,
          -10.121858441252803,
          -9.780842391726784,
          -9.42391783223796,
          -9.052101081053275,
          -8.666358340581837,
          -8.267611296758655,
          -7.856742013183861,
          -7.434597234564594,
          -7.00199219303699,
          -6.559713994375019,
          -6.10852464790738,
          -5.649163793405706,
          -5.18235116970522,
          -4.708788862939112,
          -4.229163366677327,
          -3.7441474817034197,
          -3.2544020794410544,
          -2.7605777499997393,
          -2.263316353327135,
          -1.763252489937754,
          -1.2610149060614508,
          -0.7572278467617368,
          -0.2525123695697275,
          0.2525123695697275,
          0.7572278467617368,
          1.2610149060614508,
          1.763252489937754,
          2.2633163533271308,
          2.7605777499997393,
          3.2544020794410544,
          3.7441474817034197,
          4.229163366677324,
          4.708788862939112,
          5.18235116970522,
          5.649163793405706,
          6.1085246479073785,
          6.559713994375017,
          7.00199219303699,
          7.434597234564594,
          7.8567420131838634,
          8.267611296758654,
          8.666358340581834,
          9.052101081053275,
          9.42391783223796,
          9.780842391726782,
          10.121858441252801,
          10.445893100777699,
          10.751809460388959,
          11.038397869762449,
          11.304365706554885,
          11.548325267820806,
          11.768779325133554,
          11.964103743972611,
          12.132526375540186,
          12.27210116108884,
          12.380676009270895,
          12.45585246000751,
          12.494934344471183,
          12.494861443290318,
          12.45212228653133,
          12.362637298288577,
          12.221598687174895,
          12.023245355820096,
          11.760536752692321,
          11.424662970597483,
          11.004276001818278,
          10.484216177518016,
          9.843250798859367,
          9.049671312902932,
          8.05153726970908,
          6.750315714378595,
          4.898739969652733,
          0.0,
          -0.0,
          -4.898739969652749,
          -6.750315714378595,
          -8.05153726970908,
          -9.049671312902925,
          -9.843250798859367,
          -10.484216177518025,
          -11.004276001818274,
          -11.424662970597483,
          -11.760536752692317,
          -12.023245355820096,
          -12.221598687174895,
          -12.362637298288575,
          -12.45212228653133,
          -12.494861443290318,
          -12.494934344471183,
          -12.45585246000751,
          -12.380676009270896,
          -12.27210116108884,
          -12.132526375540186,
          -11.964103743972611,
          -11.768779325133554,
          -11.548325267820806,
          -11.304365706554885,
          -11.03839786976245,
          -10.751809460388959,
          -10.445893100777699,
          -10.121858441252803,
          -9.780842391726784,
          -9.42391783223796,
          -9.052101081053275,
          -8.666358340581837,
          -8.267611296758655,
          -7.856742013183861,
          -7.434597234564594,
          -7.00199219303699,
          -6.559713994375019,
          -6.10852464790738,
          -5.649163793405706,
          -5.18235116970522,
          -4.708788862939112,
          -4.229163366677327,
          -3.7441474817034197,
          -3.2544020794410544,
          -2.7605777499997393,
          -2.263316353327135,
          -1.763252489937754,
          -1.2610149060614508,
          -0.7572278467617368,
          -0.2525123695697275,
          0.2525123695697275,
          0.7572278467617368,
          1.2610149060614508,
          1.763252489937754,
          2.2633163533271308,
          2.7605777499997393,
          3.2544020794410544,
          3.7441474817034197,
          4.229163366677324,
          4.708788862939112,
          5.18235116970522,
          5.649163793405706,
          6.1085246479073785,
          6.559713994375017,
          7.00199219303699,
          7.434597234564594,
          7.8567420131838634,
          8.267611296758654,
          8.666358340581834,
          9.052101081053275,
          9.42391783223796,
          9.780842391726782,
          10.121858441252801,
          10.445893100777699,
          10.751809460388959,
          11.038397869762449,
          11.304365706554885,
          11.548325267820806,
          11.768779325133554,
          11.964103743972611,
          12.132526375540186,
          12.27210116108884,
          12.380676009270895,
          12.45585246000751,
          12.494934344471183,
          12.494861443290318,
          12.45212228653133,
          12.362637298288577,
          12.221598687174895,
          12.023245355820096,
          11.760536752692321,
          11.424662970597483,
          11.004276001818278,
          10.484216177518016,
          9.843250798859367,
          9.049671312902932,
          8.05153726970908,
          6.750315714378595,
          4.898739969652733,
          0.0
         ],
         "type": "scatter3d"
        }
       ],
       "layout": {
        "template": {
         "data": {
          "histogram2dcontour": [
           {
            "type": "histogram2dcontour",
            "colorbar": {
             "outlinewidth": 0,
             "ticks": ""
            },
            "colorscale": [
             [
              0.0,
              "#0d0887"
             ],
             [
              0.1111111111111111,
              "#46039f"
             ],
             [
              0.2222222222222222,
              "#7201a8"
             ],
             [
              0.3333333333333333,
              "#9c179e"
             ],
             [
              0.4444444444444444,
              "#bd3786"
             ],
             [
              0.5555555555555556,
              "#d8576b"
             ],
             [
              0.6666666666666666,
              "#ed7953"
             ],
             [
              0.7777777777777778,
              "#fb9f3a"
             ],
             [
              0.8888888888888888,
              "#fdca26"
             ],
             [
              1.0,
              "#f0f921"
             ]
            ]
           }
          ],
          "choropleth": [
           {
            "type": "choropleth",
            "colorbar": {
             "outlinewidth": 0,
             "ticks": ""
            }
           }
          ],
          "histogram2d": [
           {
            "type": "histogram2d",
            "colorbar": {
             "outlinewidth": 0,
             "ticks": ""
            },
            "colorscale": [
             [
              0.0,
              "#0d0887"
             ],
             [
              0.1111111111111111,
              "#46039f"
             ],
             [
              0.2222222222222222,
              "#7201a8"
             ],
             [
              0.3333333333333333,
              "#9c179e"
             ],
             [
              0.4444444444444444,
              "#bd3786"
             ],
             [
              0.5555555555555556,
              "#d8576b"
             ],
             [
              0.6666666666666666,
              "#ed7953"
             ],
             [
              0.7777777777777778,
              "#fb9f3a"
             ],
             [
              0.8888888888888888,
              "#fdca26"
             ],
             [
              1.0,
              "#f0f921"
             ]
            ]
           }
          ],
          "heatmap": [
           {
            "type": "heatmap",
            "colorbar": {
             "outlinewidth": 0,
             "ticks": ""
            },
            "colorscale": [
             [
              0.0,
              "#0d0887"
             ],
             [
              0.1111111111111111,
              "#46039f"
             ],
             [
              0.2222222222222222,
              "#7201a8"
             ],
             [
              0.3333333333333333,
              "#9c179e"
             ],
             [
              0.4444444444444444,
              "#bd3786"
             ],
             [
              0.5555555555555556,
              "#d8576b"
             ],
             [
              0.6666666666666666,
              "#ed7953"
             ],
             [
              0.7777777777777778,
              "#fb9f3a"
             ],
             [
              0.8888888888888888,
              "#fdca26"
             ],
             [
              1.0,
              "#f0f921"
             ]
            ]
           }
          ],
          "heatmapgl": [
           {
            "type": "heatmapgl",
            "colorbar": {
             "outlinewidth": 0,
             "ticks": ""
            },
            "colorscale": [
             [
              0.0,
              "#0d0887"
             ],
             [
              0.1111111111111111,
              "#46039f"
             ],
             [
              0.2222222222222222,
              "#7201a8"
             ],
             [
              0.3333333333333333,
              "#9c179e"
             ],
             [
              0.4444444444444444,
              "#bd3786"
             ],
             [
              0.5555555555555556,
              "#d8576b"
             ],
             [
              0.6666666666666666,
              "#ed7953"
             ],
             [
              0.7777777777777778,
              "#fb9f3a"
             ],
             [
              0.8888888888888888,
              "#fdca26"
             ],
             [
              1.0,
              "#f0f921"
             ]
            ]
           }
          ],
          "contourcarpet": [
           {
            "type": "contourcarpet",
            "colorbar": {
             "outlinewidth": 0,
             "ticks": ""
            }
           }
          ],
          "contour": [
           {
            "type": "contour",
            "colorbar": {
             "outlinewidth": 0,
             "ticks": ""
            },
            "colorscale": [
             [
              0.0,
              "#0d0887"
             ],
             [
              0.1111111111111111,
              "#46039f"
             ],
             [
              0.2222222222222222,
              "#7201a8"
             ],
             [
              0.3333333333333333,
              "#9c179e"
             ],
             [
              0.4444444444444444,
              "#bd3786"
             ],
             [
              0.5555555555555556,
              "#d8576b"
             ],
             [
              0.6666666666666666,
              "#ed7953"
             ],
             [
              0.7777777777777778,
              "#fb9f3a"
             ],
             [
              0.8888888888888888,
              "#fdca26"
             ],
             [
              1.0,
              "#f0f921"
             ]
            ]
           }
          ],
          "surface": [
           {
            "type": "surface",
            "colorbar": {
             "outlinewidth": 0,
             "ticks": ""
            },
            "colorscale": [
             [
              0.0,
              "#0d0887"
             ],
             [
              0.1111111111111111,
              "#46039f"
             ],
             [
              0.2222222222222222,
              "#7201a8"
             ],
             [
              0.3333333333333333,
              "#9c179e"
             ],
             [
              0.4444444444444444,
              "#bd3786"
             ],
             [
              0.5555555555555556,
              "#d8576b"
             ],
             [
              0.6666666666666666,
              "#ed7953"
             ],
             [
              0.7777777777777778,
              "#fb9f3a"
             ],
             [
              0.8888888888888888,
              "#fdca26"
             ],
             [
              1.0,
              "#f0f921"
             ]
            ]
           }
          ],
          "mesh3d": [
           {
            "type": "mesh3d",
            "colorbar": {
             "outlinewidth": 0,
             "ticks": ""
            }
           }
          ],
          "scatter": [
           {
            "fillpattern": {
             "fillmode": "overlay",
             "size": 10,
             "solidity": 0.2
            },
            "type": "scatter"
           }
          ],
          "parcoords": [
           {
            "type": "parcoords",
            "line": {
             "colorbar": {
              "outlinewidth": 0,
              "ticks": ""
             }
            }
           }
          ],
          "scatterpolargl": [
           {
            "type": "scatterpolargl",
            "marker": {
             "colorbar": {
              "outlinewidth": 0,
              "ticks": ""
             }
            }
           }
          ],
          "bar": [
           {
            "error_x": {
             "color": "#2a3f5f"
            },
            "error_y": {
             "color": "#2a3f5f"
            },
            "marker": {
             "line": {
              "color": "#E5ECF6",
              "width": 0.5
             },
             "pattern": {
              "fillmode": "overlay",
              "size": 10,
              "solidity": 0.2
             }
            },
            "type": "bar"
           }
          ],
          "scattergeo": [
           {
            "type": "scattergeo",
            "marker": {
             "colorbar": {
              "outlinewidth": 0,
              "ticks": ""
             }
            }
           }
          ],
          "scatterpolar": [
           {
            "type": "scatterpolar",
            "marker": {
             "colorbar": {
              "outlinewidth": 0,
              "ticks": ""
             }
            }
           }
          ],
          "histogram": [
           {
            "marker": {
             "pattern": {
              "fillmode": "overlay",
              "size": 10,
              "solidity": 0.2
             }
            },
            "type": "histogram"
           }
          ],
          "scattergl": [
           {
            "type": "scattergl",
            "marker": {
             "colorbar": {
              "outlinewidth": 0,
              "ticks": ""
             }
            }
           }
          ],
          "scatter3d": [
           {
            "type": "scatter3d",
            "line": {
             "colorbar": {
              "outlinewidth": 0,
              "ticks": ""
             }
            },
            "marker": {
             "colorbar": {
              "outlinewidth": 0,
              "ticks": ""
             }
            }
           }
          ],
          "scattermapbox": [
           {
            "type": "scattermapbox",
            "marker": {
             "colorbar": {
              "outlinewidth": 0,
              "ticks": ""
             }
            }
           }
          ],
          "scatterternary": [
           {
            "type": "scatterternary",
            "marker": {
             "colorbar": {
              "outlinewidth": 0,
              "ticks": ""
             }
            }
           }
          ],
          "scattercarpet": [
           {
            "type": "scattercarpet",
            "marker": {
             "colorbar": {
              "outlinewidth": 0,
              "ticks": ""
             }
            }
           }
          ],
          "carpet": [
           {
            "aaxis": {
             "endlinecolor": "#2a3f5f",
             "gridcolor": "white",
             "linecolor": "white",
             "minorgridcolor": "white",
             "startlinecolor": "#2a3f5f"
            },
            "baxis": {
             "endlinecolor": "#2a3f5f",
             "gridcolor": "white",
             "linecolor": "white",
             "minorgridcolor": "white",
             "startlinecolor": "#2a3f5f"
            },
            "type": "carpet"
           }
          ],
          "table": [
           {
            "cells": {
             "fill": {
              "color": "#EBF0F8"
             },
             "line": {
              "color": "white"
             }
            },
            "header": {
             "fill": {
              "color": "#C8D4E3"
             },
             "line": {
              "color": "white"
             }
            },
            "type": "table"
           }
          ],
          "barpolar": [
           {
            "marker": {
             "line": {
              "color": "#E5ECF6",
              "width": 0.5
             },
             "pattern": {
              "fillmode": "overlay",
              "size": 10,
              "solidity": 0.2
             }
            },
            "type": "barpolar"
           }
          ],
          "pie": [
           {
            "automargin": true,
            "type": "pie"
           }
          ]
         },
         "layout": {
          "autotypenumbers": "strict",
          "colorway": [
           "#636efa",
           "#EF553B",
           "#00cc96",
           "#ab63fa",
           "#FFA15A",
           "#19d3f3",
           "#FF6692",
           "#B6E880",
           "#FF97FF",
           "#FECB52"
          ],
          "font": {
           "color": "#2a3f5f"
          },
          "hovermode": "closest",
          "hoverlabel": {
           "align": "left"
          },
          "paper_bgcolor": "white",
          "plot_bgcolor": "#E5ECF6",
          "polar": {
           "bgcolor": "#E5ECF6",
           "angularaxis": {
            "gridcolor": "white",
            "linecolor": "white",
            "ticks": ""
           },
           "radialaxis": {
            "gridcolor": "white",
            "linecolor": "white",
            "ticks": ""
           }
          },
          "ternary": {
           "bgcolor": "#E5ECF6",
           "aaxis": {
            "gridcolor": "white",
            "linecolor": "white",
            "ticks": ""
           },
           "baxis": {
            "gridcolor": "white",
            "linecolor": "white",
            "ticks": ""
           },
           "caxis": {
            "gridcolor": "white",
            "linecolor": "white",
            "ticks": ""
           }
          },
          "coloraxis": {
           "colorbar": {
            "outlinewidth": 0,
            "ticks": ""
           }
          },
          "colorscale": {
           "sequential": [
            [
             0.0,
             "#0d0887"
            ],
            [
             0.1111111111111111,
             "#46039f"
            ],
            [
             0.2222222222222222,
             "#7201a8"
            ],
            [
             0.3333333333333333,
             "#9c179e"
            ],
            [
             0.4444444444444444,
             "#bd3786"
            ],
            [
             0.5555555555555556,
             "#d8576b"
            ],
            [
             0.6666666666666666,
             "#ed7953"
            ],
            [
             0.7777777777777778,
             "#fb9f3a"
            ],
            [
             0.8888888888888888,
             "#fdca26"
            ],
            [
             1.0,
             "#f0f921"
            ]
           ],
           "sequentialminus": [
            [
             0.0,
             "#0d0887"
            ],
            [
             0.1111111111111111,
             "#46039f"
            ],
            [
             0.2222222222222222,
             "#7201a8"
            ],
            [
             0.3333333333333333,
             "#9c179e"
            ],
            [
             0.4444444444444444,
             "#bd3786"
            ],
            [
             0.5555555555555556,
             "#d8576b"
            ],
            [
             0.6666666666666666,
             "#ed7953"
            ],
            [
             0.7777777777777778,
             "#fb9f3a"
            ],
            [
             0.8888888888888888,
             "#fdca26"
            ],
            [
             1.0,
             "#f0f921"
            ]
           ],
           "diverging": [
            [
             0,
             "#8e0152"
            ],
            [
             0.1,
             "#c51b7d"
            ],
            [
             0.2,
             "#de77ae"
            ],
            [
             0.3,
             "#f1b6da"
            ],
            [
             0.4,
             "#fde0ef"
            ],
            [
             0.5,
             "#f7f7f7"
            ],
            [
             0.6,
             "#e6f5d0"
            ],
            [
             0.7,
             "#b8e186"
            ],
            [
             0.8,
             "#7fbc41"
            ],
            [
             0.9,
             "#4d9221"
            ],
            [
             1,
             "#276419"
            ]
           ]
          },
          "xaxis": {
           "gridcolor": "white",
           "linecolor": "white",
           "ticks": "",
           "title": {
            "standoff": 15
           },
           "zerolinecolor": "white",
           "automargin": true,
           "zerolinewidth": 2
          },
          "yaxis": {
           "gridcolor": "white",
           "linecolor": "white",
           "ticks": "",
           "title": {
            "standoff": 15
           },
           "zerolinecolor": "white",
           "automargin": true,
           "zerolinewidth": 2
          },
          "scene": {
           "xaxis": {
            "backgroundcolor": "#E5ECF6",
            "gridcolor": "white",
            "linecolor": "white",
            "showbackground": true,
            "ticks": "",
            "zerolinecolor": "white",
            "gridwidth": 2
           },
           "yaxis": {
            "backgroundcolor": "#E5ECF6",
            "gridcolor": "white",
            "linecolor": "white",
            "showbackground": true,
            "ticks": "",
            "zerolinecolor": "white",
            "gridwidth": 2
           },
           "zaxis": {
            "backgroundcolor": "#E5ECF6",
            "gridcolor": "white",
            "linecolor": "white",
            "showbackground": true,
            "ticks": "",
            "zerolinecolor": "white",
            "gridwidth": 2
           }
          },
          "shapedefaults": {
           "line": {
            "color": "#2a3f5f"
           }
          },
          "annotationdefaults": {
           "arrowcolor": "#2a3f5f",
           "arrowhead": 0,
           "arrowwidth": 1
          },
          "geo": {
           "bgcolor": "white",
           "landcolor": "#E5ECF6",
           "subunitcolor": "white",
           "showland": true,
           "showlakes": true,
           "lakecolor": "white"
          },
          "title": {
           "x": 0.05
          },
          "mapbox": {
           "style": "light"
          }
         }
        },
        "scene": {
         "domain": {
          "x": [
           0.0,
           1.0
          ],
          "y": [
           0.0,
           1.0
          ]
         },
         "xaxis": {
          "title": {
           "text": "X1^2"
          }
         },
         "yaxis": {
          "title": {
           "text": "X2^2"
          }
         },
         "zaxis": {
          "title": {
           "text": "X1*X2"
          }
         }
        },
        "coloraxis": {
         "colorbar": {
          "title": {
           "text": "Y"
          }
         },
         "colorscale": [
          [
           0.0,
           "#0d0887"
          ],
          [
           0.1111111111111111,
           "#46039f"
          ],
          [
           0.2222222222222222,
           "#7201a8"
          ],
          [
           0.3333333333333333,
           "#9c179e"
          ],
          [
           0.4444444444444444,
           "#bd3786"
          ],
          [
           0.5555555555555556,
           "#d8576b"
          ],
          [
           0.6666666666666666,
           "#ed7953"
          ],
          [
           0.7777777777777778,
           "#fb9f3a"
          ],
          [
           0.8888888888888888,
           "#fdca26"
          ],
          [
           1.0,
           "#f0f921"
          ]
         ]
        },
        "legend": {
         "tracegroupgap": 0
        },
        "margin": {
         "t": 60
        }
       },
       "config": {
        "plotlyServerURL": "https://plot.ly"
       }
      },
      "text/html": [
       "<div>                            <div id=\"611bbec8-bad3-411f-9322-7c294bd54fa8\" class=\"plotly-graph-div\" style=\"height:525px; width:100%;\"></div>            <script type=\"text/javascript\">                require([\"plotly\"], function(Plotly) {                    window.PLOTLYENV=window.PLOTLYENV || {};                                    if (document.getElementById(\"611bbec8-bad3-411f-9322-7c294bd54fa8\")) {                    Plotly.newPlot(                        \"611bbec8-bad3-411f-9322-7c294bd54fa8\",                        [{\"hovertemplate\":\"X1^2=%{x}\\u003cbr\\u003eX2^2=%{y}\\u003cbr\\u003eX1*X2=%{z}\\u003cbr\\u003eY=%{marker.color}\\u003cextra\\u003e\\u003c\\u002fextra\\u003e\",\"legendgroup\":\"\",\"marker\":{\"color\":[0,0,0,0,0,0,0,0,0,0,0,0,0,0,0,0,0,0,0,0,0,0,0,0,0,0,0,0,0,0,0,0,0,0,0,0,0,0,0,0,0,0,0,0,0,0,0,0,0,0,0,0,0,0,0,0,0,0,0,0,0,0,0,0,0,0,0,0,0,0,0,0,0,0,0,0,0,0,0,0,0,0,0,0,0,0,0,0,0,0,0,0,0,0,0,0,0,0,0,0,0,0,0,0,0,0,0,0,0,0,0,0,0,0,0,0,0,0,0,0,0,0,0,0,0,0,0,0,0,0,0,0,0,0,0,0,0,0,0,0,0,0,0,0,0,0,0,0,0,0,0,0,0,0,0,0,0,0,0,0,0,0,0,0,0,0,0,0,0,0,0,0,0,0,0,0,0,0,0,0,0,0,0,0,0,0,0,0,0,0,0,0,0,0,0,0,0,0,0,0,1,1,1,1,1,1,1,1,1,1,1,1,1,1,1,1,1,1,1,1,1,1,1,1,1,1,1,1,1,1,1,1,1,1,1,1,1,1,1,1,1,1,1,1,1,1,1,1,1,1,1,1,1,1,1,1,1,1,1,1,1,1,1,1,1,1,1,1,1,1,1,1,1,1,1,1,1,1,1,1,1,1,1,1,1,1,1,1,1,1,1,1,1,1,1,1,1,1,1,1,1,1,1,1,1,1,1,1,1,1,1,1,1,1,1,1,1,1,1,1,1,1,1,1,1,1,1,1,1,1,1,1,1,1,1,1,1,1,1,1,1,1,1,1,1,1,1,1,1,1,1,1,1,1,1,1,1,1,1,1,1,1,1,1,1,1,1,1,1,1,1,1,1,1,1,1,1,1,1,1,1,1,1,1,1,1,1,1,1,1,1,1,1,1,1,1,1,1,1,1],\"coloraxis\":\"coloraxis\",\"symbol\":\"circle\"},\"mode\":\"markers\",\"name\":\"\",\"scene\":\"scene\",\"showlegend\":false,\"x\":[75.00000000000001,75.99989796959494,76.97938985817774,77.93847566574841,78.87715539230689,79.79542903785328,80.69329660238752,81.57075808590962,82.42781348841956,83.26446280991735,84.08070605040302,84.87654320987653,85.65197428833793,86.40699928578718,87.14161820222425,87.85583103764922,88.54963779206203,89.2230384654627,89.87603305785123,90.50862156922764,91.12080399959189,91.71258034894397,92.28395061728395,92.83491480461178,93.36547291092745,93.87562493623098,94.36537088052238,94.83471074380165,95.28364452606877,95.71217222732375,96.12029384756657,96.50800938679727,96.87531884501581,97.22222222222224,97.54871951841648,97.8548107335986,98.14049586776859,98.40577492092645,98.65064789307212,98.87511478420569,99.0791755943271,99.2628303234364,99.42607897153351,99.5689215386185,99.69135802469137,99.79338842975206,99.87501275380063,99.93623099683704,99.97704315886133,99.99744923987349,99.99744923987349,99.97704315886133,99.93623099683704,99.87501275380063,99.79338842975206,99.69135802469137,99.5689215386185,99.42607897153351,99.2628303234364,99.0791755943271,98.87511478420569,98.65064789307212,98.40577492092645,98.14049586776859,97.8548107335986,97.54871951841648,97.22222222222224,96.87531884501581,96.50800938679727,96.12029384756657,95.71217222732375,95.28364452606877,94.83471074380165,94.36537088052238,93.87562493623098,93.36547291092748,92.83491480461178,92.28395061728395,91.71258034894397,91.12080399959189,90.50862156922764,89.87603305785123,89.2230384654627,88.54963779206203,87.85583103764922,87.14161820222425,86.40699928578718,85.65197428833793,84.87654320987653,84.08070605040302,83.26446280991735,82.42781348841956,81.57075808590962,80.69329660238752,79.79542903785328,78.87715539230693,77.93847566574841,76.97938985817774,75.99989796959494,75.00000000000001,75.00000000000001,75.99989796959494,76.97938985817774,77.93847566574841,78.87715539230689,79.79542903785328,80.69329660238752,81.57075808590962,82.42781348841956,83.26446280991735,84.08070605040302,84.87654320987653,85.65197428833793,86.40699928578718,87.14161820222425,87.85583103764922,88.54963779206203,89.2230384654627,89.87603305785123,90.50862156922764,91.12080399959189,91.71258034894397,92.28395061728395,92.83491480461178,93.36547291092745,93.87562493623098,94.36537088052238,94.83471074380165,95.28364452606877,95.71217222732375,96.12029384756657,96.50800938679727,96.87531884501581,97.22222222222224,97.54871951841648,97.8548107335986,98.14049586776859,98.40577492092645,98.65064789307212,98.87511478420569,99.0791755943271,99.2628303234364,99.42607897153351,99.5689215386185,99.69135802469137,99.79338842975206,99.87501275380063,99.93623099683704,99.97704315886133,99.99744923987349,99.99744923987349,99.97704315886133,99.93623099683704,99.87501275380063,99.79338842975206,99.69135802469137,99.5689215386185,99.42607897153351,99.2628303234364,99.0791755943271,98.87511478420569,98.65064789307212,98.40577492092645,98.14049586776859,97.8548107335986,97.54871951841648,97.22222222222224,96.87531884501581,96.50800938679727,96.12029384756657,95.71217222732375,95.28364452606877,94.83471074380165,94.36537088052238,93.87562493623098,93.36547291092748,92.83491480461178,92.28395061728395,91.71258034894397,91.12080399959189,90.50862156922764,89.87603305785123,89.2230384654627,88.54963779206203,87.85583103764922,87.14161820222425,86.40699928578718,85.65197428833793,84.87654320987653,84.08070605040302,83.26446280991735,82.42781348841956,81.57075808590962,80.69329660238752,79.79542903785328,78.87715539230693,77.93847566574841,76.97938985817774,75.99989796959494,75.00000000000001,0.0,0.9998979695949402,1.97938985817774,2.9384756657483915,3.8771553923069066,4.795429037853282,5.693296602387515,6.570758085909598,7.427813488419548,8.264462809917353,9.080706050403023,9.876543209876544,10.651974288337922,11.406999285787165,12.141618202224265,12.85583103764922,13.549637792062033,14.22303846546271,14.876033057851238,15.50862156922763,16.120803999591878,16.712580348943987,17.28395061728395,17.834914804611774,18.365472910927455,18.875624936231,19.365370880522395,19.83471074380165,20.283644526068773,20.71217222732374,21.12029384756658,21.508009386797262,21.87531884501582,22.222222222222225,22.548719518416483,22.854810733598615,23.1404958677686,23.40577492092644,23.650647893072133,23.875114784205692,24.07917559432711,24.262830323436383,24.42607897153352,24.568921538618508,24.69135802469136,24.79338842975207,24.875012753800632,24.936230996837057,24.977043158861346,24.99744923987348,24.99744923987348,24.977043158861346,24.936230996837057,24.875012753800632,24.79338842975207,24.69135802469136,24.568921538618508,24.42607897153352,24.262830323436383,24.07917559432711,23.875114784205692,23.650647893072133,23.40577492092644,23.1404958677686,22.854810733598615,22.548719518416483,22.222222222222225,21.87531884501582,21.508009386797262,21.12029384756658,20.71217222732374,20.283644526068773,19.83471074380165,19.365370880522395,18.875624936231,18.365472910927455,17.83491480461178,17.28395061728395,16.712580348943987,16.120803999591885,15.508621569227627,14.876033057851238,14.223038465462713,13.549637792062033,12.855831037649223,12.141618202224258,11.406999285787165,10.65197428833793,9.87654320987654,9.080706050403023,8.264462809917362,7.427813488419548,6.570758085909605,5.6932966023875045,4.795429037853282,3.8771553923069146,2.9384756657483915,1.97938985817774,0.999897969594933,0.0,0.0,0.9998979695949402,1.97938985817774,2.9384756657483915,3.8771553923069066,4.795429037853282,5.693296602387515,6.570758085909598,7.427813488419548,8.264462809917353,9.080706050403023,9.876543209876544,10.651974288337922,11.406999285787165,12.141618202224265,12.85583103764922,13.549637792062033,14.22303846546271,14.876033057851238,15.50862156922763,16.120803999591878,16.712580348943987,17.28395061728395,17.834914804611774,18.365472910927455,18.875624936231,19.365370880522395,19.83471074380165,20.283644526068773,20.71217222732374,21.12029384756658,21.508009386797262,21.87531884501582,22.222222222222225,22.548719518416483,22.854810733598615,23.1404958677686,23.40577492092644,23.650647893072133,23.875114784205692,24.07917559432711,24.262830323436383,24.42607897153352,24.568921538618508,24.69135802469136,24.79338842975207,24.875012753800632,24.936230996837057,24.977043158861346,24.99744923987348,24.99744923987348,24.977043158861346,24.936230996837057,24.875012753800632,24.79338842975207,24.69135802469136,24.568921538618508,24.42607897153352,24.262830323436383,24.07917559432711,23.875114784205692,23.650647893072133,23.40577492092644,23.1404958677686,22.854810733598615,22.548719518416483,22.222222222222225,21.87531884501582,21.508009386797262,21.12029384756658,20.71217222732374,20.283644526068773,19.83471074380165,19.365370880522395,18.875624936231,18.365472910927455,17.83491480461178,17.28395061728395,16.712580348943987,16.120803999591885,15.508621569227627,14.876033057851238,14.223038465462713,13.549637792062033,12.855831037649223,12.141618202224258,11.406999285787165,10.65197428833793,9.87654320987654,9.080706050403023,8.264462809917362,7.427813488419548,6.570758085909605,5.6932966023875045,4.795429037853282,3.8771553923069146,2.9384756657483915,1.97938985817774,0.999897969594933,0.0],\"y\":[25.0,24.00010203040506,23.02061014182226,22.061524334251608,21.122844607693093,20.204570962146718,19.306703397612484,18.4292419140904,17.57218651158045,16.735537190082646,15.919293949596977,15.123456790123456,14.348025711662077,13.593000714212835,12.858381797775735,12.144168962350781,11.450362207937967,10.776961534537293,10.12396694214876,9.49137843077237,8.87919600040812,8.287419651056016,7.716049382716049,7.165085195388227,6.634527089072543,6.124375063769004,5.634629119477604,5.165289256198348,4.716355473931231,4.287827772676258,3.879706152433425,3.491990613202735,3.1246811549841853,2.7777777777777772,2.4512804815835123,2.1451892664013874,1.8595041322314052,1.5942250790735637,1.349352106927865,1.1248852157943066,0.92082440567289,0.7371696765636166,0.5739210284664833,0.4310784613814917,0.30864197530864174,0.20661157024793433,0.1249872461993676,0.0637690031629426,0.02295684113865928,0.002550760126517668,0.002550760126517668,0.02295684113865928,0.0637690031629426,0.1249872461993676,0.20661157024793353,0.30864197530864174,0.4310784613814917,0.5739210284664833,0.7371696765636152,0.92082440567289,1.1248852157943066,1.349352106927865,1.5942250790735626,1.859504132231404,2.1451892664013874,2.4512804815835123,2.7777777777777786,3.124681154984184,3.491990613202734,3.879706152433425,4.287827772676258,4.7163554739312294,5.165289256198346,5.634629119477604,6.124375063769004,6.634527089072541,7.165085195388224,7.716049382716049,8.287419651056016,8.879196000408118,9.491378430772373,10.12396694214876,10.776961534537287,11.450362207937967,12.144168962350777,12.858381797775742,13.593000714212835,14.34802571166207,15.12345679012346,15.919293949596977,16.73553719008264,17.57218651158045,18.429241914090394,19.306703397612495,20.204570962146718,21.122844607693086,22.061524334251608,23.02061014182226,24.000102030405067,25.0,25.0,24.00010203040506,23.02061014182226,22.061524334251608,21.122844607693093,20.204570962146718,19.306703397612484,18.4292419140904,17.57218651158045,16.735537190082646,15.919293949596977,15.123456790123456,14.348025711662077,13.593000714212835,12.858381797775735,12.144168962350781,11.450362207937967,10.776961534537293,10.12396694214876,9.49137843077237,8.87919600040812,8.287419651056016,7.716049382716049,7.165085195388227,6.634527089072543,6.124375063769004,5.634629119477604,5.165289256198348,4.716355473931231,4.287827772676258,3.879706152433425,3.491990613202735,3.1246811549841853,2.7777777777777772,2.4512804815835123,2.1451892664013874,1.8595041322314052,1.5942250790735637,1.349352106927865,1.1248852157943066,0.92082440567289,0.7371696765636166,0.5739210284664833,0.4310784613814917,0.30864197530864174,0.20661157024793433,0.1249872461993676,0.0637690031629426,0.02295684113865928,0.002550760126517668,0.002550760126517668,0.02295684113865928,0.0637690031629426,0.1249872461993676,0.20661157024793353,0.30864197530864174,0.4310784613814917,0.5739210284664833,0.7371696765636152,0.92082440567289,1.1248852157943066,1.349352106927865,1.5942250790735626,1.859504132231404,2.1451892664013874,2.4512804815835123,2.7777777777777786,3.124681154984184,3.491990613202734,3.879706152433425,4.287827772676258,4.7163554739312294,5.165289256198346,5.634629119477604,6.124375063769004,6.634527089072541,7.165085195388224,7.716049382716049,8.287419651056016,8.879196000408118,9.491378430772373,10.12396694214876,10.776961534537287,11.450362207937967,12.144168962350777,12.858381797775742,13.593000714212835,14.34802571166207,15.12345679012346,15.919293949596977,16.73553719008264,17.57218651158045,18.429241914090394,19.306703397612495,20.204570962146718,21.122844607693086,22.061524334251608,23.02061014182226,24.000102030405067,25.0,25.0,24.00010203040506,23.02061014182226,22.061524334251608,21.122844607693093,20.204570962146718,19.306703397612484,18.4292419140904,17.57218651158045,16.735537190082646,15.919293949596977,15.123456790123456,14.348025711662077,13.593000714212835,12.858381797775735,12.144168962350781,11.450362207937967,10.776961534537293,10.12396694214876,9.49137843077237,8.87919600040812,8.287419651056016,7.716049382716049,7.165085195388227,6.634527089072543,6.124375063769004,5.634629119477604,5.165289256198348,4.716355473931231,4.287827772676258,3.879706152433425,3.491990613202735,3.1246811549841853,2.7777777777777772,2.4512804815835123,2.1451892664013874,1.8595041322314052,1.5942250790735637,1.349352106927865,1.1248852157943066,0.92082440567289,0.7371696765636166,0.5739210284664833,0.4310784613814917,0.30864197530864174,0.20661157024793433,0.1249872461993676,0.0637690031629426,0.02295684113865928,0.002550760126517668,0.002550760126517668,0.02295684113865928,0.0637690031629426,0.1249872461993676,0.20661157024793353,0.30864197530864174,0.4310784613814917,0.5739210284664833,0.7371696765636152,0.92082440567289,1.1248852157943066,1.349352106927865,1.5942250790735626,1.859504132231404,2.1451892664013874,2.4512804815835123,2.7777777777777786,3.124681154984184,3.491990613202734,3.879706152433425,4.287827772676258,4.7163554739312294,5.165289256198346,5.634629119477604,6.124375063769004,6.634527089072541,7.165085195388224,7.716049382716049,8.287419651056016,8.879196000408118,9.491378430772373,10.12396694214876,10.776961534537287,11.450362207937967,12.144168962350777,12.858381797775742,13.593000714212835,14.34802571166207,15.12345679012346,15.919293949596977,16.73553719008264,17.57218651158045,18.429241914090394,19.306703397612495,20.204570962146718,21.122844607693086,22.061524334251608,23.02061014182226,24.000102030405067,25.0,25.0,24.00010203040506,23.02061014182226,22.061524334251608,21.122844607693093,20.204570962146718,19.306703397612484,18.4292419140904,17.57218651158045,16.735537190082646,15.919293949596977,15.123456790123456,14.348025711662077,13.593000714212835,12.858381797775735,12.144168962350781,11.450362207937967,10.776961534537293,10.12396694214876,9.49137843077237,8.87919600040812,8.287419651056016,7.716049382716049,7.165085195388227,6.634527089072543,6.124375063769004,5.634629119477604,5.165289256198348,4.716355473931231,4.287827772676258,3.879706152433425,3.491990613202735,3.1246811549841853,2.7777777777777772,2.4512804815835123,2.1451892664013874,1.8595041322314052,1.5942250790735637,1.349352106927865,1.1248852157943066,0.92082440567289,0.7371696765636166,0.5739210284664833,0.4310784613814917,0.30864197530864174,0.20661157024793433,0.1249872461993676,0.0637690031629426,0.02295684113865928,0.002550760126517668,0.002550760126517668,0.02295684113865928,0.0637690031629426,0.1249872461993676,0.20661157024793353,0.30864197530864174,0.4310784613814917,0.5739210284664833,0.7371696765636152,0.92082440567289,1.1248852157943066,1.349352106927865,1.5942250790735626,1.859504132231404,2.1451892664013874,2.4512804815835123,2.7777777777777786,3.124681154984184,3.491990613202734,3.879706152433425,4.287827772676258,4.7163554739312294,5.165289256198346,5.634629119477604,6.124375063769004,6.634527089072541,7.165085195388224,7.716049382716049,8.287419651056016,8.879196000408118,9.491378430772373,10.12396694214876,10.776961534537287,11.450362207937967,12.144168962350777,12.858381797775742,13.593000714212835,14.34802571166207,15.12345679012346,15.919293949596977,16.73553719008264,17.57218651158045,18.429241914090394,19.306703397612495,20.204570962146718,21.122844607693086,22.061524334251608,23.02061014182226,24.000102030405067,25.0],\"z\":[-43.30127018922194,-42.708375122107526,-42.09646686932831,-41.466149778757924,-40.81800946210581,-40.15261396783838,-39.47051486461593,-38.77224824382736,-38.05833564884669,-37.329284937802186,-36.585591085918274,-35.827736932851536,-35.056193879879366,-34.271422541305355,-33.47387335400854,-32.66398714867727,-31.84219568592629,-31.00892216019178,-30.164581674028813,-29.309581685194797,-28.444322428687745,-27.569197315716178,-26.68459331140522,-25.79089129288965,-24.88846638930605,-23.97768830507196,-23.058921627727855,-22.1325261215171,-21.198857007787993,-20.258265233220044,-19.311097726802398,-18.35769764642553,-17.39840461588663,-16.43355495305449,-15.463481889890094,-14.48851578497449,-13.50898432915498,-12.525212744884188,-11.537523979793749,-10.546238895014566,-9.5516764487291,-8.554153875417297,-7.55398686123641,-6.551489715956374,-5.546975541855377,-4.540756399966102,-3.533143474050305,-2.5244472326689387,-1.5149775897058222,-0.5050440636959747,0.5050440636959747,1.5149775897058222,2.5244472326689387,3.533143474050305,4.540756399966093,5.546975541855377,6.551489715956374,7.55398686123641,8.554153875417288,9.5516764487291,10.546238895014566,11.537523979793749,12.525212744884183,13.508984329154977,14.48851578497449,15.463481889890094,16.433554953054493,17.398404615886626,18.357697646425528,19.311097726802398,20.258265233220044,21.198857007787986,22.132526121517095,23.058921627727855,23.97768830507196,24.88846638930605,25.790891292889647,26.68459331140522,27.569197315716178,28.444322428687737,29.3095816851948,30.164581674028813,31.00892216019177,31.84219568592629,32.66398714867727,33.47387335400855,34.271422541305355,35.05619387987936,35.82773693285154,36.585591085918274,37.32928493780218,38.05833564884669,38.772248243827356,39.470514864615936,40.15261396783838,40.81800946210581,41.466149778757924,42.09646686932831,42.70837512210753,43.30127018922194,-43.30127018922194,-42.708375122107526,-42.09646686932831,-41.466149778757924,-40.81800946210581,-40.15261396783838,-39.47051486461593,-38.77224824382736,-38.05833564884669,-37.329284937802186,-36.585591085918274,-35.827736932851536,-35.056193879879366,-34.271422541305355,-33.47387335400854,-32.66398714867727,-31.84219568592629,-31.00892216019178,-30.164581674028813,-29.309581685194797,-28.444322428687745,-27.569197315716178,-26.68459331140522,-25.79089129288965,-24.88846638930605,-23.97768830507196,-23.058921627727855,-22.1325261215171,-21.198857007787993,-20.258265233220044,-19.311097726802398,-18.35769764642553,-17.39840461588663,-16.43355495305449,-15.463481889890094,-14.48851578497449,-13.50898432915498,-12.525212744884188,-11.537523979793749,-10.546238895014566,-9.5516764487291,-8.554153875417297,-7.55398686123641,-6.551489715956374,-5.546975541855377,-4.540756399966102,-3.533143474050305,-2.5244472326689387,-1.5149775897058222,-0.5050440636959747,0.5050440636959747,1.5149775897058222,2.5244472326689387,3.533143474050305,4.540756399966093,5.546975541855377,6.551489715956374,7.55398686123641,8.554153875417288,9.5516764487291,10.546238895014566,11.537523979793749,12.525212744884183,13.508984329154977,14.48851578497449,15.463481889890094,16.433554953054493,17.398404615886626,18.357697646425528,19.311097726802398,20.258265233220044,21.198857007787986,22.132526121517095,23.058921627727855,23.97768830507196,24.88846638930605,25.790891292889647,26.68459331140522,27.569197315716178,28.444322428687737,29.3095816851948,30.164581674028813,31.00892216019177,31.84219568592629,32.66398714867727,33.47387335400855,34.271422541305355,35.05619387987936,35.82773693285154,36.585591085918274,37.32928493780218,38.05833564884669,38.772248243827356,39.470514864615936,40.15261396783838,40.81800946210581,41.466149778757924,42.09646686932831,42.70837512210753,43.30127018922194,-0.0,-4.898739969652749,-6.750315714378595,-8.05153726970908,-9.049671312902925,-9.843250798859367,-10.484216177518025,-11.004276001818274,-11.424662970597483,-11.760536752692317,-12.023245355820096,-12.221598687174895,-12.362637298288575,-12.45212228653133,-12.494861443290318,-12.494934344471183,-12.45585246000751,-12.380676009270896,-12.27210116108884,-12.132526375540186,-11.964103743972611,-11.768779325133554,-11.548325267820806,-11.304365706554885,-11.03839786976245,-10.751809460388959,-10.445893100777699,-10.121858441252803,-9.780842391726784,-9.42391783223796,-9.052101081053275,-8.666358340581837,-8.267611296758655,-7.856742013183861,-7.434597234564594,-7.00199219303699,-6.559713994375019,-6.10852464790738,-5.649163793405706,-5.18235116970522,-4.708788862939112,-4.229163366677327,-3.7441474817034197,-3.2544020794410544,-2.7605777499997393,-2.263316353327135,-1.763252489937754,-1.2610149060614508,-0.7572278467617368,-0.2525123695697275,0.2525123695697275,0.7572278467617368,1.2610149060614508,1.763252489937754,2.2633163533271308,2.7605777499997393,3.2544020794410544,3.7441474817034197,4.229163366677324,4.708788862939112,5.18235116970522,5.649163793405706,6.1085246479073785,6.559713994375017,7.00199219303699,7.434597234564594,7.8567420131838634,8.267611296758654,8.666358340581834,9.052101081053275,9.42391783223796,9.780842391726782,10.121858441252801,10.445893100777699,10.751809460388959,11.038397869762449,11.304365706554885,11.548325267820806,11.768779325133554,11.964103743972611,12.132526375540186,12.27210116108884,12.380676009270895,12.45585246000751,12.494934344471183,12.494861443290318,12.45212228653133,12.362637298288577,12.221598687174895,12.023245355820096,11.760536752692321,11.424662970597483,11.004276001818278,10.484216177518016,9.843250798859367,9.049671312902932,8.05153726970908,6.750315714378595,4.898739969652733,0.0,-0.0,-4.898739969652749,-6.750315714378595,-8.05153726970908,-9.049671312902925,-9.843250798859367,-10.484216177518025,-11.004276001818274,-11.424662970597483,-11.760536752692317,-12.023245355820096,-12.221598687174895,-12.362637298288575,-12.45212228653133,-12.494861443290318,-12.494934344471183,-12.45585246000751,-12.380676009270896,-12.27210116108884,-12.132526375540186,-11.964103743972611,-11.768779325133554,-11.548325267820806,-11.304365706554885,-11.03839786976245,-10.751809460388959,-10.445893100777699,-10.121858441252803,-9.780842391726784,-9.42391783223796,-9.052101081053275,-8.666358340581837,-8.267611296758655,-7.856742013183861,-7.434597234564594,-7.00199219303699,-6.559713994375019,-6.10852464790738,-5.649163793405706,-5.18235116970522,-4.708788862939112,-4.229163366677327,-3.7441474817034197,-3.2544020794410544,-2.7605777499997393,-2.263316353327135,-1.763252489937754,-1.2610149060614508,-0.7572278467617368,-0.2525123695697275,0.2525123695697275,0.7572278467617368,1.2610149060614508,1.763252489937754,2.2633163533271308,2.7605777499997393,3.2544020794410544,3.7441474817034197,4.229163366677324,4.708788862939112,5.18235116970522,5.649163793405706,6.1085246479073785,6.559713994375017,7.00199219303699,7.434597234564594,7.8567420131838634,8.267611296758654,8.666358340581834,9.052101081053275,9.42391783223796,9.780842391726782,10.121858441252801,10.445893100777699,10.751809460388959,11.038397869762449,11.304365706554885,11.548325267820806,11.768779325133554,11.964103743972611,12.132526375540186,12.27210116108884,12.380676009270895,12.45585246000751,12.494934344471183,12.494861443290318,12.45212228653133,12.362637298288577,12.221598687174895,12.023245355820096,11.760536752692321,11.424662970597483,11.004276001818278,10.484216177518016,9.843250798859367,9.049671312902932,8.05153726970908,6.750315714378595,4.898739969652733,0.0],\"type\":\"scatter3d\"}],                        {\"template\":{\"data\":{\"histogram2dcontour\":[{\"type\":\"histogram2dcontour\",\"colorbar\":{\"outlinewidth\":0,\"ticks\":\"\"},\"colorscale\":[[0.0,\"#0d0887\"],[0.1111111111111111,\"#46039f\"],[0.2222222222222222,\"#7201a8\"],[0.3333333333333333,\"#9c179e\"],[0.4444444444444444,\"#bd3786\"],[0.5555555555555556,\"#d8576b\"],[0.6666666666666666,\"#ed7953\"],[0.7777777777777778,\"#fb9f3a\"],[0.8888888888888888,\"#fdca26\"],[1.0,\"#f0f921\"]]}],\"choropleth\":[{\"type\":\"choropleth\",\"colorbar\":{\"outlinewidth\":0,\"ticks\":\"\"}}],\"histogram2d\":[{\"type\":\"histogram2d\",\"colorbar\":{\"outlinewidth\":0,\"ticks\":\"\"},\"colorscale\":[[0.0,\"#0d0887\"],[0.1111111111111111,\"#46039f\"],[0.2222222222222222,\"#7201a8\"],[0.3333333333333333,\"#9c179e\"],[0.4444444444444444,\"#bd3786\"],[0.5555555555555556,\"#d8576b\"],[0.6666666666666666,\"#ed7953\"],[0.7777777777777778,\"#fb9f3a\"],[0.8888888888888888,\"#fdca26\"],[1.0,\"#f0f921\"]]}],\"heatmap\":[{\"type\":\"heatmap\",\"colorbar\":{\"outlinewidth\":0,\"ticks\":\"\"},\"colorscale\":[[0.0,\"#0d0887\"],[0.1111111111111111,\"#46039f\"],[0.2222222222222222,\"#7201a8\"],[0.3333333333333333,\"#9c179e\"],[0.4444444444444444,\"#bd3786\"],[0.5555555555555556,\"#d8576b\"],[0.6666666666666666,\"#ed7953\"],[0.7777777777777778,\"#fb9f3a\"],[0.8888888888888888,\"#fdca26\"],[1.0,\"#f0f921\"]]}],\"heatmapgl\":[{\"type\":\"heatmapgl\",\"colorbar\":{\"outlinewidth\":0,\"ticks\":\"\"},\"colorscale\":[[0.0,\"#0d0887\"],[0.1111111111111111,\"#46039f\"],[0.2222222222222222,\"#7201a8\"],[0.3333333333333333,\"#9c179e\"],[0.4444444444444444,\"#bd3786\"],[0.5555555555555556,\"#d8576b\"],[0.6666666666666666,\"#ed7953\"],[0.7777777777777778,\"#fb9f3a\"],[0.8888888888888888,\"#fdca26\"],[1.0,\"#f0f921\"]]}],\"contourcarpet\":[{\"type\":\"contourcarpet\",\"colorbar\":{\"outlinewidth\":0,\"ticks\":\"\"}}],\"contour\":[{\"type\":\"contour\",\"colorbar\":{\"outlinewidth\":0,\"ticks\":\"\"},\"colorscale\":[[0.0,\"#0d0887\"],[0.1111111111111111,\"#46039f\"],[0.2222222222222222,\"#7201a8\"],[0.3333333333333333,\"#9c179e\"],[0.4444444444444444,\"#bd3786\"],[0.5555555555555556,\"#d8576b\"],[0.6666666666666666,\"#ed7953\"],[0.7777777777777778,\"#fb9f3a\"],[0.8888888888888888,\"#fdca26\"],[1.0,\"#f0f921\"]]}],\"surface\":[{\"type\":\"surface\",\"colorbar\":{\"outlinewidth\":0,\"ticks\":\"\"},\"colorscale\":[[0.0,\"#0d0887\"],[0.1111111111111111,\"#46039f\"],[0.2222222222222222,\"#7201a8\"],[0.3333333333333333,\"#9c179e\"],[0.4444444444444444,\"#bd3786\"],[0.5555555555555556,\"#d8576b\"],[0.6666666666666666,\"#ed7953\"],[0.7777777777777778,\"#fb9f3a\"],[0.8888888888888888,\"#fdca26\"],[1.0,\"#f0f921\"]]}],\"mesh3d\":[{\"type\":\"mesh3d\",\"colorbar\":{\"outlinewidth\":0,\"ticks\":\"\"}}],\"scatter\":[{\"fillpattern\":{\"fillmode\":\"overlay\",\"size\":10,\"solidity\":0.2},\"type\":\"scatter\"}],\"parcoords\":[{\"type\":\"parcoords\",\"line\":{\"colorbar\":{\"outlinewidth\":0,\"ticks\":\"\"}}}],\"scatterpolargl\":[{\"type\":\"scatterpolargl\",\"marker\":{\"colorbar\":{\"outlinewidth\":0,\"ticks\":\"\"}}}],\"bar\":[{\"error_x\":{\"color\":\"#2a3f5f\"},\"error_y\":{\"color\":\"#2a3f5f\"},\"marker\":{\"line\":{\"color\":\"#E5ECF6\",\"width\":0.5},\"pattern\":{\"fillmode\":\"overlay\",\"size\":10,\"solidity\":0.2}},\"type\":\"bar\"}],\"scattergeo\":[{\"type\":\"scattergeo\",\"marker\":{\"colorbar\":{\"outlinewidth\":0,\"ticks\":\"\"}}}],\"scatterpolar\":[{\"type\":\"scatterpolar\",\"marker\":{\"colorbar\":{\"outlinewidth\":0,\"ticks\":\"\"}}}],\"histogram\":[{\"marker\":{\"pattern\":{\"fillmode\":\"overlay\",\"size\":10,\"solidity\":0.2}},\"type\":\"histogram\"}],\"scattergl\":[{\"type\":\"scattergl\",\"marker\":{\"colorbar\":{\"outlinewidth\":0,\"ticks\":\"\"}}}],\"scatter3d\":[{\"type\":\"scatter3d\",\"line\":{\"colorbar\":{\"outlinewidth\":0,\"ticks\":\"\"}},\"marker\":{\"colorbar\":{\"outlinewidth\":0,\"ticks\":\"\"}}}],\"scattermapbox\":[{\"type\":\"scattermapbox\",\"marker\":{\"colorbar\":{\"outlinewidth\":0,\"ticks\":\"\"}}}],\"scatterternary\":[{\"type\":\"scatterternary\",\"marker\":{\"colorbar\":{\"outlinewidth\":0,\"ticks\":\"\"}}}],\"scattercarpet\":[{\"type\":\"scattercarpet\",\"marker\":{\"colorbar\":{\"outlinewidth\":0,\"ticks\":\"\"}}}],\"carpet\":[{\"aaxis\":{\"endlinecolor\":\"#2a3f5f\",\"gridcolor\":\"white\",\"linecolor\":\"white\",\"minorgridcolor\":\"white\",\"startlinecolor\":\"#2a3f5f\"},\"baxis\":{\"endlinecolor\":\"#2a3f5f\",\"gridcolor\":\"white\",\"linecolor\":\"white\",\"minorgridcolor\":\"white\",\"startlinecolor\":\"#2a3f5f\"},\"type\":\"carpet\"}],\"table\":[{\"cells\":{\"fill\":{\"color\":\"#EBF0F8\"},\"line\":{\"color\":\"white\"}},\"header\":{\"fill\":{\"color\":\"#C8D4E3\"},\"line\":{\"color\":\"white\"}},\"type\":\"table\"}],\"barpolar\":[{\"marker\":{\"line\":{\"color\":\"#E5ECF6\",\"width\":0.5},\"pattern\":{\"fillmode\":\"overlay\",\"size\":10,\"solidity\":0.2}},\"type\":\"barpolar\"}],\"pie\":[{\"automargin\":true,\"type\":\"pie\"}]},\"layout\":{\"autotypenumbers\":\"strict\",\"colorway\":[\"#636efa\",\"#EF553B\",\"#00cc96\",\"#ab63fa\",\"#FFA15A\",\"#19d3f3\",\"#FF6692\",\"#B6E880\",\"#FF97FF\",\"#FECB52\"],\"font\":{\"color\":\"#2a3f5f\"},\"hovermode\":\"closest\",\"hoverlabel\":{\"align\":\"left\"},\"paper_bgcolor\":\"white\",\"plot_bgcolor\":\"#E5ECF6\",\"polar\":{\"bgcolor\":\"#E5ECF6\",\"angularaxis\":{\"gridcolor\":\"white\",\"linecolor\":\"white\",\"ticks\":\"\"},\"radialaxis\":{\"gridcolor\":\"white\",\"linecolor\":\"white\",\"ticks\":\"\"}},\"ternary\":{\"bgcolor\":\"#E5ECF6\",\"aaxis\":{\"gridcolor\":\"white\",\"linecolor\":\"white\",\"ticks\":\"\"},\"baxis\":{\"gridcolor\":\"white\",\"linecolor\":\"white\",\"ticks\":\"\"},\"caxis\":{\"gridcolor\":\"white\",\"linecolor\":\"white\",\"ticks\":\"\"}},\"coloraxis\":{\"colorbar\":{\"outlinewidth\":0,\"ticks\":\"\"}},\"colorscale\":{\"sequential\":[[0.0,\"#0d0887\"],[0.1111111111111111,\"#46039f\"],[0.2222222222222222,\"#7201a8\"],[0.3333333333333333,\"#9c179e\"],[0.4444444444444444,\"#bd3786\"],[0.5555555555555556,\"#d8576b\"],[0.6666666666666666,\"#ed7953\"],[0.7777777777777778,\"#fb9f3a\"],[0.8888888888888888,\"#fdca26\"],[1.0,\"#f0f921\"]],\"sequentialminus\":[[0.0,\"#0d0887\"],[0.1111111111111111,\"#46039f\"],[0.2222222222222222,\"#7201a8\"],[0.3333333333333333,\"#9c179e\"],[0.4444444444444444,\"#bd3786\"],[0.5555555555555556,\"#d8576b\"],[0.6666666666666666,\"#ed7953\"],[0.7777777777777778,\"#fb9f3a\"],[0.8888888888888888,\"#fdca26\"],[1.0,\"#f0f921\"]],\"diverging\":[[0,\"#8e0152\"],[0.1,\"#c51b7d\"],[0.2,\"#de77ae\"],[0.3,\"#f1b6da\"],[0.4,\"#fde0ef\"],[0.5,\"#f7f7f7\"],[0.6,\"#e6f5d0\"],[0.7,\"#b8e186\"],[0.8,\"#7fbc41\"],[0.9,\"#4d9221\"],[1,\"#276419\"]]},\"xaxis\":{\"gridcolor\":\"white\",\"linecolor\":\"white\",\"ticks\":\"\",\"title\":{\"standoff\":15},\"zerolinecolor\":\"white\",\"automargin\":true,\"zerolinewidth\":2},\"yaxis\":{\"gridcolor\":\"white\",\"linecolor\":\"white\",\"ticks\":\"\",\"title\":{\"standoff\":15},\"zerolinecolor\":\"white\",\"automargin\":true,\"zerolinewidth\":2},\"scene\":{\"xaxis\":{\"backgroundcolor\":\"#E5ECF6\",\"gridcolor\":\"white\",\"linecolor\":\"white\",\"showbackground\":true,\"ticks\":\"\",\"zerolinecolor\":\"white\",\"gridwidth\":2},\"yaxis\":{\"backgroundcolor\":\"#E5ECF6\",\"gridcolor\":\"white\",\"linecolor\":\"white\",\"showbackground\":true,\"ticks\":\"\",\"zerolinecolor\":\"white\",\"gridwidth\":2},\"zaxis\":{\"backgroundcolor\":\"#E5ECF6\",\"gridcolor\":\"white\",\"linecolor\":\"white\",\"showbackground\":true,\"ticks\":\"\",\"zerolinecolor\":\"white\",\"gridwidth\":2}},\"shapedefaults\":{\"line\":{\"color\":\"#2a3f5f\"}},\"annotationdefaults\":{\"arrowcolor\":\"#2a3f5f\",\"arrowhead\":0,\"arrowwidth\":1},\"geo\":{\"bgcolor\":\"white\",\"landcolor\":\"#E5ECF6\",\"subunitcolor\":\"white\",\"showland\":true,\"showlakes\":true,\"lakecolor\":\"white\"},\"title\":{\"x\":0.05},\"mapbox\":{\"style\":\"light\"}}},\"scene\":{\"domain\":{\"x\":[0.0,1.0],\"y\":[0.0,1.0]},\"xaxis\":{\"title\":{\"text\":\"X1^2\"}},\"yaxis\":{\"title\":{\"text\":\"X2^2\"}},\"zaxis\":{\"title\":{\"text\":\"X1*X2\"}}},\"coloraxis\":{\"colorbar\":{\"title\":{\"text\":\"Y\"}},\"colorscale\":[[0.0,\"#0d0887\"],[0.1111111111111111,\"#46039f\"],[0.2222222222222222,\"#7201a8\"],[0.3333333333333333,\"#9c179e\"],[0.4444444444444444,\"#bd3786\"],[0.5555555555555556,\"#d8576b\"],[0.6666666666666666,\"#ed7953\"],[0.7777777777777778,\"#fb9f3a\"],[0.8888888888888888,\"#fdca26\"],[1.0,\"#f0f921\"]]},\"legend\":{\"tracegroupgap\":0},\"margin\":{\"t\":60}},                        {\"responsive\": true}                    ).then(function(){\n",
       "                            \n",
       "var gd = document.getElementById('611bbec8-bad3-411f-9322-7c294bd54fa8');\n",
       "var x = new MutationObserver(function (mutations, observer) {{\n",
       "        var display = window.getComputedStyle(gd).display;\n",
       "        if (!display || display === 'none') {{\n",
       "            console.log([gd, 'removed!']);\n",
       "            Plotly.purge(gd);\n",
       "            observer.disconnect();\n",
       "        }}\n",
       "}});\n",
       "\n",
       "// Listen for the removal of the full notebook cells\n",
       "var notebookContainer = gd.closest('#notebook-container');\n",
       "if (notebookContainer) {{\n",
       "    x.observe(notebookContainer, {childList: true});\n",
       "}}\n",
       "\n",
       "// Listen for the clearing of the current output cell\n",
       "var outputEl = gd.closest('.output');\n",
       "if (outputEl) {{\n",
       "    x.observe(outputEl, {childList: true});\n",
       "}}\n",
       "\n",
       "                        })                };                });            </script>        </div>"
      ]
     },
     "metadata": {},
     "output_type": "display_data"
    }
   ],
   "execution_count": 20
  },
  {
   "metadata": {
    "ExecuteTime": {
     "end_time": "2024-11-21T11:02:33.430374Z",
     "start_time": "2024-11-21T11:02:33.325557Z"
    }
   },
   "cell_type": "code",
   "source": [
    "from sklearn.svm import SVC\n",
    "from sklearn.metrics import accuracy_score\n",
    "\n",
    "classifier = SVC(kernel='linear')\n",
    "classifier.fit(X_train, y_train)\n",
    "y_pred = classifier.predict(X_test)\n",
    "accuracy_score(y_test, y_pred)"
   ],
   "id": "feefca83f9ac8955",
   "outputs": [
    {
     "data": {
      "text/plain": [
       "1.0"
      ]
     },
     "execution_count": 21,
     "metadata": {},
     "output_type": "execute_result"
    }
   ],
   "execution_count": 21
  },
  {
   "metadata": {
    "ExecuteTime": {
     "end_time": "2024-11-21T11:02:52.353759Z",
     "start_time": "2024-11-21T11:02:52.334714Z"
    }
   },
   "cell_type": "code",
   "source": [
    "classifier = SVC(kernel='poly')\n",
    "classifier.fit(X_train, y_train)\n",
    "y_pred = classifier.predict(X_test)\n",
    "accuracy_score(y_test, y_pred)"
   ],
   "id": "f2bbde3089f347d7",
   "outputs": [
    {
     "data": {
      "text/plain": [
       "1.0"
      ]
     },
     "execution_count": 22,
     "metadata": {},
     "output_type": "execute_result"
    }
   ],
   "execution_count": 22
  },
  {
   "metadata": {
    "ExecuteTime": {
     "end_time": "2024-11-21T11:03:00.045939Z",
     "start_time": "2024-11-21T11:03:00.033566Z"
    }
   },
   "cell_type": "code",
   "source": [
    "classifier = SVC(kernel='rbf')\n",
    "classifier.fit(X_train, y_train)\n",
    "y_pred = classifier.predict(X_test)\n",
    "accuracy_score(y_test, y_pred)"
   ],
   "id": "83d4f54e8cd51641",
   "outputs": [
    {
     "data": {
      "text/plain": [
       "1.0"
      ]
     },
     "execution_count": 23,
     "metadata": {},
     "output_type": "execute_result"
    }
   ],
   "execution_count": 23
  },
  {
   "metadata": {
    "ExecuteTime": {
     "end_time": "2024-11-21T11:03:09.933491Z",
     "start_time": "2024-11-21T11:03:09.917095Z"
    }
   },
   "cell_type": "code",
   "source": [
    "classifier = SVC(kernel='sigmoid')\n",
    "classifier.fit(X_train, y_train)\n",
    "y_pred = classifier.predict(X_test)\n",
    "accuracy_score(y_test, y_pred)"
   ],
   "id": "5af776be208317a9",
   "outputs": [
    {
     "data": {
      "text/plain": [
       "1.0"
      ]
     },
     "execution_count": 24,
     "metadata": {},
     "output_type": "execute_result"
    }
   ],
   "execution_count": 24
  },
  {
   "metadata": {},
   "cell_type": "code",
   "outputs": [],
   "execution_count": null,
   "source": "",
   "id": "8b0c3b67fa157a37"
  }
 ],
 "metadata": {
  "kernelspec": {
   "display_name": "Python 3",
   "language": "python",
   "name": "python3"
  },
  "language_info": {
   "codemirror_mode": {
    "name": "ipython",
    "version": 2
   },
   "file_extension": ".py",
   "mimetype": "text/x-python",
   "name": "python",
   "nbconvert_exporter": "python",
   "pygments_lexer": "ipython2",
   "version": "2.7.6"
  }
 },
 "nbformat": 4,
 "nbformat_minor": 5
}
