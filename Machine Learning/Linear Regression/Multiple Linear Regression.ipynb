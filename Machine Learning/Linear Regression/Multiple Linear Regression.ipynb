{
 "cells": [
  {
   "cell_type": "code",
   "id": "initial_id",
   "metadata": {
    "collapsed": true,
    "ExecuteTime": {
     "end_time": "2024-11-15T09:20:21.862033Z",
     "start_time": "2024-11-15T09:20:21.848381Z"
    }
   },
   "source": [
    "import warnings\n",
    "import numpy as np\n",
    "import pandas as pd\n",
    "import seaborn as sns\n",
    "import statsmodels.api as sm\n",
    "import matplotlib.pyplot as plt\n",
    "\n",
    "from sklearn.preprocessing import StandardScaler\n",
    "from sklearn.linear_model import LinearRegression\n",
    "from sklearn.model_selection import train_test_split, cross_val_score\n",
    "from sklearn.metrics import mean_squared_error, r2_score, mean_absolute_error\n",
    "warnings.filterwarnings(\"ignore\")"
   ],
   "outputs": [],
   "execution_count": 107
  },
  {
   "metadata": {
    "ExecuteTime": {
     "end_time": "2024-11-15T09:16:06.794413Z",
     "start_time": "2024-11-15T09:16:06.734149Z"
    }
   },
   "cell_type": "code",
   "source": [
    "df = pd.read_csv(\"NY-House-Dataset.csv\")\n",
    "df.head()"
   ],
   "id": "902051763005d74",
   "outputs": [
    {
     "data": {
      "text/plain": [
       "                                         BROKERTITLE                TYPE  \\\n",
       "0        Brokered by Douglas Elliman  -111 Fifth Ave      Condo for sale   \n",
       "1                                Brokered by Serhant      Condo for sale   \n",
       "2                             Brokered by Sowae Corp      House for sale   \n",
       "3                                Brokered by COMPASS      Condo for sale   \n",
       "4  Brokered by Sotheby's International Realty - E...  Townhouse for sale   \n",
       "\n",
       "       PRICE  BEDS       BATH  PROPERTYSQFT  \\\n",
       "0     315000     2   2.000000        1400.0   \n",
       "1  195000000     7  10.000000       17545.0   \n",
       "2     260000     4   2.000000        2015.0   \n",
       "3      69000     3   1.000000         445.0   \n",
       "4   55000000     7   2.373861       14175.0   \n",
       "\n",
       "                                             ADDRESS                    STATE  \\\n",
       "0                               2 E 55th St Unit 803       New York, NY 10022   \n",
       "1  Central Park Tower Penthouse-217 W 57th New Yo...       New York, NY 10019   \n",
       "2                                   620 Sinclair Ave  Staten Island, NY 10312   \n",
       "3                            2 E 55th St Unit 908W33      Manhattan, NY 10022   \n",
       "4                                        5 E 64th St       New York, NY 10065   \n",
       "\n",
       "                                        MAIN_ADDRESS  \\\n",
       "0             2 E 55th St Unit 803New York, NY 10022   \n",
       "1  Central Park Tower Penthouse-217 W 57th New Yo...   \n",
       "2            620 Sinclair AveStaten Island, NY 10312   \n",
       "3         2 E 55th St Unit 908W33Manhattan, NY 10022   \n",
       "4                      5 E 64th StNew York, NY 10065   \n",
       "\n",
       "  ADMINISTRATIVE_AREA_LEVEL_2  LOCALITY      SUBLOCALITY       STREET_NAME  \\\n",
       "0             New York County  New York        Manhattan  East 55th Street   \n",
       "1               United States  New York  New York County          New York   \n",
       "2               United States  New York  Richmond County     Staten Island   \n",
       "3               United States  New York  New York County          New York   \n",
       "4               United States  New York  New York County          New York   \n",
       "\n",
       "          LONG_NAME                                  FORMATTED_ADDRESS  \\\n",
       "0   Regis Residence  Regis Residence, 2 E 55th St #803, New York, N...   \n",
       "1  West 57th Street             217 W 57th St, New York, NY 10019, USA   \n",
       "2   Sinclair Avenue     620 Sinclair Ave, Staten Island, NY 10312, USA   \n",
       "3  East 55th Street               2 E 55th St, New York, NY 10022, USA   \n",
       "4  East 64th Street               5 E 64th St, New York, NY 10065, USA   \n",
       "\n",
       "    LATITUDE  LONGITUDE  \n",
       "0  40.761255 -73.974483  \n",
       "1  40.766393 -73.980991  \n",
       "2  40.541805 -74.196109  \n",
       "3  40.761398 -73.974613  \n",
       "4  40.767224 -73.969856  "
      ],
      "text/html": [
       "<div>\n",
       "<style scoped>\n",
       "    .dataframe tbody tr th:only-of-type {\n",
       "        vertical-align: middle;\n",
       "    }\n",
       "\n",
       "    .dataframe tbody tr th {\n",
       "        vertical-align: top;\n",
       "    }\n",
       "\n",
       "    .dataframe thead th {\n",
       "        text-align: right;\n",
       "    }\n",
       "</style>\n",
       "<table border=\"1\" class=\"dataframe\">\n",
       "  <thead>\n",
       "    <tr style=\"text-align: right;\">\n",
       "      <th></th>\n",
       "      <th>BROKERTITLE</th>\n",
       "      <th>TYPE</th>\n",
       "      <th>PRICE</th>\n",
       "      <th>BEDS</th>\n",
       "      <th>BATH</th>\n",
       "      <th>PROPERTYSQFT</th>\n",
       "      <th>ADDRESS</th>\n",
       "      <th>STATE</th>\n",
       "      <th>MAIN_ADDRESS</th>\n",
       "      <th>ADMINISTRATIVE_AREA_LEVEL_2</th>\n",
       "      <th>LOCALITY</th>\n",
       "      <th>SUBLOCALITY</th>\n",
       "      <th>STREET_NAME</th>\n",
       "      <th>LONG_NAME</th>\n",
       "      <th>FORMATTED_ADDRESS</th>\n",
       "      <th>LATITUDE</th>\n",
       "      <th>LONGITUDE</th>\n",
       "    </tr>\n",
       "  </thead>\n",
       "  <tbody>\n",
       "    <tr>\n",
       "      <th>0</th>\n",
       "      <td>Brokered by Douglas Elliman  -111 Fifth Ave</td>\n",
       "      <td>Condo for sale</td>\n",
       "      <td>315000</td>\n",
       "      <td>2</td>\n",
       "      <td>2.000000</td>\n",
       "      <td>1400.0</td>\n",
       "      <td>2 E 55th St Unit 803</td>\n",
       "      <td>New York, NY 10022</td>\n",
       "      <td>2 E 55th St Unit 803New York, NY 10022</td>\n",
       "      <td>New York County</td>\n",
       "      <td>New York</td>\n",
       "      <td>Manhattan</td>\n",
       "      <td>East 55th Street</td>\n",
       "      <td>Regis Residence</td>\n",
       "      <td>Regis Residence, 2 E 55th St #803, New York, N...</td>\n",
       "      <td>40.761255</td>\n",
       "      <td>-73.974483</td>\n",
       "    </tr>\n",
       "    <tr>\n",
       "      <th>1</th>\n",
       "      <td>Brokered by Serhant</td>\n",
       "      <td>Condo for sale</td>\n",
       "      <td>195000000</td>\n",
       "      <td>7</td>\n",
       "      <td>10.000000</td>\n",
       "      <td>17545.0</td>\n",
       "      <td>Central Park Tower Penthouse-217 W 57th New Yo...</td>\n",
       "      <td>New York, NY 10019</td>\n",
       "      <td>Central Park Tower Penthouse-217 W 57th New Yo...</td>\n",
       "      <td>United States</td>\n",
       "      <td>New York</td>\n",
       "      <td>New York County</td>\n",
       "      <td>New York</td>\n",
       "      <td>West 57th Street</td>\n",
       "      <td>217 W 57th St, New York, NY 10019, USA</td>\n",
       "      <td>40.766393</td>\n",
       "      <td>-73.980991</td>\n",
       "    </tr>\n",
       "    <tr>\n",
       "      <th>2</th>\n",
       "      <td>Brokered by Sowae Corp</td>\n",
       "      <td>House for sale</td>\n",
       "      <td>260000</td>\n",
       "      <td>4</td>\n",
       "      <td>2.000000</td>\n",
       "      <td>2015.0</td>\n",
       "      <td>620 Sinclair Ave</td>\n",
       "      <td>Staten Island, NY 10312</td>\n",
       "      <td>620 Sinclair AveStaten Island, NY 10312</td>\n",
       "      <td>United States</td>\n",
       "      <td>New York</td>\n",
       "      <td>Richmond County</td>\n",
       "      <td>Staten Island</td>\n",
       "      <td>Sinclair Avenue</td>\n",
       "      <td>620 Sinclair Ave, Staten Island, NY 10312, USA</td>\n",
       "      <td>40.541805</td>\n",
       "      <td>-74.196109</td>\n",
       "    </tr>\n",
       "    <tr>\n",
       "      <th>3</th>\n",
       "      <td>Brokered by COMPASS</td>\n",
       "      <td>Condo for sale</td>\n",
       "      <td>69000</td>\n",
       "      <td>3</td>\n",
       "      <td>1.000000</td>\n",
       "      <td>445.0</td>\n",
       "      <td>2 E 55th St Unit 908W33</td>\n",
       "      <td>Manhattan, NY 10022</td>\n",
       "      <td>2 E 55th St Unit 908W33Manhattan, NY 10022</td>\n",
       "      <td>United States</td>\n",
       "      <td>New York</td>\n",
       "      <td>New York County</td>\n",
       "      <td>New York</td>\n",
       "      <td>East 55th Street</td>\n",
       "      <td>2 E 55th St, New York, NY 10022, USA</td>\n",
       "      <td>40.761398</td>\n",
       "      <td>-73.974613</td>\n",
       "    </tr>\n",
       "    <tr>\n",
       "      <th>4</th>\n",
       "      <td>Brokered by Sotheby's International Realty - E...</td>\n",
       "      <td>Townhouse for sale</td>\n",
       "      <td>55000000</td>\n",
       "      <td>7</td>\n",
       "      <td>2.373861</td>\n",
       "      <td>14175.0</td>\n",
       "      <td>5 E 64th St</td>\n",
       "      <td>New York, NY 10065</td>\n",
       "      <td>5 E 64th StNew York, NY 10065</td>\n",
       "      <td>United States</td>\n",
       "      <td>New York</td>\n",
       "      <td>New York County</td>\n",
       "      <td>New York</td>\n",
       "      <td>East 64th Street</td>\n",
       "      <td>5 E 64th St, New York, NY 10065, USA</td>\n",
       "      <td>40.767224</td>\n",
       "      <td>-73.969856</td>\n",
       "    </tr>\n",
       "  </tbody>\n",
       "</table>\n",
       "</div>"
      ]
     },
     "execution_count": 90,
     "metadata": {},
     "output_type": "execute_result"
    }
   ],
   "execution_count": 90
  },
  {
   "metadata": {
    "ExecuteTime": {
     "end_time": "2024-11-15T09:16:07.352589Z",
     "start_time": "2024-11-15T09:16:07.338734Z"
    }
   },
   "cell_type": "code",
   "source": [
    "df = df.iloc[:, 2:6]\n",
    "df.head()"
   ],
   "id": "289f9e06a17d73d0",
   "outputs": [
    {
     "data": {
      "text/plain": [
       "       PRICE  BEDS       BATH  PROPERTYSQFT\n",
       "0     315000     2   2.000000        1400.0\n",
       "1  195000000     7  10.000000       17545.0\n",
       "2     260000     4   2.000000        2015.0\n",
       "3      69000     3   1.000000         445.0\n",
       "4   55000000     7   2.373861       14175.0"
      ],
      "text/html": [
       "<div>\n",
       "<style scoped>\n",
       "    .dataframe tbody tr th:only-of-type {\n",
       "        vertical-align: middle;\n",
       "    }\n",
       "\n",
       "    .dataframe tbody tr th {\n",
       "        vertical-align: top;\n",
       "    }\n",
       "\n",
       "    .dataframe thead th {\n",
       "        text-align: right;\n",
       "    }\n",
       "</style>\n",
       "<table border=\"1\" class=\"dataframe\">\n",
       "  <thead>\n",
       "    <tr style=\"text-align: right;\">\n",
       "      <th></th>\n",
       "      <th>PRICE</th>\n",
       "      <th>BEDS</th>\n",
       "      <th>BATH</th>\n",
       "      <th>PROPERTYSQFT</th>\n",
       "    </tr>\n",
       "  </thead>\n",
       "  <tbody>\n",
       "    <tr>\n",
       "      <th>0</th>\n",
       "      <td>315000</td>\n",
       "      <td>2</td>\n",
       "      <td>2.000000</td>\n",
       "      <td>1400.0</td>\n",
       "    </tr>\n",
       "    <tr>\n",
       "      <th>1</th>\n",
       "      <td>195000000</td>\n",
       "      <td>7</td>\n",
       "      <td>10.000000</td>\n",
       "      <td>17545.0</td>\n",
       "    </tr>\n",
       "    <tr>\n",
       "      <th>2</th>\n",
       "      <td>260000</td>\n",
       "      <td>4</td>\n",
       "      <td>2.000000</td>\n",
       "      <td>2015.0</td>\n",
       "    </tr>\n",
       "    <tr>\n",
       "      <th>3</th>\n",
       "      <td>69000</td>\n",
       "      <td>3</td>\n",
       "      <td>1.000000</td>\n",
       "      <td>445.0</td>\n",
       "    </tr>\n",
       "    <tr>\n",
       "      <th>4</th>\n",
       "      <td>55000000</td>\n",
       "      <td>7</td>\n",
       "      <td>2.373861</td>\n",
       "      <td>14175.0</td>\n",
       "    </tr>\n",
       "  </tbody>\n",
       "</table>\n",
       "</div>"
      ]
     },
     "execution_count": 91,
     "metadata": {},
     "output_type": "execute_result"
    }
   ],
   "execution_count": 91
  },
  {
   "metadata": {
    "ExecuteTime": {
     "end_time": "2024-11-15T09:16:07.668879Z",
     "start_time": "2024-11-15T09:16:07.658553Z"
    }
   },
   "cell_type": "code",
   "source": "df.isna().sum()",
   "id": "f3ff22b59959c7f1",
   "outputs": [
    {
     "data": {
      "text/plain": [
       "PRICE           0\n",
       "BEDS            0\n",
       "BATH            0\n",
       "PROPERTYSQFT    0\n",
       "dtype: int64"
      ]
     },
     "execution_count": 92,
     "metadata": {},
     "output_type": "execute_result"
    }
   ],
   "execution_count": 92
  },
  {
   "metadata": {
    "ExecuteTime": {
     "end_time": "2024-11-15T09:16:09.505960Z",
     "start_time": "2024-11-15T09:16:09.270748Z"
    }
   },
   "cell_type": "code",
   "source": [
    "plt.scatter(df['PROPERTYSQFT'],df['PRICE'])\n",
    "plt.xlabel(\"Area(sqft)\")\n",
    "plt.ylabel(\"Price\")"
   ],
   "id": "c7f94667da89e41c",
   "outputs": [
    {
     "data": {
      "text/plain": [
       "Text(0, 0.5, 'Price')"
      ]
     },
     "execution_count": 93,
     "metadata": {},
     "output_type": "execute_result"
    },
    {
     "data": {
      "text/plain": [
       "<Figure size 640x480 with 1 Axes>"
      ],
      "image/png": "[encoded data removed]"
     },
     "metadata": {},
     "output_type": "display_data"
    }
   ],
   "execution_count": 93
  },
  {
   "metadata": {
    "ExecuteTime": {
     "end_time": "2024-11-15T09:16:12.082230Z",
     "start_time": "2024-11-15T09:16:12.074947Z"
    }
   },
   "cell_type": "code",
   "source": [
    "correlations = df.corr()\n",
    "print(correlations['PRICE'])"
   ],
   "id": "565895e1c54134b1",
   "outputs": [
    {
     "name": "stdout",
     "output_type": "stream",
     "text": [
      "PRICE           1.000000\n",
      "BEDS            0.052189\n",
      "BATH            0.079371\n",
      "PROPERTYSQFT    0.110889\n",
      "Name: PRICE, dtype: float64\n"
     ]
    }
   ],
   "execution_count": 94
  },
  {
   "metadata": {
    "ExecuteTime": {
     "end_time": "2024-11-15T09:16:13.699687Z",
     "start_time": "2024-11-15T09:16:13.690381Z"
    }
   },
   "cell_type": "code",
   "source": "df = df.drop(columns=['BEDS', 'BATH'])",
   "id": "3486ca93b18b0c1f",
   "outputs": [],
   "execution_count": 95
  },
  {
   "metadata": {
    "ExecuteTime": {
     "end_time": "2024-11-15T09:16:17.990867Z",
     "start_time": "2024-11-15T09:16:17.983441Z"
    }
   },
   "cell_type": "code",
   "source": [
    "X = df.iloc[:, 1:]\n",
    "y = df.iloc[:, 0]"
   ],
   "id": "c584022f80e5bfd7",
   "outputs": [],
   "execution_count": 96
  },
  {
   "metadata": {
    "ExecuteTime": {
     "end_time": "2024-11-15T09:16:27.044994Z",
     "start_time": "2024-11-15T09:16:27.034319Z"
    }
   },
   "cell_type": "code",
   "source": "X_train,X_test,y_train,y_test=train_test_split(X,y,test_size=0.25,random_state=42)",
   "id": "fe35a1252b71cbca",
   "outputs": [],
   "execution_count": 97
  },
  {
   "metadata": {
    "ExecuteTime": {
     "end_time": "2024-11-15T09:16:27.689731Z",
     "start_time": "2024-11-15T09:16:27.678490Z"
    }
   },
   "cell_type": "code",
   "source": [
    "scaler= StandardScaler()\n",
    "X_train = scaler.fit_transform(X_train)\n",
    "X_test = scaler.transform(X_test)"
   ],
   "id": "66822fe71c1a3cf4",
   "outputs": [],
   "execution_count": 98
  },
  {
   "metadata": {
    "ExecuteTime": {
     "end_time": "2024-11-15T09:16:28.253421Z",
     "start_time": "2024-11-15T09:16:28.247049Z"
    }
   },
   "cell_type": "code",
   "source": "X_train.shape",
   "id": "b68af8285d91acbb",
   "outputs": [
    {
     "data": {
      "text/plain": [
       "(3600, 1)"
      ]
     },
     "execution_count": 99,
     "metadata": {},
     "output_type": "execute_result"
    }
   ],
   "execution_count": 99
  },
  {
   "metadata": {
    "ExecuteTime": {
     "end_time": "2024-11-15T09:16:28.884252Z",
     "start_time": "2024-11-15T09:16:28.877089Z"
    }
   },
   "cell_type": "code",
   "source": "y_train.shape",
   "id": "f86ffceddcdbbd99",
   "outputs": [
    {
     "data": {
      "text/plain": [
       "(3600,)"
      ]
     },
     "execution_count": 100,
     "metadata": {},
     "output_type": "execute_result"
    }
   ],
   "execution_count": 100
  },
  {
   "metadata": {
    "ExecuteTime": {
     "end_time": "2024-11-15T09:16:29.784134Z",
     "start_time": "2024-11-15T09:16:29.775739Z"
    }
   },
   "cell_type": "code",
   "source": [
    "regression = LinearRegression(n_jobs=-1)\n",
    "regression.fit(X_train,y_train)"
   ],
   "id": "3f7f30061b20d5db",
   "outputs": [
    {
     "name": "stdout",
     "output_type": "stream",
     "text": [
      "Coefficient or slope: [3850108.06061976]\n",
      "Intercept: 2508038.3024999998\n"
     ]
    }
   ],
   "execution_count": 101
  },
  {
   "metadata": {
    "ExecuteTime": {
     "end_time": "2024-11-15T09:20:43.407801Z",
     "start_time": "2024-11-15T09:20:43.376864Z"
    }
   },
   "cell_type": "code",
   "source": [
    "validation_score = cross_val_score(regression,X_train,y_train,scoring='neg_mean_squared_error',\n",
    "                                cv=3)\n",
    "np.mean(validation_score)"
   ],
   "id": "e512d76ec8357404",
   "outputs": [
    {
     "data": {
      "text/plain": [
       "-1306603602712497.5"
      ]
     },
     "execution_count": 108,
     "metadata": {},
     "output_type": "execute_result"
    }
   ],
   "execution_count": 108
  },
  {
   "metadata": {},
   "cell_type": "code",
   "outputs": [],
   "execution_count": null,
   "source": [
    "print(\"Coefficient or slope:\",regression.coef_)\n",
    "print(\"Intercept:\",regression.intercept_)"
   ],
   "id": "8f943266e9ece6e3"
  },
  {
   "metadata": {
    "ExecuteTime": {
     "end_time": "2024-11-15T09:16:45.217101Z",
     "start_time": "2024-11-15T09:16:45.030882Z"
    }
   },
   "cell_type": "code",
   "source": [
    "plt.scatter(X_train, y_train, color='skyblue', label='Data Points')\n",
    "plt.plot(X_train, regression.predict(X_train), color='red', linewidth=2, label='Fit Line')\n",
    "\n",
    "plt.xlabel('SQFT')\n",
    "plt.ylabel('y_train')\n",
    "plt.legend()\n",
    "\n",
    "plt.show()"
   ],
   "id": "4bde21b9a27103f6",
   "outputs": [
    {
     "data": {
      "text/plain": [
       "<Figure size 640x480 with 1 Axes>"
      ],
      "image/png": "[encoded data removed]"
     },
     "metadata": {},
     "output_type": "display_data"
    }
   ],
   "execution_count": 103
  },
  {
   "metadata": {
    "ExecuteTime": {
     "end_time": "2024-11-15T09:16:48.600626Z",
     "start_time": "2024-11-15T09:16:48.595480Z"
    }
   },
   "cell_type": "code",
   "source": "y_pred = regression.predict(X_test)",
   "id": "1eb944005bdab21c",
   "outputs": [],
   "execution_count": 104
  },
  {
   "metadata": {
    "ExecuteTime": {
     "end_time": "2024-11-15T09:21:15.773591Z",
     "start_time": "2024-11-15T09:21:15.766662Z"
    }
   },
   "cell_type": "code",
   "source": [
    "residuals=y_test-y_pred\n",
    "print(residuals)"
   ],
   "id": "9f6ed52ac71f3346",
   "outputs": [
    {
     "name": "stdout",
     "output_type": "stream",
     "text": [
      "596    -3.167537e+06\n",
      "4507   -4.030771e+05\n",
      "3049    2.133414e+06\n",
      "2957    8.981472e+05\n",
      "8      -3.587034e+04\n",
      "            ...     \n",
      "1260   -2.245007e+06\n",
      "325     1.442244e+06\n",
      "1051    8.810030e+05\n",
      "2750   -1.538840e+05\n",
      "3071    4.332092e+05\n",
      "Name: PRICE, Length: 1201, dtype: float64\n"
     ]
    }
   ],
   "execution_count": 109
  },
  {
   "metadata": {
    "ExecuteTime": {
     "end_time": "2024-11-15T09:21:35.439501Z",
     "start_time": "2024-11-15T09:21:34.834321Z"
    }
   },
   "cell_type": "code",
   "source": "sns.displot(residuals,kind='kde')",
   "id": "7f759c582423a01b",
   "outputs": [
    {
     "data": {
      "text/plain": [
       "<seaborn.axisgrid.FacetGrid at 0x12efef01790>"
      ]
     },
     "execution_count": 110,
     "metadata": {},
     "output_type": "execute_result"
    },
    {
     "data": {
      "text/plain": [
       "<Figure size 500x500 with 1 Axes>"
      ],
      "image/png": "[encoded data removed]"
     },
     "metadata": {},
     "output_type": "display_data"
    }
   ],
   "execution_count": 110
  },
  {
   "metadata": {
    "ExecuteTime": {
     "end_time": "2024-11-15T09:16:49.237265Z",
     "start_time": "2024-11-15T09:16:49.226869Z"
    }
   },
   "cell_type": "code",
   "source": [
    "print(\"Mean Squared Error:\",mean_squared_error(y_test,y_pred))\n",
    "print(\"Mean Absolute Error:\",mean_absolute_error(y_test,y_pred))\n",
    "print(\"Root Mean Squared Error:\",np.sqrt(mean_squared_error(y_test,y_pred)))"
   ],
   "id": "fde00f9ecac3b949",
   "outputs": [
    {
     "name": "stdout",
     "output_type": "stream",
     "text": [
      "Mean Squared Error: 18722689206858.01\n",
      "Mean Absolute Error: 1892500.4365195846\n",
      "Root Mean Squared Error: 4326972.290974142\n"
     ]
    }
   ],
   "execution_count": 105
  },
  {
   "metadata": {
    "ExecuteTime": {
     "end_time": "2024-11-15T09:16:51.262768Z",
     "start_time": "2024-11-15T09:16:51.254578Z"
    }
   },
   "cell_type": "code",
   "source": [
    "r2 = r2_score(y_test, y_pred)\n",
    "n = len(y_train)\n",
    "p = X.shape[1]\n",
    "adjusted_r2 = 1 - (1 - r2) * ((n - 1) / (n - p - 1))\n",
    "\n",
    "print(\"R2 Score:\",r2)\n",
    "print(\"Adjusted R2 Score:\",adjusted_r2)"
   ],
   "id": "eccc02ed19a7b312",
   "outputs": [
    {
     "name": "stdout",
     "output_type": "stream",
     "text": [
      "R2 Score: 0.15291907189587817\n",
      "Adjusted R2 Score: 0.1526836408430421\n"
     ]
    }
   ],
   "execution_count": 106
  },
  {
   "metadata": {
    "ExecuteTime": {
     "end_time": "2024-11-15T09:11:00.435503Z",
     "start_time": "2024-11-15T09:11:00.420943Z"
    }
   },
   "cell_type": "code",
   "source": [
    "model=sm.OLS(y_train,X_train).fit()\n",
    "prediction=model.predict(X_test)\n",
    "print(prediction)"
   ],
   "id": "cc7cabe7c86b125f",
   "outputs": [
    {
     "name": "stdout",
     "output_type": "stream",
     "text": [
      "[ 1617649.69303494 -1806260.09521579  3156723.94236076 ...\n",
      "  -961340.56150555 -2601600.29452397 -3661385.09740967]\n"
     ]
    }
   ],
   "execution_count": 86
  },
  {
   "metadata": {
    "ExecuteTime": {
     "end_time": "2024-11-15T09:07:23.930181Z",
     "start_time": "2024-11-15T09:07:23.877607Z"
    }
   },
   "cell_type": "code",
   "source": "model.summary()",
   "id": "83414b966bd0a915",
   "outputs": [
    {
     "data": {
      "text/plain": [
       "<class 'statsmodels.iolib.summary.Summary'>\n",
       "\"\"\"\n",
       "                                 OLS Regression Results                                \n",
       "=======================================================================================\n",
       "Dep. Variable:                  PRICE   R-squared (uncentered):                   0.015\n",
       "Model:                            OLS   Adj. R-squared (uncentered):              0.014\n",
       "Method:                 Least Squares   F-statistic:                              11.29\n",
       "Date:                Fri, 15 Nov 2024   Prob (F-statistic):                    7.93e-11\n",
       "Time:                        14:37:23   Log-Likelihood:                         -67736.\n",
       "No. Observations:                3600   AIC:                                  1.355e+05\n",
       "Df Residuals:                    3595   BIC:                                  1.355e+05\n",
       "Df Model:                           5                                                  \n",
       "Covariance Type:            nonrobust                                                  \n",
       "==============================================================================\n",
       "                 coef    std err          t      P>|t|      [0.025      0.975]\n",
       "------------------------------------------------------------------------------\n",
       "x1         -1.054e+06   1.01e+06     -1.041      0.298   -3.04e+06    9.31e+05\n",
       "x2          1.931e+06   1.04e+06      1.850      0.064   -1.16e+05    3.98e+06\n",
       "x3          3.328e+06    6.8e+05      4.896      0.000       2e+06    4.66e+06\n",
       "x4         -5.884e+04   6.99e+05     -0.084      0.933   -1.43e+06    1.31e+06\n",
       "x5         -1.878e+06   7.01e+05     -2.679      0.007   -3.25e+06   -5.04e+05\n",
       "==============================================================================\n",
       "Omnibus:                    12037.307   Durbin-Watson:                   1.985\n",
       "Prob(Omnibus):                  0.000   Jarque-Bera (JB):       1787958243.163\n",
       "Skew:                          58.179   Prob(JB):                         0.00\n",
       "Kurtosis:                    3453.534   Cond. No.                         3.36\n",
       "==============================================================================\n",
       "\n",
       "Notes:\n",
       "[1] R² is computed without centering (uncentered) since the model does not contain a constant.\n",
       "[2] Standard Errors assume that the covariance matrix of the errors is correctly specified.\n",
       "\"\"\""
      ],
      "text/html": [
       "<table class=\"simpletable\">\n",
       "<caption>OLS Regression Results</caption>\n",
       "<tr>\n",
       "  <th>Dep. Variable:</th>          <td>PRICE</td>      <th>  R-squared (uncentered):</th>      <td>   0.015</td> \n",
       "</tr>\n",
       "<tr>\n",
       "  <th>Model:</th>                   <td>OLS</td>       <th>  Adj. R-squared (uncentered):</th> <td>   0.014</td> \n",
       "</tr>\n",
       "<tr>\n",
       "  <th>Method:</th>             <td>Least Squares</td>  <th>  F-statistic:       </th>          <td>   11.29</td> \n",
       "</tr>\n",
       "<tr>\n",
       "  <th>Date:</th>             <td>Fri, 15 Nov 2024</td> <th>  Prob (F-statistic):</th>          <td>7.93e-11</td> \n",
       "</tr>\n",
       "<tr>\n",
       "  <th>Time:</th>                 <td>14:37:23</td>     <th>  Log-Likelihood:    </th>          <td> -67736.</td> \n",
       "</tr>\n",
       "<tr>\n",
       "  <th>No. Observations:</th>      <td>  3600</td>      <th>  AIC:               </th>          <td>1.355e+05</td>\n",
       "</tr>\n",
       "<tr>\n",
       "  <th>Df Residuals:</th>          <td>  3595</td>      <th>  BIC:               </th>          <td>1.355e+05</td>\n",
       "</tr>\n",
       "<tr>\n",
       "  <th>Df Model:</th>              <td>     5</td>      <th>                     </th>              <td> </td>    \n",
       "</tr>\n",
       "<tr>\n",
       "  <th>Covariance Type:</th>      <td>nonrobust</td>    <th>                     </th>              <td> </td>    \n",
       "</tr>\n",
       "</table>\n",
       "<table class=\"simpletable\">\n",
       "<tr>\n",
       "   <td></td>     <th>coef</th>     <th>std err</th>      <th>t</th>      <th>P>|t|</th>  <th>[0.025</th>    <th>0.975]</th>  \n",
       "</tr>\n",
       "<tr>\n",
       "  <th>x1</th> <td>-1.054e+06</td> <td> 1.01e+06</td> <td>   -1.041</td> <td> 0.298</td> <td>-3.04e+06</td> <td> 9.31e+05</td>\n",
       "</tr>\n",
       "<tr>\n",
       "  <th>x2</th> <td> 1.931e+06</td> <td> 1.04e+06</td> <td>    1.850</td> <td> 0.064</td> <td>-1.16e+05</td> <td> 3.98e+06</td>\n",
       "</tr>\n",
       "<tr>\n",
       "  <th>x3</th> <td> 3.328e+06</td> <td>  6.8e+05</td> <td>    4.896</td> <td> 0.000</td> <td>    2e+06</td> <td> 4.66e+06</td>\n",
       "</tr>\n",
       "<tr>\n",
       "  <th>x4</th> <td>-5.884e+04</td> <td> 6.99e+05</td> <td>   -0.084</td> <td> 0.933</td> <td>-1.43e+06</td> <td> 1.31e+06</td>\n",
       "</tr>\n",
       "<tr>\n",
       "  <th>x5</th> <td>-1.878e+06</td> <td> 7.01e+05</td> <td>   -2.679</td> <td> 0.007</td> <td>-3.25e+06</td> <td>-5.04e+05</td>\n",
       "</tr>\n",
       "</table>\n",
       "<table class=\"simpletable\">\n",
       "<tr>\n",
       "  <th>Omnibus:</th>       <td>12037.307</td> <th>  Durbin-Watson:     </th>    <td>   1.985</td>   \n",
       "</tr>\n",
       "<tr>\n",
       "  <th>Prob(Omnibus):</th>  <td> 0.000</td>   <th>  Jarque-Bera (JB):  </th> <td>1787958243.163</td>\n",
       "</tr>\n",
       "<tr>\n",
       "  <th>Skew:</th>           <td>58.179</td>   <th>  Prob(JB):          </th>    <td>    0.00</td>   \n",
       "</tr>\n",
       "<tr>\n",
       "  <th>Kurtosis:</th>      <td>3453.534</td>  <th>  Cond. No.          </th>    <td>    3.36</td>   \n",
       "</tr>\n",
       "</table><br/><br/>Notes:<br/>[1] R² is computed without centering (uncentered) since the model does not contain a constant.<br/>[2] Standard Errors assume that the covariance matrix of the errors is correctly specified."
      ],
      "text/latex": "\\begin{center}\n\\begin{tabular}{lclc}\n\\toprule\n\\textbf{Dep. Variable:}    &      PRICE       & \\textbf{  R-squared (uncentered):}      &       0.015     \\\\\n\\textbf{Model:}            &       OLS        & \\textbf{  Adj. R-squared (uncentered):} &       0.014     \\\\\n\\textbf{Method:}           &  Least Squares   & \\textbf{  F-statistic:       }          &       11.29     \\\\\n\\textbf{Date:}             & Fri, 15 Nov 2024 & \\textbf{  Prob (F-statistic):}          &    7.93e-11     \\\\\n\\textbf{Time:}             &     14:37:23     & \\textbf{  Log-Likelihood:    }          &     -67736.     \\\\\n\\textbf{No. Observations:} &        3600      & \\textbf{  AIC:               }          &   1.355e+05     \\\\\n\\textbf{Df Residuals:}     &        3595      & \\textbf{  BIC:               }          &   1.355e+05     \\\\\n\\textbf{Df Model:}         &           5      & \\textbf{                     }          &                 \\\\\n\\textbf{Covariance Type:}  &    nonrobust     & \\textbf{                     }          &                 \\\\\n\\bottomrule\n\\end{tabular}\n\\begin{tabular}{lcccccc}\n            & \\textbf{coef} & \\textbf{std err} & \\textbf{t} & \\textbf{P$> |$t$|$} & \\textbf{[0.025} & \\textbf{0.975]}  \\\\\n\\midrule\n\\textbf{x1} &   -1.054e+06  &     1.01e+06     &    -1.041  &         0.298        &    -3.04e+06    &     9.31e+05     \\\\\n\\textbf{x2} &    1.931e+06  &     1.04e+06     &     1.850  &         0.064        &    -1.16e+05    &     3.98e+06     \\\\\n\\textbf{x3} &    3.328e+06  &      6.8e+05     &     4.896  &         0.000        &        2e+06    &     4.66e+06     \\\\\n\\textbf{x4} &   -5.884e+04  &     6.99e+05     &    -0.084  &         0.933        &    -1.43e+06    &     1.31e+06     \\\\\n\\textbf{x5} &   -1.878e+06  &     7.01e+05     &    -2.679  &         0.007        &    -3.25e+06    &    -5.04e+05     \\\\\n\\bottomrule\n\\end{tabular}\n\\begin{tabular}{lclc}\n\\textbf{Omnibus:}       & 12037.307 & \\textbf{  Durbin-Watson:     } &       1.985     \\\\\n\\textbf{Prob(Omnibus):} &    0.000  & \\textbf{  Jarque-Bera (JB):  } & 1787958243.163  \\\\\n\\textbf{Skew:}          &   58.179  & \\textbf{  Prob(JB):          } &        0.00     \\\\\n\\textbf{Kurtosis:}      &  3453.534 & \\textbf{  Cond. No.          } &        3.36     \\\\\n\\bottomrule\n\\end{tabular}\n%\\caption{OLS Regression Results}\n\\end{center}\n\nNotes: \\newline\n [1] R² is computed without centering (uncentered) since the model does not contain a constant. \\newline\n [2] Standard Errors assume that the covariance matrix of the errors is correctly specified."
     },
     "execution_count": 49,
     "metadata": {},
     "output_type": "execute_result"
    }
   ],
   "execution_count": 49
  }
 ],
 "metadata": {
  "kernelspec": {
   "display_name": "Python 3",
   "language": "python",
   "name": "python3"
  },
  "language_info": {
   "codemirror_mode": {
    "name": "ipython",
    "version": 2
   },
   "file_extension": ".py",
   "mimetype": "text/x-python",
   "name": "python",
   "nbconvert_exporter": "python",
   "pygments_lexer": "ipython2",
   "version": "2.7.6"
  }
 },
 "nbformat": 4,
 "nbformat_minor": 5
}
